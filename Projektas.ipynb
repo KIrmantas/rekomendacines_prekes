{
 "cells": [
  {
   "cell_type": "markdown",
   "id": "94f2686a",
   "metadata": {},
   "source": [
    "## Moduliai"
   ]
  },
  {
   "cell_type": "code",
   "execution_count": 1,
   "id": "46514308",
   "metadata": {
    "ExecuteTime": {
     "end_time": "2023-03-28T07:52:17.956902Z",
     "start_time": "2023-03-28T07:52:13.313516Z"
    }
   },
   "outputs": [
    {
     "data": {
      "text/html": [
       "<style>.container { width:90% !important; }</style>"
      ],
      "text/plain": [
       "<IPython.core.display.HTML object>"
      ]
     },
     "metadata": {},
     "output_type": "display_data"
    },
    {
     "data": {
      "application/javascript": [
       "\n",
       "            setTimeout(function() {\n",
       "                var nbb_cell_id = 1;\n",
       "                var nbb_unformatted_code = \"%load_ext nb_black\\n\\nimport pandas as pd\\nimport numpy as np\\nimport glob\\nimport os\\nimport sys\\n\\nfrom mlxtend.preprocessing import TransactionEncoder\\nfrom mlxtend.frequent_patterns import apriori, fpgrowth\\nfrom mlxtend.frequent_patterns import association_rules\\n\\nfrom sklearn.neighbors import NearestNeighbors\\nfrom sklearn.preprocessing import MinMaxScaler\\n\\nfrom scipy.sparse import csr_matrix\\n\\n\\nfrom IPython.display import display, HTML\\n\\ndisplay(HTML(\\\"<style>.container { width:90% !important; }</style>\\\"))\\n\\n# pd.set_option(\\\"mode.chained_assignment\\\", None)\";\n",
       "                var nbb_formatted_code = \"%load_ext nb_black\\n\\nimport pandas as pd\\nimport numpy as np\\nimport glob\\nimport os\\nimport sys\\n\\nfrom mlxtend.preprocessing import TransactionEncoder\\nfrom mlxtend.frequent_patterns import apriori, fpgrowth\\nfrom mlxtend.frequent_patterns import association_rules\\n\\nfrom sklearn.neighbors import NearestNeighbors\\nfrom sklearn.preprocessing import MinMaxScaler\\n\\nfrom scipy.sparse import csr_matrix\\n\\n\\nfrom IPython.display import display, HTML\\n\\ndisplay(HTML(\\\"<style>.container { width:90% !important; }</style>\\\"))\\n\\n# pd.set_option(\\\"mode.chained_assignment\\\", None)\";\n",
       "                var nbb_cells = Jupyter.notebook.get_cells();\n",
       "                for (var i = 0; i < nbb_cells.length; ++i) {\n",
       "                    if (nbb_cells[i].input_prompt_number == nbb_cell_id) {\n",
       "                        if (nbb_cells[i].get_text() == nbb_unformatted_code) {\n",
       "                             nbb_cells[i].set_text(nbb_formatted_code);\n",
       "                        }\n",
       "                        break;\n",
       "                    }\n",
       "                }\n",
       "            }, 500);\n",
       "            "
      ],
      "text/plain": [
       "<IPython.core.display.Javascript object>"
      ]
     },
     "metadata": {},
     "output_type": "display_data"
    }
   ],
   "source": [
    "%load_ext nb_black\n",
    "\n",
    "import pandas as pd\n",
    "import numpy as np\n",
    "import glob\n",
    "import os\n",
    "import sys\n",
    "\n",
    "from mlxtend.preprocessing import TransactionEncoder\n",
    "from mlxtend.frequent_patterns import apriori, fpgrowth\n",
    "from mlxtend.frequent_patterns import association_rules\n",
    "\n",
    "from sklearn.neighbors import NearestNeighbors\n",
    "from sklearn.preprocessing import MinMaxScaler\n",
    "\n",
    "from scipy.sparse import csr_matrix\n",
    "\n",
    "\n",
    "from IPython.display import display, HTML\n",
    "\n",
    "display(HTML(\"<style>.container { width:90% !important; }</style>\"))\n",
    "\n",
    "# pd.set_option(\"mode.chained_assignment\", None)"
   ]
  },
  {
   "cell_type": "markdown",
   "id": "46ca8c0c",
   "metadata": {},
   "source": [
    "## Duomenų skaitymas, tvarkymas"
   ]
  },
  {
   "cell_type": "code",
   "execution_count": 16,
   "id": "7a49986b",
   "metadata": {
    "ExecuteTime": {
     "end_time": "2023-03-28T09:12:34.819070Z",
     "start_time": "2023-03-28T09:12:34.792031Z"
    },
    "code_folding": [
     0
    ]
   },
   "outputs": [
    {
     "data": {
      "application/javascript": [
       "\n",
       "            setTimeout(function() {\n",
       "                var nbb_cell_id = 16;\n",
       "                var nbb_unformatted_code = \"def read_txt(filename: str):\\n    df = pd.read_csv(\\n        filename,\\n        sep=\\\"\\\\t\\\",\\n        #     nrows=100000,\\n        #         thousands=\\\".\\\",\\n        #         decimal=\\\",\\\",\\n        #         usecols=range(1, 16),\\n        dtype={\\n            1: str,\\n            2: str,\\n            3: str,\\n            4: str,\\n            5: str,\\n            7: str,\\n            8: str,\\n            9: str,\\n            10: str,\\n            11: str,\\n        },\\n        encoding=\\\"utf-8\\\",\\n    )\\n    return df\";\n",
       "                var nbb_formatted_code = \"def read_txt(filename: str):\\n    df = pd.read_csv(\\n        filename,\\n        sep=\\\"\\\\t\\\",\\n        #     nrows=100000,\\n        #         thousands=\\\".\\\",\\n        #         decimal=\\\",\\\",\\n        #         usecols=range(1, 16),\\n        dtype={\\n            1: str,\\n            2: str,\\n            3: str,\\n            4: str,\\n            5: str,\\n            7: str,\\n            8: str,\\n            9: str,\\n            10: str,\\n            11: str,\\n        },\\n        encoding=\\\"utf-8\\\",\\n    )\\n    return df\";\n",
       "                var nbb_cells = Jupyter.notebook.get_cells();\n",
       "                for (var i = 0; i < nbb_cells.length; ++i) {\n",
       "                    if (nbb_cells[i].input_prompt_number == nbb_cell_id) {\n",
       "                        if (nbb_cells[i].get_text() == nbb_unformatted_code) {\n",
       "                             nbb_cells[i].set_text(nbb_formatted_code);\n",
       "                        }\n",
       "                        break;\n",
       "                    }\n",
       "                }\n",
       "            }, 500);\n",
       "            "
      ],
      "text/plain": [
       "<IPython.core.display.Javascript object>"
      ]
     },
     "metadata": {},
     "output_type": "display_data"
    }
   ],
   "source": [
    "def read_txt(filename: str):\n",
    "    df = pd.read_csv(\n",
    "        filename,\n",
    "        sep=\"\\t\",\n",
    "        #     nrows=100000,\n",
    "        #         thousands=\".\",\n",
    "        #         decimal=\",\",\n",
    "        #         usecols=range(1, 16),\n",
    "        dtype={\n",
    "            1: str,\n",
    "            2: str,\n",
    "            3: str,\n",
    "            4: str,\n",
    "            5: str,\n",
    "            7: str,\n",
    "            8: str,\n",
    "            9: str,\n",
    "            10: str,\n",
    "            11: str,\n",
    "        },\n",
    "        encoding=\"utf-8\",\n",
    "    )\n",
    "    return df"
   ]
  },
  {
   "cell_type": "code",
   "execution_count": 17,
   "id": "b8dc8af7",
   "metadata": {
    "ExecuteTime": {
     "end_time": "2023-03-28T09:12:39.311937Z",
     "start_time": "2023-03-28T09:12:38.800267Z"
    }
   },
   "outputs": [
    {
     "data": {
      "application/javascript": [
       "\n",
       "            setTimeout(function() {\n",
       "                var nbb_cell_id = 17;\n",
       "                var nbb_unformatted_code = \"path = r\\\".\\\\data\\\"  # use your path\\nall_files = glob.glob(path + \\\"/*.txt\\\")\\n\\n# ls = [read_txt(file) for file in all_files]\\n# df0 = pd.concat(ls)\\ndf0 = read_txt(all_files[0])\";\n",
       "                var nbb_formatted_code = \"path = r\\\".\\\\data\\\"  # use your path\\nall_files = glob.glob(path + \\\"/*.txt\\\")\\n\\n# ls = [read_txt(file) for file in all_files]\\n# df0 = pd.concat(ls)\\ndf0 = read_txt(all_files[0])\";\n",
       "                var nbb_cells = Jupyter.notebook.get_cells();\n",
       "                for (var i = 0; i < nbb_cells.length; ++i) {\n",
       "                    if (nbb_cells[i].input_prompt_number == nbb_cell_id) {\n",
       "                        if (nbb_cells[i].get_text() == nbb_unformatted_code) {\n",
       "                             nbb_cells[i].set_text(nbb_formatted_code);\n",
       "                        }\n",
       "                        break;\n",
       "                    }\n",
       "                }\n",
       "            }, 500);\n",
       "            "
      ],
      "text/plain": [
       "<IPython.core.display.Javascript object>"
      ]
     },
     "metadata": {},
     "output_type": "display_data"
    }
   ],
   "source": [
    "path = r\".\\data\"  # use your path\n",
    "all_files = glob.glob(path + \"/*.txt\")\n",
    "\n",
    "# ls = [read_txt(file) for file in all_files]\n",
    "# df0 = pd.concat(ls)\n",
    "df0 = read_txt(all_files[0])"
   ]
  },
  {
   "cell_type": "code",
   "execution_count": 18,
   "id": "d9a19b2b",
   "metadata": {
    "ExecuteTime": {
     "end_time": "2023-03-28T09:12:41.164211Z",
     "start_time": "2023-03-28T09:12:41.136257Z"
    }
   },
   "outputs": [
    {
     "name": "stdout",
     "output_type": "stream",
     "text": [
      "(204124, 11)\n"
     ]
    },
    {
     "data": {
      "text/html": [
       "<div>\n",
       "<style scoped>\n",
       "    .dataframe tbody tr th:only-of-type {\n",
       "        vertical-align: middle;\n",
       "    }\n",
       "\n",
       "    .dataframe tbody tr th {\n",
       "        vertical-align: top;\n",
       "    }\n",
       "\n",
       "    .dataframe thead th {\n",
       "        text-align: right;\n",
       "    }\n",
       "</style>\n",
       "<table border=\"1\" class=\"dataframe\">\n",
       "  <thead>\n",
       "    <tr style=\"text-align: right;\">\n",
       "      <th></th>\n",
       "      <th>kvitas</th>\n",
       "      <th>nom_id</th>\n",
       "      <th>artikulas</th>\n",
       "      <th>preke</th>\n",
       "      <th>parduotuve</th>\n",
       "      <th>pirkejo_id</th>\n",
       "      <th>kategorija</th>\n",
       "      <th>kat_id</th>\n",
       "      <th>brendas</th>\n",
       "      <th>brendo_id</th>\n",
       "      <th>tipas</th>\n",
       "    </tr>\n",
       "  </thead>\n",
       "  <tbody>\n",
       "    <tr>\n",
       "      <th>0</th>\n",
       "      <td>G12021971</td>\n",
       "      <td>0028025</td>\n",
       "      <td>_EKOK018100F</td>\n",
       "      <td>*Vienkartinės kepuraitės 1/100vnt.</td>\n",
       "      <td>Kaunas, Molas, Cascada</td>\n",
       "      <td>A13319</td>\n",
       "      <td>Grozis - nebegaminami</td>\n",
       "      <td>0023542</td>\n",
       "      <td>Eko Higiena</td>\n",
       "      <td>00294</td>\n",
       "      <td>Pardavimas per EKA</td>\n",
       "    </tr>\n",
       "    <tr>\n",
       "      <th>1</th>\n",
       "      <td>G12021971</td>\n",
       "      <td>0027487</td>\n",
       "      <td>EKOK05380CM8</td>\n",
       "      <td>Paklodė rulone 80cm/80m</td>\n",
       "      <td>Kaunas, Molas, Cascada</td>\n",
       "      <td>A13319</td>\n",
       "      <td>Vienkartinės paklodės</td>\n",
       "      <td>0052186</td>\n",
       "      <td>Eko Higiena</td>\n",
       "      <td>00294</td>\n",
       "      <td>Pardavimas per EKA</td>\n",
       "    </tr>\n",
       "    <tr>\n",
       "      <th>2</th>\n",
       "      <td>G14003366</td>\n",
       "      <td>0023747</td>\n",
       "      <td>SIMR18</td>\n",
       "      <td>Natūralus žalias vaškas kasetėje 100ml.</td>\n",
       "      <td>Kaunas, Mega, Cascada</td>\n",
       "      <td>A69846</td>\n",
       "      <td>Vaškas kasetėse</td>\n",
       "      <td>0052002</td>\n",
       "      <td>Simple Use Beauty</td>\n",
       "      <td>00174</td>\n",
       "      <td>Pardavimas per EKA</td>\n",
       "    </tr>\n",
       "    <tr>\n",
       "      <th>3</th>\n",
       "      <td>G14003366</td>\n",
       "      <td>0023746</td>\n",
       "      <td>SIMR20</td>\n",
       "      <td>Natūralus geltonas vaškas kasetėje 100ml.</td>\n",
       "      <td>Kaunas, Mega, Cascada</td>\n",
       "      <td>A69846</td>\n",
       "      <td>Vaškas kasetėse</td>\n",
       "      <td>0052002</td>\n",
       "      <td>Simple Use Beauty</td>\n",
       "      <td>00174</td>\n",
       "      <td>Pardavimas per EKA</td>\n",
       "    </tr>\n",
       "    <tr>\n",
       "      <th>4</th>\n",
       "      <td>G03003491</td>\n",
       "      <td>0023178</td>\n",
       "      <td>NKG</td>\n",
       "      <td>Aktyvacijos mokestis NK grožio prekėms</td>\n",
       "      <td>Kaunas, Akropolis, Cascada</td>\n",
       "      <td>C096837</td>\n",
       "      <td>Nepaskirstytos</td>\n",
       "      <td>0052243</td>\n",
       "      <td>Nuolaidų Kortelės</td>\n",
       "      <td>04881</td>\n",
       "      <td>Pardavimas per EKA</td>\n",
       "    </tr>\n",
       "  </tbody>\n",
       "</table>\n",
       "</div>"
      ],
      "text/plain": [
       "      kvitas   nom_id     artikulas  \\\n",
       "0  G12021971  0028025  _EKOK018100F   \n",
       "1  G12021971  0027487  EKOK05380CM8   \n",
       "2  G14003366  0023747        SIMR18   \n",
       "3  G14003366  0023746        SIMR20   \n",
       "4  G03003491  0023178           NKG   \n",
       "\n",
       "                                       preke                  parduotuve  \\\n",
       "0         *Vienkartinės kepuraitės 1/100vnt.      Kaunas, Molas, Cascada   \n",
       "1                   Paklodė rulone 80cm/80m       Kaunas, Molas, Cascada   \n",
       "2    Natūralus žalias vaškas kasetėje 100ml.       Kaunas, Mega, Cascada   \n",
       "3  Natūralus geltonas vaškas kasetėje 100ml.       Kaunas, Mega, Cascada   \n",
       "4     Aktyvacijos mokestis NK grožio prekėms  Kaunas, Akropolis, Cascada   \n",
       "\n",
       "  pirkejo_id             kategorija   kat_id            brendas brendo_id  \\\n",
       "0     A13319  Grozis - nebegaminami  0023542        Eko Higiena     00294   \n",
       "1     A13319  Vienkartinės paklodės  0052186        Eko Higiena     00294   \n",
       "2     A69846        Vaškas kasetėse  0052002  Simple Use Beauty     00174   \n",
       "3     A69846        Vaškas kasetėse  0052002  Simple Use Beauty     00174   \n",
       "4    C096837         Nepaskirstytos  0052243  Nuolaidų Kortelės     04881   \n",
       "\n",
       "                tipas  \n",
       "0  Pardavimas per EKA  \n",
       "1  Pardavimas per EKA  \n",
       "2  Pardavimas per EKA  \n",
       "3  Pardavimas per EKA  \n",
       "4  Pardavimas per EKA  "
      ]
     },
     "execution_count": 18,
     "metadata": {},
     "output_type": "execute_result"
    },
    {
     "data": {
      "application/javascript": [
       "\n",
       "            setTimeout(function() {\n",
       "                var nbb_cell_id = 18;\n",
       "                var nbb_unformatted_code = \"print(df0.shape)\\ndf0.head()\";\n",
       "                var nbb_formatted_code = \"print(df0.shape)\\ndf0.head()\";\n",
       "                var nbb_cells = Jupyter.notebook.get_cells();\n",
       "                for (var i = 0; i < nbb_cells.length; ++i) {\n",
       "                    if (nbb_cells[i].input_prompt_number == nbb_cell_id) {\n",
       "                        if (nbb_cells[i].get_text() == nbb_unformatted_code) {\n",
       "                             nbb_cells[i].set_text(nbb_formatted_code);\n",
       "                        }\n",
       "                        break;\n",
       "                    }\n",
       "                }\n",
       "            }, 500);\n",
       "            "
      ],
      "text/plain": [
       "<IPython.core.display.Javascript object>"
      ]
     },
     "metadata": {},
     "output_type": "display_data"
    }
   ],
   "source": [
    "print(df0.shape)\n",
    "df0.head()"
   ]
  },
  {
   "cell_type": "code",
   "execution_count": 19,
   "id": "be341b80",
   "metadata": {
    "ExecuteTime": {
     "end_time": "2023-03-28T09:12:44.515042Z",
     "start_time": "2023-03-28T09:12:44.191906Z"
    }
   },
   "outputs": [
    {
     "name": "stdout",
     "output_type": "stream",
     "text": [
      "<class 'pandas.core.frame.DataFrame'>\n",
      "RangeIndex: 204124 entries, 0 to 204123\n",
      "Data columns (total 11 columns):\n",
      " #   Column      Non-Null Count   Dtype \n",
      "---  ------      --------------   ----- \n",
      " 0   kvitas      204124 non-null  object\n",
      " 1   nom_id      204124 non-null  object\n",
      " 2   artikulas   204124 non-null  object\n",
      " 3   preke       204124 non-null  object\n",
      " 4   parduotuve  204124 non-null  object\n",
      " 5   pirkejo_id  110373 non-null  object\n",
      " 6   kategorija  204124 non-null  object\n",
      " 7   kat_id      204124 non-null  object\n",
      " 8   brendas     204120 non-null  object\n",
      " 9   brendo_id   204120 non-null  object\n",
      " 10  tipas       204124 non-null  object\n",
      "dtypes: object(11)\n",
      "memory usage: 17.1+ MB\n"
     ]
    },
    {
     "data": {
      "application/javascript": [
       "\n",
       "            setTimeout(function() {\n",
       "                var nbb_cell_id = 19;\n",
       "                var nbb_unformatted_code = \"df0.info()\";\n",
       "                var nbb_formatted_code = \"df0.info()\";\n",
       "                var nbb_cells = Jupyter.notebook.get_cells();\n",
       "                for (var i = 0; i < nbb_cells.length; ++i) {\n",
       "                    if (nbb_cells[i].input_prompt_number == nbb_cell_id) {\n",
       "                        if (nbb_cells[i].get_text() == nbb_unformatted_code) {\n",
       "                             nbb_cells[i].set_text(nbb_formatted_code);\n",
       "                        }\n",
       "                        break;\n",
       "                    }\n",
       "                }\n",
       "            }, 500);\n",
       "            "
      ],
      "text/plain": [
       "<IPython.core.display.Javascript object>"
      ]
     },
     "metadata": {},
     "output_type": "display_data"
    }
   ],
   "source": [
    "df0.info()"
   ]
  },
  {
   "cell_type": "markdown",
   "id": "3d3790ac",
   "metadata": {},
   "source": [
    "Unikalių prekių"
   ]
  },
  {
   "cell_type": "code",
   "execution_count": 20,
   "id": "ed307ce0",
   "metadata": {
    "ExecuteTime": {
     "end_time": "2023-03-28T09:12:47.020224Z",
     "start_time": "2023-03-28T09:12:46.977361Z"
    }
   },
   "outputs": [
    {
     "data": {
      "text/plain": [
       "10035"
      ]
     },
     "execution_count": 20,
     "metadata": {},
     "output_type": "execute_result"
    },
    {
     "data": {
      "application/javascript": [
       "\n",
       "            setTimeout(function() {\n",
       "                var nbb_cell_id = 20;\n",
       "                var nbb_unformatted_code = \"df0[\\\"nom_id\\\"].value_counts().count()\";\n",
       "                var nbb_formatted_code = \"df0[\\\"nom_id\\\"].value_counts().count()\";\n",
       "                var nbb_cells = Jupyter.notebook.get_cells();\n",
       "                for (var i = 0; i < nbb_cells.length; ++i) {\n",
       "                    if (nbb_cells[i].input_prompt_number == nbb_cell_id) {\n",
       "                        if (nbb_cells[i].get_text() == nbb_unformatted_code) {\n",
       "                             nbb_cells[i].set_text(nbb_formatted_code);\n",
       "                        }\n",
       "                        break;\n",
       "                    }\n",
       "                }\n",
       "            }, 500);\n",
       "            "
      ],
      "text/plain": [
       "<IPython.core.display.Javascript object>"
      ]
     },
     "metadata": {},
     "output_type": "display_data"
    }
   ],
   "source": [
    "df0[\"nom_id\"].value_counts().count()"
   ]
  },
  {
   "cell_type": "markdown",
   "id": "516defde",
   "metadata": {},
   "source": [
    "Dokumentų tipai"
   ]
  },
  {
   "cell_type": "code",
   "execution_count": 21,
   "id": "c5ebcb6a",
   "metadata": {
    "ExecuteTime": {
     "end_time": "2023-03-28T09:12:50.144308Z",
     "start_time": "2023-03-28T09:12:50.112417Z"
    }
   },
   "outputs": [
    {
     "data": {
      "text/plain": [
       "Pardavimas per EKA       203763\n",
       "Grąžinimas iš pirkėjo       361\n",
       "Name: tipas, dtype: int64"
      ]
     },
     "execution_count": 21,
     "metadata": {},
     "output_type": "execute_result"
    },
    {
     "data": {
      "application/javascript": [
       "\n",
       "            setTimeout(function() {\n",
       "                var nbb_cell_id = 21;\n",
       "                var nbb_unformatted_code = \"df0[\\\"tipas\\\"].value_counts()\";\n",
       "                var nbb_formatted_code = \"df0[\\\"tipas\\\"].value_counts()\";\n",
       "                var nbb_cells = Jupyter.notebook.get_cells();\n",
       "                for (var i = 0; i < nbb_cells.length; ++i) {\n",
       "                    if (nbb_cells[i].input_prompt_number == nbb_cell_id) {\n",
       "                        if (nbb_cells[i].get_text() == nbb_unformatted_code) {\n",
       "                             nbb_cells[i].set_text(nbb_formatted_code);\n",
       "                        }\n",
       "                        break;\n",
       "                    }\n",
       "                }\n",
       "            }, 500);\n",
       "            "
      ],
      "text/plain": [
       "<IPython.core.display.Javascript object>"
      ]
     },
     "metadata": {},
     "output_type": "display_data"
    }
   ],
   "source": [
    "df0[\"tipas\"].value_counts()"
   ]
  },
  {
   "cell_type": "markdown",
   "id": "df9beda9",
   "metadata": {
    "ExecuteTime": {
     "end_time": "2023-03-16T17:33:11.182961Z",
     "start_time": "2023-03-16T17:33:11.166326Z"
    }
   },
   "source": [
    "Triname grąžinimus, bei eilutes be kvito numerio, prekes, kurios yra \"Maišeliai ir dėžutės\" bei \"Nuolaidų Kortelės\" kategorijoje. "
   ]
  },
  {
   "cell_type": "code",
   "execution_count": 22,
   "id": "f72fc835",
   "metadata": {
    "ExecuteTime": {
     "end_time": "2023-03-28T09:12:55.551804Z",
     "start_time": "2023-03-28T09:12:55.344359Z"
    },
    "scrolled": false
   },
   "outputs": [
    {
     "data": {
      "application/javascript": [
       "\n",
       "            setTimeout(function() {\n",
       "                var nbb_cell_id = 22;\n",
       "                var nbb_unformatted_code = \"df1 = df0[df0[\\\"tipas\\\"] != \\\"Gr\\u0105\\u017einimas i\\u0161 pirk\\u0117jo\\\"]\\ndf1 = df1[~df1[\\\"kvitas\\\"].isna()]\\ndf1 = df1[~(df1[\\\"kat_id\\\"] == \\\"0042490\\\")]  # \\\"Mai\\u0161eliai ir d\\u0117\\u017eut\\u0117s\\\"\\ndf1 = df1[~(df1[\\\"kat_id\\\"] == \\\"0052243\\\")]  # \\\"Nuolaid\\u0173 kortel\\u0117s\\\"\";\n",
       "                var nbb_formatted_code = \"df1 = df0[df0[\\\"tipas\\\"] != \\\"Gr\\u0105\\u017einimas i\\u0161 pirk\\u0117jo\\\"]\\ndf1 = df1[~df1[\\\"kvitas\\\"].isna()]\\ndf1 = df1[~(df1[\\\"kat_id\\\"] == \\\"0042490\\\")]  # \\\"Mai\\u0161eliai ir d\\u0117\\u017eut\\u0117s\\\"\\ndf1 = df1[~(df1[\\\"kat_id\\\"] == \\\"0052243\\\")]  # \\\"Nuolaid\\u0173 kortel\\u0117s\\\"\";\n",
       "                var nbb_cells = Jupyter.notebook.get_cells();\n",
       "                for (var i = 0; i < nbb_cells.length; ++i) {\n",
       "                    if (nbb_cells[i].input_prompt_number == nbb_cell_id) {\n",
       "                        if (nbb_cells[i].get_text() == nbb_unformatted_code) {\n",
       "                             nbb_cells[i].set_text(nbb_formatted_code);\n",
       "                        }\n",
       "                        break;\n",
       "                    }\n",
       "                }\n",
       "            }, 500);\n",
       "            "
      ],
      "text/plain": [
       "<IPython.core.display.Javascript object>"
      ]
     },
     "metadata": {},
     "output_type": "display_data"
    }
   ],
   "source": [
    "df1 = df0[df0[\"tipas\"] != \"Grąžinimas iš pirkėjo\"]\n",
    "df1 = df1[~df1[\"kvitas\"].isna()]\n",
    "df1 = df1[~(df1[\"kat_id\"] == \"0042490\")]  # \"Maišeliai ir dėžutės\"\n",
    "df1 = df1[~(df1[\"kat_id\"] == \"0052243\")]  # \"Nuolaidų kortelės\""
   ]
  },
  {
   "cell_type": "markdown",
   "id": "43a25567",
   "metadata": {
    "ExecuteTime": {
     "end_time": "2023-03-21T15:41:48.712269Z",
     "start_time": "2023-03-21T15:41:44.639830Z"
    }
   },
   "source": [
    "Ištriname nereikalingus stulpelius"
   ]
  },
  {
   "cell_type": "code",
   "execution_count": 23,
   "id": "97410272",
   "metadata": {
    "ExecuteTime": {
     "end_time": "2023-03-28T09:12:57.157489Z",
     "start_time": "2023-03-28T09:12:56.880948Z"
    }
   },
   "outputs": [
    {
     "data": {
      "application/javascript": [
       "\n",
       "            setTimeout(function() {\n",
       "                var nbb_cell_id = 23;\n",
       "                var nbb_unformatted_code = \"df2 = df1.copy()\\n\\ndf2 = df2.drop([\\\"artikulas\\\", \\\"tipas\\\", \\\"parduotuve\\\"], axis=1)\\ndf = df2[~df2.duplicated()]\";\n",
       "                var nbb_formatted_code = \"df2 = df1.copy()\\n\\ndf2 = df2.drop([\\\"artikulas\\\", \\\"tipas\\\", \\\"parduotuve\\\"], axis=1)\\ndf = df2[~df2.duplicated()]\";\n",
       "                var nbb_cells = Jupyter.notebook.get_cells();\n",
       "                for (var i = 0; i < nbb_cells.length; ++i) {\n",
       "                    if (nbb_cells[i].input_prompt_number == nbb_cell_id) {\n",
       "                        if (nbb_cells[i].get_text() == nbb_unformatted_code) {\n",
       "                             nbb_cells[i].set_text(nbb_formatted_code);\n",
       "                        }\n",
       "                        break;\n",
       "                    }\n",
       "                }\n",
       "            }, 500);\n",
       "            "
      ],
      "text/plain": [
       "<IPython.core.display.Javascript object>"
      ]
     },
     "metadata": {},
     "output_type": "display_data"
    }
   ],
   "source": [
    "df2 = df1.copy()\n",
    "\n",
    "df2 = df2.drop([\"artikulas\", \"tipas\", \"parduotuve\"], axis=1)\n",
    "df = df2[~df2.duplicated()]"
   ]
  },
  {
   "cell_type": "code",
   "execution_count": 24,
   "id": "2c2827c9",
   "metadata": {
    "ExecuteTime": {
     "end_time": "2023-03-28T09:13:02.100122Z",
     "start_time": "2023-03-28T09:12:59.024360Z"
    }
   },
   "outputs": [
    {
     "data": {
      "application/javascript": [
       "\n",
       "            setTimeout(function() {\n",
       "                var nbb_cell_id = 24;\n",
       "                var nbb_unformatted_code = \"pardavimai = df[[\\\"kvitas\\\", \\\"nom_id\\\"]]\\n\\npardavimai = pardavimai.groupby(\\\"kvitas\\\")[\\\"nom_id\\\"].apply(list).reset_index()\\n\\nprekes = df[[\\\"nom_id\\\", \\\"preke\\\"]].copy()\\nprekes = prekes[~prekes.duplicated()]\\nprekes = prekes.set_index(\\\"nom_id\\\")\\nprekes = prekes[\\\"preke\\\"]\";\n",
       "                var nbb_formatted_code = \"pardavimai = df[[\\\"kvitas\\\", \\\"nom_id\\\"]]\\n\\npardavimai = pardavimai.groupby(\\\"kvitas\\\")[\\\"nom_id\\\"].apply(list).reset_index()\\n\\nprekes = df[[\\\"nom_id\\\", \\\"preke\\\"]].copy()\\nprekes = prekes[~prekes.duplicated()]\\nprekes = prekes.set_index(\\\"nom_id\\\")\\nprekes = prekes[\\\"preke\\\"]\";\n",
       "                var nbb_cells = Jupyter.notebook.get_cells();\n",
       "                for (var i = 0; i < nbb_cells.length; ++i) {\n",
       "                    if (nbb_cells[i].input_prompt_number == nbb_cell_id) {\n",
       "                        if (nbb_cells[i].get_text() == nbb_unformatted_code) {\n",
       "                             nbb_cells[i].set_text(nbb_formatted_code);\n",
       "                        }\n",
       "                        break;\n",
       "                    }\n",
       "                }\n",
       "            }, 500);\n",
       "            "
      ],
      "text/plain": [
       "<IPython.core.display.Javascript object>"
      ]
     },
     "metadata": {},
     "output_type": "display_data"
    }
   ],
   "source": [
    "pardavimai = df[[\"kvitas\", \"nom_id\"]]\n",
    "\n",
    "pardavimai = pardavimai.groupby(\"kvitas\")[\"nom_id\"].apply(list).reset_index()\n",
    "\n",
    "prekes = df[[\"nom_id\", \"preke\"]].copy()\n",
    "prekes = prekes[~prekes.duplicated()]\n",
    "prekes = prekes.set_index(\"nom_id\")\n",
    "prekes = prekes[\"preke\"]"
   ]
  },
  {
   "cell_type": "code",
   "execution_count": 28,
   "id": "dcedaad4",
   "metadata": {
    "ExecuteTime": {
     "end_time": "2023-03-28T09:14:17.710345Z",
     "start_time": "2023-03-28T09:14:17.681450Z"
    }
   },
   "outputs": [
    {
     "data": {
      "text/html": [
       "<div>\n",
       "<style scoped>\n",
       "    .dataframe tbody tr th:only-of-type {\n",
       "        vertical-align: middle;\n",
       "    }\n",
       "\n",
       "    .dataframe tbody tr th {\n",
       "        vertical-align: top;\n",
       "    }\n",
       "\n",
       "    .dataframe thead th {\n",
       "        text-align: right;\n",
       "    }\n",
       "</style>\n",
       "<table border=\"1\" class=\"dataframe\">\n",
       "  <thead>\n",
       "    <tr style=\"text-align: right;\">\n",
       "      <th></th>\n",
       "      <th>kvitas</th>\n",
       "      <th>nom_id</th>\n",
       "    </tr>\n",
       "  </thead>\n",
       "  <tbody>\n",
       "    <tr>\n",
       "      <th>0</th>\n",
       "      <td>G02283546</td>\n",
       "      <td>[0013947, 0041230, 0041236]</td>\n",
       "    </tr>\n",
       "    <tr>\n",
       "      <th>1</th>\n",
       "      <td>G02283547</td>\n",
       "      <td>[0008612, 0011242, 0019252, 0029366]</td>\n",
       "    </tr>\n",
       "    <tr>\n",
       "      <th>2</th>\n",
       "      <td>G02283549</td>\n",
       "      <td>[0029364, 0019324, 0018087, 0041236]</td>\n",
       "    </tr>\n",
       "    <tr>\n",
       "      <th>3</th>\n",
       "      <td>G02283551</td>\n",
       "      <td>[0029367, 0041135, 0027486, 0027487]</td>\n",
       "    </tr>\n",
       "    <tr>\n",
       "      <th>4</th>\n",
       "      <td>G02283553</td>\n",
       "      <td>[0013147, 0033868, 0048810, 0041673, 0022577]</td>\n",
       "    </tr>\n",
       "    <tr>\n",
       "      <th>...</th>\n",
       "      <td>...</td>\n",
       "      <td>...</td>\n",
       "    </tr>\n",
       "    <tr>\n",
       "      <th>89522</th>\n",
       "      <td>G41061099</td>\n",
       "      <td>[0010851, 0023349]</td>\n",
       "    </tr>\n",
       "    <tr>\n",
       "      <th>89523</th>\n",
       "      <td>G41061100</td>\n",
       "      <td>[0025027]</td>\n",
       "    </tr>\n",
       "    <tr>\n",
       "      <th>89524</th>\n",
       "      <td>G41061101</td>\n",
       "      <td>[0025234, 0027497]</td>\n",
       "    </tr>\n",
       "    <tr>\n",
       "      <th>89525</th>\n",
       "      <td>G41061102</td>\n",
       "      <td>[0051556]</td>\n",
       "    </tr>\n",
       "    <tr>\n",
       "      <th>89526</th>\n",
       "      <td>G41061106</td>\n",
       "      <td>[0053134]</td>\n",
       "    </tr>\n",
       "  </tbody>\n",
       "</table>\n",
       "<p>89527 rows × 2 columns</p>\n",
       "</div>"
      ],
      "text/plain": [
       "          kvitas                                         nom_id\n",
       "0      G02283546                    [0013947, 0041230, 0041236]\n",
       "1      G02283547           [0008612, 0011242, 0019252, 0029366]\n",
       "2      G02283549           [0029364, 0019324, 0018087, 0041236]\n",
       "3      G02283551           [0029367, 0041135, 0027486, 0027487]\n",
       "4      G02283553  [0013147, 0033868, 0048810, 0041673, 0022577]\n",
       "...          ...                                            ...\n",
       "89522  G41061099                             [0010851, 0023349]\n",
       "89523  G41061100                                      [0025027]\n",
       "89524  G41061101                             [0025234, 0027497]\n",
       "89525  G41061102                                      [0051556]\n",
       "89526  G41061106                                      [0053134]\n",
       "\n",
       "[89527 rows x 2 columns]"
      ]
     },
     "execution_count": 28,
     "metadata": {},
     "output_type": "execute_result"
    },
    {
     "data": {
      "application/javascript": [
       "\n",
       "            setTimeout(function() {\n",
       "                var nbb_cell_id = 28;\n",
       "                var nbb_unformatted_code = \"pardavimai\";\n",
       "                var nbb_formatted_code = \"pardavimai\";\n",
       "                var nbb_cells = Jupyter.notebook.get_cells();\n",
       "                for (var i = 0; i < nbb_cells.length; ++i) {\n",
       "                    if (nbb_cells[i].input_prompt_number == nbb_cell_id) {\n",
       "                        if (nbb_cells[i].get_text() == nbb_unformatted_code) {\n",
       "                             nbb_cells[i].set_text(nbb_formatted_code);\n",
       "                        }\n",
       "                        break;\n",
       "                    }\n",
       "                }\n",
       "            }, 500);\n",
       "            "
      ],
      "text/plain": [
       "<IPython.core.display.Javascript object>"
      ]
     },
     "metadata": {},
     "output_type": "display_data"
    }
   ],
   "source": [
    "pardavimai"
   ]
  },
  {
   "cell_type": "markdown",
   "id": "6d73969f",
   "metadata": {},
   "source": [
    "## Duomenų enkodingas"
   ]
  },
  {
   "cell_type": "code",
   "execution_count": 29,
   "id": "04c34bf6",
   "metadata": {
    "ExecuteTime": {
     "end_time": "2023-03-28T09:15:20.823211Z",
     "start_time": "2023-03-28T09:15:20.466165Z"
    }
   },
   "outputs": [
    {
     "data": {
      "application/javascript": [
       "\n",
       "            setTimeout(function() {\n",
       "                var nbb_cell_id = 29;\n",
       "                var nbb_unformatted_code = \"te = TransactionEncoder()\\n\\nte.fit(pardavimai[\\\"nom_id\\\"])\\n\\npardavimai_1hot = te.transform(pardavimai[\\\"nom_id\\\"])\\npardavimai_1hot = pd.DataFrame(pardavimai_1hot, columns=te.columns_)\\n# pardavimai_1hot.head()\";\n",
       "                var nbb_formatted_code = \"te = TransactionEncoder()\\n\\nte.fit(pardavimai[\\\"nom_id\\\"])\\n\\npardavimai_1hot = te.transform(pardavimai[\\\"nom_id\\\"])\\npardavimai_1hot = pd.DataFrame(pardavimai_1hot, columns=te.columns_)\\n# pardavimai_1hot.head()\";\n",
       "                var nbb_cells = Jupyter.notebook.get_cells();\n",
       "                for (var i = 0; i < nbb_cells.length; ++i) {\n",
       "                    if (nbb_cells[i].input_prompt_number == nbb_cell_id) {\n",
       "                        if (nbb_cells[i].get_text() == nbb_unformatted_code) {\n",
       "                             nbb_cells[i].set_text(nbb_formatted_code);\n",
       "                        }\n",
       "                        break;\n",
       "                    }\n",
       "                }\n",
       "            }, 500);\n",
       "            "
      ],
      "text/plain": [
       "<IPython.core.display.Javascript object>"
      ]
     },
     "metadata": {},
     "output_type": "display_data"
    }
   ],
   "source": [
    "te = TransactionEncoder()\n",
    "\n",
    "te.fit(pardavimai[\"nom_id\"])\n",
    "\n",
    "pardavimai_1hot = te.transform(pardavimai[\"nom_id\"])\n",
    "pardavimai_1hot = pd.DataFrame(pardavimai_1hot, columns=te.columns_)\n",
    "# pardavimai_1hot.head()"
   ]
  },
  {
   "cell_type": "markdown",
   "id": "dcf77b4c",
   "metadata": {
    "heading_collapsed": true
   },
   "source": [
    "## Apriori"
   ]
  },
  {
   "cell_type": "code",
   "execution_count": 57,
   "id": "6fecc85b",
   "metadata": {
    "ExecuteTime": {
     "end_time": "2023-03-28T12:01:59.855213Z",
     "start_time": "2023-03-28T12:01:57.537347Z"
    },
    "hidden": true
   },
   "outputs": [
    {
     "name": "stdout",
     "output_type": "stream",
     "text": [
      "2.31 s ± 0 ns per loop (mean ± std. dev. of 1 run, 1 loop each)\n"
     ]
    },
    {
     "data": {
      "application/javascript": [
       "\n",
       "            setTimeout(function() {\n",
       "                var nbb_cell_id = 57;\n",
       "                var nbb_unformatted_code = \"%%timeit -n1 -r1\\napriori(pardavimai_1hot, min_support=0.005, max_len=2, use_colnames=True)\";\n",
       "                var nbb_formatted_code = \"%%timeit -n1 -r1\\napriori(pardavimai_1hot, min_support=0.005, max_len=2, use_colnames=True)\";\n",
       "                var nbb_cells = Jupyter.notebook.get_cells();\n",
       "                for (var i = 0; i < nbb_cells.length; ++i) {\n",
       "                    if (nbb_cells[i].input_prompt_number == nbb_cell_id) {\n",
       "                        if (nbb_cells[i].get_text() == nbb_unformatted_code) {\n",
       "                             nbb_cells[i].set_text(nbb_formatted_code);\n",
       "                        }\n",
       "                        break;\n",
       "                    }\n",
       "                }\n",
       "            }, 500);\n",
       "            "
      ],
      "text/plain": [
       "<IPython.core.display.Javascript object>"
      ]
     },
     "metadata": {},
     "output_type": "display_data"
    }
   ],
   "source": [
    "%%timeit -n1 -r1\n",
    "apriori(pardavimai_1hot, min_support=0.005, max_len=2, use_colnames=True)"
   ]
  },
  {
   "cell_type": "code",
   "execution_count": 58,
   "id": "855b3ce6",
   "metadata": {
    "ExecuteTime": {
     "end_time": "2023-03-28T12:02:03.068434Z",
     "start_time": "2023-03-28T12:02:00.561708Z"
    },
    "hidden": true
   },
   "outputs": [
    {
     "data": {
      "application/javascript": [
       "\n",
       "            setTimeout(function() {\n",
       "                var nbb_cell_id = 58;\n",
       "                var nbb_unformatted_code = \"is_ap = apriori(pardavimai_1hot, min_support=0.005, max_len=2, use_colnames=True)\";\n",
       "                var nbb_formatted_code = \"is_ap = apriori(pardavimai_1hot, min_support=0.005, max_len=2, use_colnames=True)\";\n",
       "                var nbb_cells = Jupyter.notebook.get_cells();\n",
       "                for (var i = 0; i < nbb_cells.length; ++i) {\n",
       "                    if (nbb_cells[i].input_prompt_number == nbb_cell_id) {\n",
       "                        if (nbb_cells[i].get_text() == nbb_unformatted_code) {\n",
       "                             nbb_cells[i].set_text(nbb_formatted_code);\n",
       "                        }\n",
       "                        break;\n",
       "                    }\n",
       "                }\n",
       "            }, 500);\n",
       "            "
      ],
      "text/plain": [
       "<IPython.core.display.Javascript object>"
      ]
     },
     "metadata": {},
     "output_type": "display_data"
    }
   ],
   "source": [
    "is_ap = apriori(pardavimai_1hot, min_support=0.005, max_len=2, use_colnames=True)"
   ]
  },
  {
   "cell_type": "code",
   "execution_count": 59,
   "id": "537e93b8",
   "metadata": {
    "ExecuteTime": {
     "end_time": "2023-03-28T12:02:08.070131Z",
     "start_time": "2023-03-28T12:02:08.050162Z"
    },
    "hidden": true
   },
   "outputs": [
    {
     "name": "stdout",
     "output_type": "stream",
     "text": [
      "29\n"
     ]
    },
    {
     "data": {
      "text/html": [
       "<div>\n",
       "<style scoped>\n",
       "    .dataframe tbody tr th:only-of-type {\n",
       "        vertical-align: middle;\n",
       "    }\n",
       "\n",
       "    .dataframe tbody tr th {\n",
       "        vertical-align: top;\n",
       "    }\n",
       "\n",
       "    .dataframe thead th {\n",
       "        text-align: right;\n",
       "    }\n",
       "</style>\n",
       "<table border=\"1\" class=\"dataframe\">\n",
       "  <thead>\n",
       "    <tr style=\"text-align: right;\">\n",
       "      <th></th>\n",
       "      <th>support</th>\n",
       "      <th>itemsets</th>\n",
       "    </tr>\n",
       "  </thead>\n",
       "  <tbody>\n",
       "    <tr>\n",
       "      <th>0</th>\n",
       "      <td>0.011985</td>\n",
       "      <td>(0008608)</td>\n",
       "    </tr>\n",
       "    <tr>\n",
       "      <th>1</th>\n",
       "      <td>0.022016</td>\n",
       "      <td>(0008612)</td>\n",
       "    </tr>\n",
       "    <tr>\n",
       "      <th>2</th>\n",
       "      <td>0.011739</td>\n",
       "      <td>(0010851)</td>\n",
       "    </tr>\n",
       "    <tr>\n",
       "      <th>3</th>\n",
       "      <td>0.005105</td>\n",
       "      <td>(0011242)</td>\n",
       "    </tr>\n",
       "    <tr>\n",
       "      <th>4</th>\n",
       "      <td>0.005317</td>\n",
       "      <td>(0012219)</td>\n",
       "    </tr>\n",
       "  </tbody>\n",
       "</table>\n",
       "</div>"
      ],
      "text/plain": [
       "    support   itemsets\n",
       "0  0.011985  (0008608)\n",
       "1  0.022016  (0008612)\n",
       "2  0.011739  (0010851)\n",
       "3  0.005105  (0011242)\n",
       "4  0.005317  (0012219)"
      ]
     },
     "execution_count": 59,
     "metadata": {},
     "output_type": "execute_result"
    },
    {
     "data": {
      "application/javascript": [
       "\n",
       "            setTimeout(function() {\n",
       "                var nbb_cell_id = 59;\n",
       "                var nbb_unformatted_code = \"print(len(is_ap))\\nis_ap.head()\";\n",
       "                var nbb_formatted_code = \"print(len(is_ap))\\nis_ap.head()\";\n",
       "                var nbb_cells = Jupyter.notebook.get_cells();\n",
       "                for (var i = 0; i < nbb_cells.length; ++i) {\n",
       "                    if (nbb_cells[i].input_prompt_number == nbb_cell_id) {\n",
       "                        if (nbb_cells[i].get_text() == nbb_unformatted_code) {\n",
       "                             nbb_cells[i].set_text(nbb_formatted_code);\n",
       "                        }\n",
       "                        break;\n",
       "                    }\n",
       "                }\n",
       "            }, 500);\n",
       "            "
      ],
      "text/plain": [
       "<IPython.core.display.Javascript object>"
      ]
     },
     "metadata": {},
     "output_type": "display_data"
    }
   ],
   "source": [
    "print(len(is_ap))\n",
    "is_ap.head()"
   ]
  },
  {
   "cell_type": "code",
   "execution_count": 60,
   "id": "a6826b6d",
   "metadata": {
    "ExecuteTime": {
     "end_time": "2023-03-28T12:02:10.352895Z",
     "start_time": "2023-03-28T12:02:10.337909Z"
    },
    "hidden": true
   },
   "outputs": [
    {
     "data": {
      "text/html": [
       "<div>\n",
       "<style scoped>\n",
       "    .dataframe tbody tr th:only-of-type {\n",
       "        vertical-align: middle;\n",
       "    }\n",
       "\n",
       "    .dataframe tbody tr th {\n",
       "        vertical-align: top;\n",
       "    }\n",
       "\n",
       "    .dataframe thead th {\n",
       "        text-align: right;\n",
       "    }\n",
       "</style>\n",
       "<table border=\"1\" class=\"dataframe\">\n",
       "  <thead>\n",
       "    <tr style=\"text-align: right;\">\n",
       "      <th></th>\n",
       "      <th>support</th>\n",
       "      <th>itemsets</th>\n",
       "    </tr>\n",
       "  </thead>\n",
       "  <tbody>\n",
       "    <tr>\n",
       "      <th>28</th>\n",
       "      <td>0.009327</td>\n",
       "      <td>(0048513, 0048514)</td>\n",
       "    </tr>\n",
       "  </tbody>\n",
       "</table>\n",
       "</div>"
      ],
      "text/plain": [
       "     support            itemsets\n",
       "28  0.009327  (0048513, 0048514)"
      ]
     },
     "execution_count": 60,
     "metadata": {},
     "output_type": "execute_result"
    },
    {
     "data": {
      "application/javascript": [
       "\n",
       "            setTimeout(function() {\n",
       "                var nbb_cell_id = 60;\n",
       "                var nbb_unformatted_code = \"is_ap[is_ap[\\\"itemsets\\\"].apply(lambda x: len(x)) == 2]\";\n",
       "                var nbb_formatted_code = \"is_ap[is_ap[\\\"itemsets\\\"].apply(lambda x: len(x)) == 2]\";\n",
       "                var nbb_cells = Jupyter.notebook.get_cells();\n",
       "                for (var i = 0; i < nbb_cells.length; ++i) {\n",
       "                    if (nbb_cells[i].input_prompt_number == nbb_cell_id) {\n",
       "                        if (nbb_cells[i].get_text() == nbb_unformatted_code) {\n",
       "                             nbb_cells[i].set_text(nbb_formatted_code);\n",
       "                        }\n",
       "                        break;\n",
       "                    }\n",
       "                }\n",
       "            }, 500);\n",
       "            "
      ],
      "text/plain": [
       "<IPython.core.display.Javascript object>"
      ]
     },
     "metadata": {},
     "output_type": "display_data"
    }
   ],
   "source": [
    "is_ap[is_ap[\"itemsets\"].apply(lambda x: len(x)) == 2]"
   ]
  },
  {
   "cell_type": "markdown",
   "id": "7efe8c8e",
   "metadata": {},
   "source": [
    "## FP Growth"
   ]
  },
  {
   "cell_type": "code",
   "execution_count": 67,
   "id": "a83df7b3",
   "metadata": {
    "ExecuteTime": {
     "end_time": "2023-03-28T12:02:53.064722Z",
     "start_time": "2023-03-28T12:02:45.651281Z"
    }
   },
   "outputs": [
    {
     "name": "stdout",
     "output_type": "stream",
     "text": [
      "1.84 s ± 27.3 ms per loop (mean ± std. dev. of 4 runs, 1 loop each)\n"
     ]
    },
    {
     "data": {
      "application/javascript": [
       "\n",
       "            setTimeout(function() {\n",
       "                var nbb_cell_id = 67;\n",
       "                var nbb_unformatted_code = \"%%timeit -n1 -r4\\nfpgrowth(pardavimai_1hot, min_support=0.001, max_len=2, use_colnames=True)\";\n",
       "                var nbb_formatted_code = \"%%timeit -n1 -r4\\nfpgrowth(pardavimai_1hot, min_support=0.001, max_len=2, use_colnames=True)\";\n",
       "                var nbb_cells = Jupyter.notebook.get_cells();\n",
       "                for (var i = 0; i < nbb_cells.length; ++i) {\n",
       "                    if (nbb_cells[i].input_prompt_number == nbb_cell_id) {\n",
       "                        if (nbb_cells[i].get_text() == nbb_unformatted_code) {\n",
       "                             nbb_cells[i].set_text(nbb_formatted_code);\n",
       "                        }\n",
       "                        break;\n",
       "                    }\n",
       "                }\n",
       "            }, 500);\n",
       "            "
      ],
      "text/plain": [
       "<IPython.core.display.Javascript object>"
      ]
     },
     "metadata": {},
     "output_type": "display_data"
    }
   ],
   "source": [
    "%%timeit -n1 -r4\n",
    "fpgrowth(pardavimai_1hot, min_support=0.001, max_len=2, use_colnames=True)"
   ]
  },
  {
   "cell_type": "code",
   "execution_count": 68,
   "id": "62cbf696",
   "metadata": {
    "ExecuteTime": {
     "end_time": "2023-03-28T12:02:56.182744Z",
     "start_time": "2023-03-28T12:02:54.178919Z"
    }
   },
   "outputs": [
    {
     "data": {
      "application/javascript": [
       "\n",
       "            setTimeout(function() {\n",
       "                var nbb_cell_id = 68;\n",
       "                var nbb_unformatted_code = \"is_fp = fpgrowth(pardavimai_1hot, min_support=0.001, max_len=4, use_colnames=True)\";\n",
       "                var nbb_formatted_code = \"is_fp = fpgrowth(pardavimai_1hot, min_support=0.001, max_len=4, use_colnames=True)\";\n",
       "                var nbb_cells = Jupyter.notebook.get_cells();\n",
       "                for (var i = 0; i < nbb_cells.length; ++i) {\n",
       "                    if (nbb_cells[i].input_prompt_number == nbb_cell_id) {\n",
       "                        if (nbb_cells[i].get_text() == nbb_unformatted_code) {\n",
       "                             nbb_cells[i].set_text(nbb_formatted_code);\n",
       "                        }\n",
       "                        break;\n",
       "                    }\n",
       "                }\n",
       "            }, 500);\n",
       "            "
      ],
      "text/plain": [
       "<IPython.core.display.Javascript object>"
      ]
     },
     "metadata": {},
     "output_type": "display_data"
    }
   ],
   "source": [
    "is_fp = fpgrowth(pardavimai_1hot, min_support=0.001, max_len=4, use_colnames=True)"
   ]
  },
  {
   "cell_type": "code",
   "execution_count": 69,
   "id": "892fa5d9",
   "metadata": {
    "ExecuteTime": {
     "end_time": "2023-03-28T12:03:01.620239Z",
     "start_time": "2023-03-28T12:03:01.587303Z"
    }
   },
   "outputs": [
    {
     "name": "stdout",
     "output_type": "stream",
     "text": [
      "(408, 2)\n"
     ]
    },
    {
     "data": {
      "text/html": [
       "<div>\n",
       "<style scoped>\n",
       "    .dataframe tbody tr th:only-of-type {\n",
       "        vertical-align: middle;\n",
       "    }\n",
       "\n",
       "    .dataframe tbody tr th {\n",
       "        vertical-align: top;\n",
       "    }\n",
       "\n",
       "    .dataframe thead th {\n",
       "        text-align: right;\n",
       "    }\n",
       "</style>\n",
       "<table border=\"1\" class=\"dataframe\">\n",
       "  <thead>\n",
       "    <tr style=\"text-align: right;\">\n",
       "      <th></th>\n",
       "      <th>support</th>\n",
       "      <th>itemsets</th>\n",
       "    </tr>\n",
       "  </thead>\n",
       "  <tbody>\n",
       "    <tr>\n",
       "      <th>384</th>\n",
       "      <td>0.001854</td>\n",
       "      <td>(0041230, 0041236)</td>\n",
       "    </tr>\n",
       "    <tr>\n",
       "      <th>385</th>\n",
       "      <td>0.001653</td>\n",
       "      <td>(0041241, 0041236)</td>\n",
       "    </tr>\n",
       "    <tr>\n",
       "      <th>386</th>\n",
       "      <td>0.003016</td>\n",
       "      <td>(0008612, 0019252)</td>\n",
       "    </tr>\n",
       "    <tr>\n",
       "      <th>387</th>\n",
       "      <td>0.001441</td>\n",
       "      <td>(0019252, 0008608)</td>\n",
       "    </tr>\n",
       "    <tr>\n",
       "      <th>388</th>\n",
       "      <td>0.001452</td>\n",
       "      <td>(0011242, 0008612)</td>\n",
       "    </tr>\n",
       "    <tr>\n",
       "      <th>389</th>\n",
       "      <td>0.001028</td>\n",
       "      <td>(0011242, 0019252)</td>\n",
       "    </tr>\n",
       "    <tr>\n",
       "      <th>390</th>\n",
       "      <td>0.001028</td>\n",
       "      <td>(0025027, 0010851)</td>\n",
       "    </tr>\n",
       "    <tr>\n",
       "      <th>391</th>\n",
       "      <td>0.001262</td>\n",
       "      <td>(0025234, 0027491)</td>\n",
       "    </tr>\n",
       "    <tr>\n",
       "      <th>392</th>\n",
       "      <td>0.001407</td>\n",
       "      <td>(0019247, 0019251)</td>\n",
       "    </tr>\n",
       "    <tr>\n",
       "      <th>393</th>\n",
       "      <td>0.001530</td>\n",
       "      <td>(0019252, 0019251)</td>\n",
       "    </tr>\n",
       "    <tr>\n",
       "      <th>394</th>\n",
       "      <td>0.002837</td>\n",
       "      <td>(0019247, 0019252)</td>\n",
       "    </tr>\n",
       "    <tr>\n",
       "      <th>395</th>\n",
       "      <td>0.004032</td>\n",
       "      <td>(0008612, 0008608)</td>\n",
       "    </tr>\n",
       "    <tr>\n",
       "      <th>396</th>\n",
       "      <td>0.001072</td>\n",
       "      <td>(0051343, 0031324)</td>\n",
       "    </tr>\n",
       "    <tr>\n",
       "      <th>397</th>\n",
       "      <td>0.004211</td>\n",
       "      <td>(0008612, 0038471)</td>\n",
       "    </tr>\n",
       "    <tr>\n",
       "      <th>398</th>\n",
       "      <td>0.001977</td>\n",
       "      <td>(0038471, 0008608)</td>\n",
       "    </tr>\n",
       "    <tr>\n",
       "      <th>399</th>\n",
       "      <td>0.001039</td>\n",
       "      <td>(0038468, 0008608)</td>\n",
       "    </tr>\n",
       "    <tr>\n",
       "      <th>400</th>\n",
       "      <td>0.001843</td>\n",
       "      <td>(0008612, 0038468)</td>\n",
       "    </tr>\n",
       "    <tr>\n",
       "      <th>401</th>\n",
       "      <td>0.001139</td>\n",
       "      <td>(0030091, 0029179)</td>\n",
       "    </tr>\n",
       "    <tr>\n",
       "      <th>402</th>\n",
       "      <td>0.001028</td>\n",
       "      <td>(0028759, 0028754)</td>\n",
       "    </tr>\n",
       "    <tr>\n",
       "      <th>403</th>\n",
       "      <td>0.003250</td>\n",
       "      <td>(0041230, 0041241)</td>\n",
       "    </tr>\n",
       "    <tr>\n",
       "      <th>404</th>\n",
       "      <td>0.002312</td>\n",
       "      <td>(0028757, 0028759)</td>\n",
       "    </tr>\n",
       "    <tr>\n",
       "      <th>405</th>\n",
       "      <td>0.009327</td>\n",
       "      <td>(0048513, 0048514)</td>\n",
       "    </tr>\n",
       "    <tr>\n",
       "      <th>406</th>\n",
       "      <td>0.001352</td>\n",
       "      <td>(0027706, 0027705)</td>\n",
       "    </tr>\n",
       "    <tr>\n",
       "      <th>407</th>\n",
       "      <td>0.001240</td>\n",
       "      <td>(0039405, 0039408)</td>\n",
       "    </tr>\n",
       "  </tbody>\n",
       "</table>\n",
       "</div>"
      ],
      "text/plain": [
       "      support            itemsets\n",
       "384  0.001854  (0041230, 0041236)\n",
       "385  0.001653  (0041241, 0041236)\n",
       "386  0.003016  (0008612, 0019252)\n",
       "387  0.001441  (0019252, 0008608)\n",
       "388  0.001452  (0011242, 0008612)\n",
       "389  0.001028  (0011242, 0019252)\n",
       "390  0.001028  (0025027, 0010851)\n",
       "391  0.001262  (0025234, 0027491)\n",
       "392  0.001407  (0019247, 0019251)\n",
       "393  0.001530  (0019252, 0019251)\n",
       "394  0.002837  (0019247, 0019252)\n",
       "395  0.004032  (0008612, 0008608)\n",
       "396  0.001072  (0051343, 0031324)\n",
       "397  0.004211  (0008612, 0038471)\n",
       "398  0.001977  (0038471, 0008608)\n",
       "399  0.001039  (0038468, 0008608)\n",
       "400  0.001843  (0008612, 0038468)\n",
       "401  0.001139  (0030091, 0029179)\n",
       "402  0.001028  (0028759, 0028754)\n",
       "403  0.003250  (0041230, 0041241)\n",
       "404  0.002312  (0028757, 0028759)\n",
       "405  0.009327  (0048513, 0048514)\n",
       "406  0.001352  (0027706, 0027705)\n",
       "407  0.001240  (0039405, 0039408)"
      ]
     },
     "execution_count": 69,
     "metadata": {},
     "output_type": "execute_result"
    },
    {
     "data": {
      "application/javascript": [
       "\n",
       "            setTimeout(function() {\n",
       "                var nbb_cell_id = 69;\n",
       "                var nbb_unformatted_code = \"print(is_fp.shape)\\nis_fp[is_fp[\\\"itemsets\\\"].apply(lambda x: len(x)) == 2]\";\n",
       "                var nbb_formatted_code = \"print(is_fp.shape)\\nis_fp[is_fp[\\\"itemsets\\\"].apply(lambda x: len(x)) == 2]\";\n",
       "                var nbb_cells = Jupyter.notebook.get_cells();\n",
       "                for (var i = 0; i < nbb_cells.length; ++i) {\n",
       "                    if (nbb_cells[i].input_prompt_number == nbb_cell_id) {\n",
       "                        if (nbb_cells[i].get_text() == nbb_unformatted_code) {\n",
       "                             nbb_cells[i].set_text(nbb_formatted_code);\n",
       "                        }\n",
       "                        break;\n",
       "                    }\n",
       "                }\n",
       "            }, 500);\n",
       "            "
      ],
      "text/plain": [
       "<IPython.core.display.Javascript object>"
      ]
     },
     "metadata": {},
     "output_type": "display_data"
    }
   ],
   "source": [
    "print(is_fp.shape)\n",
    "is_fp[is_fp[\"itemsets\"].apply(lambda x: len(x)) == 2]"
   ]
  },
  {
   "cell_type": "markdown",
   "id": "80c3b092",
   "metadata": {
    "heading_collapsed": true
   },
   "source": [
    "## Parodysime kad `is_ap` ir `is_fp` turi tas pačias reikšmes"
   ]
  },
  {
   "cell_type": "code",
   "execution_count": 63,
   "id": "ab15635a",
   "metadata": {
    "ExecuteTime": {
     "end_time": "2023-03-28T12:02:29.619568Z",
     "start_time": "2023-03-28T12:02:29.602594Z"
    },
    "hidden": true
   },
   "outputs": [
    {
     "data": {
      "application/javascript": [
       "\n",
       "            setTimeout(function() {\n",
       "                var nbb_cell_id = 63;\n",
       "                var nbb_unformatted_code = \"def itemset_to_ordered_string(itemset):\\n    return \\\",\\\".join(sorted(list(itemset)))\";\n",
       "                var nbb_formatted_code = \"def itemset_to_ordered_string(itemset):\\n    return \\\",\\\".join(sorted(list(itemset)))\";\n",
       "                var nbb_cells = Jupyter.notebook.get_cells();\n",
       "                for (var i = 0; i < nbb_cells.length; ++i) {\n",
       "                    if (nbb_cells[i].input_prompt_number == nbb_cell_id) {\n",
       "                        if (nbb_cells[i].get_text() == nbb_unformatted_code) {\n",
       "                             nbb_cells[i].set_text(nbb_formatted_code);\n",
       "                        }\n",
       "                        break;\n",
       "                    }\n",
       "                }\n",
       "            }, 500);\n",
       "            "
      ],
      "text/plain": [
       "<IPython.core.display.Javascript object>"
      ]
     },
     "metadata": {},
     "output_type": "display_data"
    }
   ],
   "source": [
    "def itemset_to_ordered_string(itemset):\n",
    "    return \",\".join(sorted(list(itemset)))"
   ]
  },
  {
   "cell_type": "code",
   "execution_count": 64,
   "id": "7e89cf8f",
   "metadata": {
    "ExecuteTime": {
     "end_time": "2023-03-28T12:02:31.189091Z",
     "start_time": "2023-03-28T12:02:31.138227Z"
    },
    "hidden": true
   },
   "outputs": [
    {
     "data": {
      "text/plain": [
       "0    0008608\n",
       "1    0008612\n",
       "2    0010851\n",
       "3    0011242\n",
       "4    0012219\n",
       "Name: itemsets, dtype: object"
      ]
     },
     "execution_count": 64,
     "metadata": {},
     "output_type": "execute_result"
    },
    {
     "data": {
      "application/javascript": [
       "\n",
       "            setTimeout(function() {\n",
       "                var nbb_cell_id = 64;\n",
       "                var nbb_unformatted_code = \"ap_itemset_strings = is_ap[\\\"itemsets\\\"].apply(itemset_to_ordered_string)\\nap_itemset_strings = ap_itemset_strings.sort_values().reset_index(drop=True)\\nap_itemset_strings.head()\";\n",
       "                var nbb_formatted_code = \"ap_itemset_strings = is_ap[\\\"itemsets\\\"].apply(itemset_to_ordered_string)\\nap_itemset_strings = ap_itemset_strings.sort_values().reset_index(drop=True)\\nap_itemset_strings.head()\";\n",
       "                var nbb_cells = Jupyter.notebook.get_cells();\n",
       "                for (var i = 0; i < nbb_cells.length; ++i) {\n",
       "                    if (nbb_cells[i].input_prompt_number == nbb_cell_id) {\n",
       "                        if (nbb_cells[i].get_text() == nbb_unformatted_code) {\n",
       "                             nbb_cells[i].set_text(nbb_formatted_code);\n",
       "                        }\n",
       "                        break;\n",
       "                    }\n",
       "                }\n",
       "            }, 500);\n",
       "            "
      ],
      "text/plain": [
       "<IPython.core.display.Javascript object>"
      ]
     },
     "metadata": {},
     "output_type": "display_data"
    }
   ],
   "source": [
    "ap_itemset_strings = is_ap[\"itemsets\"].apply(itemset_to_ordered_string)\n",
    "ap_itemset_strings = ap_itemset_strings.sort_values().reset_index(drop=True)\n",
    "ap_itemset_strings.head()"
   ]
  },
  {
   "cell_type": "code",
   "execution_count": 65,
   "id": "c65bf672",
   "metadata": {
    "ExecuteTime": {
     "end_time": "2023-03-28T12:02:33.011919Z",
     "start_time": "2023-03-28T12:02:32.993968Z"
    },
    "hidden": true
   },
   "outputs": [
    {
     "data": {
      "text/plain": [
       "0    0008608\n",
       "1    0008612\n",
       "2    0010851\n",
       "3    0011242\n",
       "4    0012219\n",
       "Name: itemsets, dtype: object"
      ]
     },
     "execution_count": 65,
     "metadata": {},
     "output_type": "execute_result"
    },
    {
     "data": {
      "application/javascript": [
       "\n",
       "            setTimeout(function() {\n",
       "                var nbb_cell_id = 65;\n",
       "                var nbb_unformatted_code = \"fp_itemset_strings = is_fp[\\\"itemsets\\\"].apply(itemset_to_ordered_string)\\nfp_itemset_strings = fp_itemset_strings.sort_values().reset_index(drop=True)\\nfp_itemset_strings.head()\";\n",
       "                var nbb_formatted_code = \"fp_itemset_strings = is_fp[\\\"itemsets\\\"].apply(itemset_to_ordered_string)\\nfp_itemset_strings = fp_itemset_strings.sort_values().reset_index(drop=True)\\nfp_itemset_strings.head()\";\n",
       "                var nbb_cells = Jupyter.notebook.get_cells();\n",
       "                for (var i = 0; i < nbb_cells.length; ++i) {\n",
       "                    if (nbb_cells[i].input_prompt_number == nbb_cell_id) {\n",
       "                        if (nbb_cells[i].get_text() == nbb_unformatted_code) {\n",
       "                             nbb_cells[i].set_text(nbb_formatted_code);\n",
       "                        }\n",
       "                        break;\n",
       "                    }\n",
       "                }\n",
       "            }, 500);\n",
       "            "
      ],
      "text/plain": [
       "<IPython.core.display.Javascript object>"
      ]
     },
     "metadata": {},
     "output_type": "display_data"
    }
   ],
   "source": [
    "fp_itemset_strings = is_fp[\"itemsets\"].apply(itemset_to_ordered_string)\n",
    "fp_itemset_strings = fp_itemset_strings.sort_values().reset_index(drop=True)\n",
    "fp_itemset_strings.head()"
   ]
  },
  {
   "cell_type": "code",
   "execution_count": 66,
   "id": "9ddcc347",
   "metadata": {
    "ExecuteTime": {
     "end_time": "2023-03-28T12:02:35.215034Z",
     "start_time": "2023-03-28T12:02:35.169133Z"
    },
    "hidden": true
   },
   "outputs": [
    {
     "data": {
      "text/plain": [
       "True"
      ]
     },
     "execution_count": 66,
     "metadata": {},
     "output_type": "execute_result"
    },
    {
     "data": {
      "application/javascript": [
       "\n",
       "            setTimeout(function() {\n",
       "                var nbb_cell_id = 66;\n",
       "                var nbb_unformatted_code = \"fp_itemset_strings.equals(ap_itemset_strings)\";\n",
       "                var nbb_formatted_code = \"fp_itemset_strings.equals(ap_itemset_strings)\";\n",
       "                var nbb_cells = Jupyter.notebook.get_cells();\n",
       "                for (var i = 0; i < nbb_cells.length; ++i) {\n",
       "                    if (nbb_cells[i].input_prompt_number == nbb_cell_id) {\n",
       "                        if (nbb_cells[i].get_text() == nbb_unformatted_code) {\n",
       "                             nbb_cells[i].set_text(nbb_formatted_code);\n",
       "                        }\n",
       "                        break;\n",
       "                    }\n",
       "                }\n",
       "            }, 500);\n",
       "            "
      ],
      "text/plain": [
       "<IPython.core.display.Javascript object>"
      ]
     },
     "metadata": {},
     "output_type": "display_data"
    }
   ],
   "source": [
    "fp_itemset_strings.equals(ap_itemset_strings)"
   ]
  },
  {
   "cell_type": "markdown",
   "id": "422649f3",
   "metadata": {
    "heading_collapsed": true
   },
   "source": [
    "## Asociacijų taisyklės"
   ]
  },
  {
   "cell_type": "code",
   "execution_count": 72,
   "id": "a2dfc118",
   "metadata": {
    "ExecuteTime": {
     "end_time": "2023-03-28T12:04:24.247617Z",
     "start_time": "2023-03-28T12:04:24.164617Z"
    },
    "hidden": true
   },
   "outputs": [
    {
     "name": "stdout",
     "output_type": "stream",
     "text": [
      "48\n"
     ]
    },
    {
     "data": {
      "text/html": [
       "<div>\n",
       "<style scoped>\n",
       "    .dataframe tbody tr th:only-of-type {\n",
       "        vertical-align: middle;\n",
       "    }\n",
       "\n",
       "    .dataframe tbody tr th {\n",
       "        vertical-align: top;\n",
       "    }\n",
       "\n",
       "    .dataframe thead th {\n",
       "        text-align: right;\n",
       "    }\n",
       "</style>\n",
       "<table border=\"1\" class=\"dataframe\">\n",
       "  <thead>\n",
       "    <tr style=\"text-align: right;\">\n",
       "      <th></th>\n",
       "      <th>antecedents</th>\n",
       "      <th>consequents</th>\n",
       "      <th>antecedent support</th>\n",
       "      <th>consequent support</th>\n",
       "      <th>support</th>\n",
       "      <th>confidence</th>\n",
       "      <th>lift</th>\n",
       "      <th>leverage</th>\n",
       "      <th>conviction</th>\n",
       "    </tr>\n",
       "  </thead>\n",
       "  <tbody>\n",
       "    <tr>\n",
       "      <th>43</th>\n",
       "      <td>(0048514)</td>\n",
       "      <td>(0048513)</td>\n",
       "      <td>0.012923</td>\n",
       "      <td>0.014968</td>\n",
       "      <td>0.009327</td>\n",
       "      <td>0.721694</td>\n",
       "      <td>48.217240</td>\n",
       "      <td>0.009133</td>\n",
       "      <td>3.539387</td>\n",
       "    </tr>\n",
       "    <tr>\n",
       "      <th>42</th>\n",
       "      <td>(0048513)</td>\n",
       "      <td>(0048514)</td>\n",
       "      <td>0.014968</td>\n",
       "      <td>0.012923</td>\n",
       "      <td>0.009327</td>\n",
       "      <td>0.623134</td>\n",
       "      <td>48.217240</td>\n",
       "      <td>0.009133</td>\n",
       "      <td>2.619173</td>\n",
       "    </tr>\n",
       "    <tr>\n",
       "      <th>27</th>\n",
       "      <td>(0038471)</td>\n",
       "      <td>(0008612)</td>\n",
       "      <td>0.006881</td>\n",
       "      <td>0.022016</td>\n",
       "      <td>0.004211</td>\n",
       "      <td>0.612013</td>\n",
       "      <td>27.798928</td>\n",
       "      <td>0.004060</td>\n",
       "      <td>2.520662</td>\n",
       "    </tr>\n",
       "    <tr>\n",
       "      <th>26</th>\n",
       "      <td>(0008612)</td>\n",
       "      <td>(0038471)</td>\n",
       "      <td>0.022016</td>\n",
       "      <td>0.006881</td>\n",
       "      <td>0.004211</td>\n",
       "      <td>0.191273</td>\n",
       "      <td>27.798928</td>\n",
       "      <td>0.004060</td>\n",
       "      <td>1.228004</td>\n",
       "    </tr>\n",
       "    <tr>\n",
       "      <th>22</th>\n",
       "      <td>(0008612)</td>\n",
       "      <td>(0008608)</td>\n",
       "      <td>0.022016</td>\n",
       "      <td>0.011985</td>\n",
       "      <td>0.004032</td>\n",
       "      <td>0.183156</td>\n",
       "      <td>15.281813</td>\n",
       "      <td>0.003768</td>\n",
       "      <td>1.209551</td>\n",
       "    </tr>\n",
       "    <tr>\n",
       "      <th>23</th>\n",
       "      <td>(0008608)</td>\n",
       "      <td>(0008612)</td>\n",
       "      <td>0.011985</td>\n",
       "      <td>0.022016</td>\n",
       "      <td>0.004032</td>\n",
       "      <td>0.336440</td>\n",
       "      <td>15.281813</td>\n",
       "      <td>0.003768</td>\n",
       "      <td>1.473844</td>\n",
       "    </tr>\n",
       "    <tr>\n",
       "      <th>38</th>\n",
       "      <td>(0041230)</td>\n",
       "      <td>(0041241)</td>\n",
       "      <td>0.009941</td>\n",
       "      <td>0.005708</td>\n",
       "      <td>0.003250</td>\n",
       "      <td>0.326966</td>\n",
       "      <td>57.284366</td>\n",
       "      <td>0.003194</td>\n",
       "      <td>1.477329</td>\n",
       "    </tr>\n",
       "    <tr>\n",
       "      <th>39</th>\n",
       "      <td>(0041241)</td>\n",
       "      <td>(0041230)</td>\n",
       "      <td>0.005708</td>\n",
       "      <td>0.009941</td>\n",
       "      <td>0.003250</td>\n",
       "      <td>0.569472</td>\n",
       "      <td>57.284366</td>\n",
       "      <td>0.003194</td>\n",
       "      <td>2.299637</td>\n",
       "    </tr>\n",
       "    <tr>\n",
       "      <th>5</th>\n",
       "      <td>(0019252)</td>\n",
       "      <td>(0008612)</td>\n",
       "      <td>0.011293</td>\n",
       "      <td>0.022016</td>\n",
       "      <td>0.003016</td>\n",
       "      <td>0.267062</td>\n",
       "      <td>12.130537</td>\n",
       "      <td>0.002767</td>\n",
       "      <td>1.334335</td>\n",
       "    </tr>\n",
       "    <tr>\n",
       "      <th>4</th>\n",
       "      <td>(0008612)</td>\n",
       "      <td>(0019252)</td>\n",
       "      <td>0.022016</td>\n",
       "      <td>0.011293</td>\n",
       "      <td>0.003016</td>\n",
       "      <td>0.136986</td>\n",
       "      <td>12.130537</td>\n",
       "      <td>0.002767</td>\n",
       "      <td>1.145645</td>\n",
       "    </tr>\n",
       "    <tr>\n",
       "      <th>21</th>\n",
       "      <td>(0019252)</td>\n",
       "      <td>(0019247)</td>\n",
       "      <td>0.011293</td>\n",
       "      <td>0.007294</td>\n",
       "      <td>0.002837</td>\n",
       "      <td>0.251236</td>\n",
       "      <td>34.444780</td>\n",
       "      <td>0.002755</td>\n",
       "      <td>1.325794</td>\n",
       "    </tr>\n",
       "    <tr>\n",
       "      <th>20</th>\n",
       "      <td>(0019247)</td>\n",
       "      <td>(0019252)</td>\n",
       "      <td>0.007294</td>\n",
       "      <td>0.011293</td>\n",
       "      <td>0.002837</td>\n",
       "      <td>0.388974</td>\n",
       "      <td>34.444780</td>\n",
       "      <td>0.002755</td>\n",
       "      <td>1.618110</td>\n",
       "    </tr>\n",
       "    <tr>\n",
       "      <th>41</th>\n",
       "      <td>(0028759)</td>\n",
       "      <td>(0028757)</td>\n",
       "      <td>0.005105</td>\n",
       "      <td>0.006735</td>\n",
       "      <td>0.002312</td>\n",
       "      <td>0.452954</td>\n",
       "      <td>67.249780</td>\n",
       "      <td>0.002278</td>\n",
       "      <td>1.815688</td>\n",
       "    </tr>\n",
       "    <tr>\n",
       "      <th>40</th>\n",
       "      <td>(0028757)</td>\n",
       "      <td>(0028759)</td>\n",
       "      <td>0.006735</td>\n",
       "      <td>0.005105</td>\n",
       "      <td>0.002312</td>\n",
       "      <td>0.343284</td>\n",
       "      <td>67.249780</td>\n",
       "      <td>0.002278</td>\n",
       "      <td>1.514954</td>\n",
       "    </tr>\n",
       "    <tr>\n",
       "      <th>28</th>\n",
       "      <td>(0038471)</td>\n",
       "      <td>(0008608)</td>\n",
       "      <td>0.006881</td>\n",
       "      <td>0.011985</td>\n",
       "      <td>0.001977</td>\n",
       "      <td>0.287338</td>\n",
       "      <td>23.974351</td>\n",
       "      <td>0.001895</td>\n",
       "      <td>1.386372</td>\n",
       "    </tr>\n",
       "    <tr>\n",
       "      <th>29</th>\n",
       "      <td>(0008608)</td>\n",
       "      <td>(0038471)</td>\n",
       "      <td>0.011985</td>\n",
       "      <td>0.006881</td>\n",
       "      <td>0.001977</td>\n",
       "      <td>0.164958</td>\n",
       "      <td>23.974351</td>\n",
       "      <td>0.001895</td>\n",
       "      <td>1.189305</td>\n",
       "    </tr>\n",
       "    <tr>\n",
       "      <th>1</th>\n",
       "      <td>(0041236)</td>\n",
       "      <td>(0041230)</td>\n",
       "      <td>0.005641</td>\n",
       "      <td>0.009941</td>\n",
       "      <td>0.001854</td>\n",
       "      <td>0.328713</td>\n",
       "      <td>33.065929</td>\n",
       "      <td>0.001798</td>\n",
       "      <td>1.474866</td>\n",
       "    </tr>\n",
       "    <tr>\n",
       "      <th>0</th>\n",
       "      <td>(0041230)</td>\n",
       "      <td>(0041236)</td>\n",
       "      <td>0.009941</td>\n",
       "      <td>0.005641</td>\n",
       "      <td>0.001854</td>\n",
       "      <td>0.186517</td>\n",
       "      <td>33.065929</td>\n",
       "      <td>0.001798</td>\n",
       "      <td>1.222348</td>\n",
       "    </tr>\n",
       "    <tr>\n",
       "      <th>33</th>\n",
       "      <td>(0038468)</td>\n",
       "      <td>(0008612)</td>\n",
       "      <td>0.003150</td>\n",
       "      <td>0.022016</td>\n",
       "      <td>0.001843</td>\n",
       "      <td>0.585106</td>\n",
       "      <td>26.576773</td>\n",
       "      <td>0.001774</td>\n",
       "      <td>2.357193</td>\n",
       "    </tr>\n",
       "    <tr>\n",
       "      <th>32</th>\n",
       "      <td>(0008612)</td>\n",
       "      <td>(0038468)</td>\n",
       "      <td>0.022016</td>\n",
       "      <td>0.003150</td>\n",
       "      <td>0.001843</td>\n",
       "      <td>0.083714</td>\n",
       "      <td>26.576773</td>\n",
       "      <td>0.001774</td>\n",
       "      <td>1.087924</td>\n",
       "    </tr>\n",
       "    <tr>\n",
       "      <th>2</th>\n",
       "      <td>(0041241)</td>\n",
       "      <td>(0041236)</td>\n",
       "      <td>0.005708</td>\n",
       "      <td>0.005641</td>\n",
       "      <td>0.001653</td>\n",
       "      <td>0.289628</td>\n",
       "      <td>51.345628</td>\n",
       "      <td>0.001621</td>\n",
       "      <td>1.399773</td>\n",
       "    </tr>\n",
       "    <tr>\n",
       "      <th>3</th>\n",
       "      <td>(0041236)</td>\n",
       "      <td>(0041241)</td>\n",
       "      <td>0.005641</td>\n",
       "      <td>0.005708</td>\n",
       "      <td>0.001653</td>\n",
       "      <td>0.293069</td>\n",
       "      <td>51.345628</td>\n",
       "      <td>0.001621</td>\n",
       "      <td>1.406492</td>\n",
       "    </tr>\n",
       "    <tr>\n",
       "      <th>18</th>\n",
       "      <td>(0019252)</td>\n",
       "      <td>(0019251)</td>\n",
       "      <td>0.011293</td>\n",
       "      <td>0.004222</td>\n",
       "      <td>0.001530</td>\n",
       "      <td>0.135509</td>\n",
       "      <td>32.094576</td>\n",
       "      <td>0.001483</td>\n",
       "      <td>1.151867</td>\n",
       "    </tr>\n",
       "    <tr>\n",
       "      <th>19</th>\n",
       "      <td>(0019251)</td>\n",
       "      <td>(0019252)</td>\n",
       "      <td>0.004222</td>\n",
       "      <td>0.011293</td>\n",
       "      <td>0.001530</td>\n",
       "      <td>0.362434</td>\n",
       "      <td>32.094576</td>\n",
       "      <td>0.001483</td>\n",
       "      <td>1.550753</td>\n",
       "    </tr>\n",
       "    <tr>\n",
       "      <th>8</th>\n",
       "      <td>(0011242)</td>\n",
       "      <td>(0008612)</td>\n",
       "      <td>0.005105</td>\n",
       "      <td>0.022016</td>\n",
       "      <td>0.001452</td>\n",
       "      <td>0.284464</td>\n",
       "      <td>12.920953</td>\n",
       "      <td>0.001340</td>\n",
       "      <td>1.366785</td>\n",
       "    </tr>\n",
       "    <tr>\n",
       "      <th>9</th>\n",
       "      <td>(0008612)</td>\n",
       "      <td>(0011242)</td>\n",
       "      <td>0.022016</td>\n",
       "      <td>0.005105</td>\n",
       "      <td>0.001452</td>\n",
       "      <td>0.065956</td>\n",
       "      <td>12.920953</td>\n",
       "      <td>0.001340</td>\n",
       "      <td>1.065149</td>\n",
       "    </tr>\n",
       "    <tr>\n",
       "      <th>7</th>\n",
       "      <td>(0008608)</td>\n",
       "      <td>(0019252)</td>\n",
       "      <td>0.011985</td>\n",
       "      <td>0.011293</td>\n",
       "      <td>0.001441</td>\n",
       "      <td>0.120224</td>\n",
       "      <td>10.646157</td>\n",
       "      <td>0.001306</td>\n",
       "      <td>1.123817</td>\n",
       "    </tr>\n",
       "    <tr>\n",
       "      <th>6</th>\n",
       "      <td>(0019252)</td>\n",
       "      <td>(0008608)</td>\n",
       "      <td>0.011293</td>\n",
       "      <td>0.011985</td>\n",
       "      <td>0.001441</td>\n",
       "      <td>0.127596</td>\n",
       "      <td>10.646157</td>\n",
       "      <td>0.001306</td>\n",
       "      <td>1.132520</td>\n",
       "    </tr>\n",
       "    <tr>\n",
       "      <th>16</th>\n",
       "      <td>(0019247)</td>\n",
       "      <td>(0019251)</td>\n",
       "      <td>0.007294</td>\n",
       "      <td>0.004222</td>\n",
       "      <td>0.001407</td>\n",
       "      <td>0.192956</td>\n",
       "      <td>45.700357</td>\n",
       "      <td>0.001377</td>\n",
       "      <td>1.233858</td>\n",
       "    </tr>\n",
       "    <tr>\n",
       "      <th>17</th>\n",
       "      <td>(0019251)</td>\n",
       "      <td>(0019247)</td>\n",
       "      <td>0.004222</td>\n",
       "      <td>0.007294</td>\n",
       "      <td>0.001407</td>\n",
       "      <td>0.333333</td>\n",
       "      <td>45.700357</td>\n",
       "      <td>0.001377</td>\n",
       "      <td>1.489059</td>\n",
       "    </tr>\n",
       "    <tr>\n",
       "      <th>45</th>\n",
       "      <td>(0027705)</td>\n",
       "      <td>(0027706)</td>\n",
       "      <td>0.002770</td>\n",
       "      <td>0.002446</td>\n",
       "      <td>0.001352</td>\n",
       "      <td>0.487903</td>\n",
       "      <td>199.454393</td>\n",
       "      <td>0.001345</td>\n",
       "      <td>1.947979</td>\n",
       "    </tr>\n",
       "    <tr>\n",
       "      <th>44</th>\n",
       "      <td>(0027706)</td>\n",
       "      <td>(0027705)</td>\n",
       "      <td>0.002446</td>\n",
       "      <td>0.002770</td>\n",
       "      <td>0.001352</td>\n",
       "      <td>0.552511</td>\n",
       "      <td>199.454393</td>\n",
       "      <td>0.001345</td>\n",
       "      <td>2.228504</td>\n",
       "    </tr>\n",
       "    <tr>\n",
       "      <th>14</th>\n",
       "      <td>(0025234)</td>\n",
       "      <td>(0027491)</td>\n",
       "      <td>0.005306</td>\n",
       "      <td>0.009595</td>\n",
       "      <td>0.001262</td>\n",
       "      <td>0.237895</td>\n",
       "      <td>24.793949</td>\n",
       "      <td>0.001211</td>\n",
       "      <td>1.299565</td>\n",
       "    </tr>\n",
       "    <tr>\n",
       "      <th>15</th>\n",
       "      <td>(0027491)</td>\n",
       "      <td>(0025234)</td>\n",
       "      <td>0.009595</td>\n",
       "      <td>0.005306</td>\n",
       "      <td>0.001262</td>\n",
       "      <td>0.131548</td>\n",
       "      <td>24.793949</td>\n",
       "      <td>0.001211</td>\n",
       "      <td>1.145365</td>\n",
       "    </tr>\n",
       "    <tr>\n",
       "      <th>46</th>\n",
       "      <td>(0039405)</td>\n",
       "      <td>(0039408)</td>\n",
       "      <td>0.003139</td>\n",
       "      <td>0.002044</td>\n",
       "      <td>0.001240</td>\n",
       "      <td>0.395018</td>\n",
       "      <td>193.250044</td>\n",
       "      <td>0.001233</td>\n",
       "      <td>1.649562</td>\n",
       "    </tr>\n",
       "    <tr>\n",
       "      <th>47</th>\n",
       "      <td>(0039408)</td>\n",
       "      <td>(0039405)</td>\n",
       "      <td>0.002044</td>\n",
       "      <td>0.003139</td>\n",
       "      <td>0.001240</td>\n",
       "      <td>0.606557</td>\n",
       "      <td>193.250044</td>\n",
       "      <td>0.001233</td>\n",
       "      <td>2.533689</td>\n",
       "    </tr>\n",
       "    <tr>\n",
       "      <th>35</th>\n",
       "      <td>(0029179)</td>\n",
       "      <td>(0030091)</td>\n",
       "      <td>0.012008</td>\n",
       "      <td>0.005451</td>\n",
       "      <td>0.001139</td>\n",
       "      <td>0.094884</td>\n",
       "      <td>17.407080</td>\n",
       "      <td>0.001074</td>\n",
       "      <td>1.098808</td>\n",
       "    </tr>\n",
       "    <tr>\n",
       "      <th>34</th>\n",
       "      <td>(0030091)</td>\n",
       "      <td>(0029179)</td>\n",
       "      <td>0.005451</td>\n",
       "      <td>0.012008</td>\n",
       "      <td>0.001139</td>\n",
       "      <td>0.209016</td>\n",
       "      <td>17.407080</td>\n",
       "      <td>0.001074</td>\n",
       "      <td>1.249068</td>\n",
       "    </tr>\n",
       "    <tr>\n",
       "      <th>25</th>\n",
       "      <td>(0031324)</td>\n",
       "      <td>(0051343)</td>\n",
       "      <td>0.004457</td>\n",
       "      <td>0.002837</td>\n",
       "      <td>0.001072</td>\n",
       "      <td>0.240602</td>\n",
       "      <td>84.804452</td>\n",
       "      <td>0.001060</td>\n",
       "      <td>1.313096</td>\n",
       "    </tr>\n",
       "    <tr>\n",
       "      <th>24</th>\n",
       "      <td>(0051343)</td>\n",
       "      <td>(0031324)</td>\n",
       "      <td>0.002837</td>\n",
       "      <td>0.004457</td>\n",
       "      <td>0.001072</td>\n",
       "      <td>0.377953</td>\n",
       "      <td>84.804452</td>\n",
       "      <td>0.001060</td>\n",
       "      <td>1.600430</td>\n",
       "    </tr>\n",
       "    <tr>\n",
       "      <th>31</th>\n",
       "      <td>(0008608)</td>\n",
       "      <td>(0038468)</td>\n",
       "      <td>0.011985</td>\n",
       "      <td>0.003150</td>\n",
       "      <td>0.001039</td>\n",
       "      <td>0.086673</td>\n",
       "      <td>27.516181</td>\n",
       "      <td>0.001001</td>\n",
       "      <td>1.091449</td>\n",
       "    </tr>\n",
       "    <tr>\n",
       "      <th>30</th>\n",
       "      <td>(0038468)</td>\n",
       "      <td>(0008608)</td>\n",
       "      <td>0.003150</td>\n",
       "      <td>0.011985</td>\n",
       "      <td>0.001039</td>\n",
       "      <td>0.329787</td>\n",
       "      <td>27.516181</td>\n",
       "      <td>0.001001</td>\n",
       "      <td>1.474181</td>\n",
       "    </tr>\n",
       "    <tr>\n",
       "      <th>36</th>\n",
       "      <td>(0028759)</td>\n",
       "      <td>(0028754)</td>\n",
       "      <td>0.005105</td>\n",
       "      <td>0.003116</td>\n",
       "      <td>0.001028</td>\n",
       "      <td>0.201313</td>\n",
       "      <td>64.598355</td>\n",
       "      <td>0.001012</td>\n",
       "      <td>1.248153</td>\n",
       "    </tr>\n",
       "    <tr>\n",
       "      <th>37</th>\n",
       "      <td>(0028754)</td>\n",
       "      <td>(0028759)</td>\n",
       "      <td>0.003116</td>\n",
       "      <td>0.005105</td>\n",
       "      <td>0.001028</td>\n",
       "      <td>0.329749</td>\n",
       "      <td>64.598355</td>\n",
       "      <td>0.001012</td>\n",
       "      <td>1.484363</td>\n",
       "    </tr>\n",
       "    <tr>\n",
       "      <th>13</th>\n",
       "      <td>(0010851)</td>\n",
       "      <td>(0025027)</td>\n",
       "      <td>0.011739</td>\n",
       "      <td>0.008902</td>\n",
       "      <td>0.001028</td>\n",
       "      <td>0.087536</td>\n",
       "      <td>9.832882</td>\n",
       "      <td>0.000923</td>\n",
       "      <td>1.086177</td>\n",
       "    </tr>\n",
       "    <tr>\n",
       "      <th>12</th>\n",
       "      <td>(0025027)</td>\n",
       "      <td>(0010851)</td>\n",
       "      <td>0.008902</td>\n",
       "      <td>0.011739</td>\n",
       "      <td>0.001028</td>\n",
       "      <td>0.115433</td>\n",
       "      <td>9.832882</td>\n",
       "      <td>0.000923</td>\n",
       "      <td>1.117225</td>\n",
       "    </tr>\n",
       "    <tr>\n",
       "      <th>11</th>\n",
       "      <td>(0019252)</td>\n",
       "      <td>(0011242)</td>\n",
       "      <td>0.011293</td>\n",
       "      <td>0.005105</td>\n",
       "      <td>0.001028</td>\n",
       "      <td>0.090999</td>\n",
       "      <td>17.826846</td>\n",
       "      <td>0.000970</td>\n",
       "      <td>1.094493</td>\n",
       "    </tr>\n",
       "    <tr>\n",
       "      <th>10</th>\n",
       "      <td>(0011242)</td>\n",
       "      <td>(0019252)</td>\n",
       "      <td>0.005105</td>\n",
       "      <td>0.011293</td>\n",
       "      <td>0.001028</td>\n",
       "      <td>0.201313</td>\n",
       "      <td>17.826846</td>\n",
       "      <td>0.000970</td>\n",
       "      <td>1.237916</td>\n",
       "    </tr>\n",
       "  </tbody>\n",
       "</table>\n",
       "</div>"
      ],
      "text/plain": [
       "   antecedents consequents  antecedent support  consequent support   support  \\\n",
       "43   (0048514)   (0048513)            0.012923            0.014968  0.009327   \n",
       "42   (0048513)   (0048514)            0.014968            0.012923  0.009327   \n",
       "27   (0038471)   (0008612)            0.006881            0.022016  0.004211   \n",
       "26   (0008612)   (0038471)            0.022016            0.006881  0.004211   \n",
       "22   (0008612)   (0008608)            0.022016            0.011985  0.004032   \n",
       "23   (0008608)   (0008612)            0.011985            0.022016  0.004032   \n",
       "38   (0041230)   (0041241)            0.009941            0.005708  0.003250   \n",
       "39   (0041241)   (0041230)            0.005708            0.009941  0.003250   \n",
       "5    (0019252)   (0008612)            0.011293            0.022016  0.003016   \n",
       "4    (0008612)   (0019252)            0.022016            0.011293  0.003016   \n",
       "21   (0019252)   (0019247)            0.011293            0.007294  0.002837   \n",
       "20   (0019247)   (0019252)            0.007294            0.011293  0.002837   \n",
       "41   (0028759)   (0028757)            0.005105            0.006735  0.002312   \n",
       "40   (0028757)   (0028759)            0.006735            0.005105  0.002312   \n",
       "28   (0038471)   (0008608)            0.006881            0.011985  0.001977   \n",
       "29   (0008608)   (0038471)            0.011985            0.006881  0.001977   \n",
       "1    (0041236)   (0041230)            0.005641            0.009941  0.001854   \n",
       "0    (0041230)   (0041236)            0.009941            0.005641  0.001854   \n",
       "33   (0038468)   (0008612)            0.003150            0.022016  0.001843   \n",
       "32   (0008612)   (0038468)            0.022016            0.003150  0.001843   \n",
       "2    (0041241)   (0041236)            0.005708            0.005641  0.001653   \n",
       "3    (0041236)   (0041241)            0.005641            0.005708  0.001653   \n",
       "18   (0019252)   (0019251)            0.011293            0.004222  0.001530   \n",
       "19   (0019251)   (0019252)            0.004222            0.011293  0.001530   \n",
       "8    (0011242)   (0008612)            0.005105            0.022016  0.001452   \n",
       "9    (0008612)   (0011242)            0.022016            0.005105  0.001452   \n",
       "7    (0008608)   (0019252)            0.011985            0.011293  0.001441   \n",
       "6    (0019252)   (0008608)            0.011293            0.011985  0.001441   \n",
       "16   (0019247)   (0019251)            0.007294            0.004222  0.001407   \n",
       "17   (0019251)   (0019247)            0.004222            0.007294  0.001407   \n",
       "45   (0027705)   (0027706)            0.002770            0.002446  0.001352   \n",
       "44   (0027706)   (0027705)            0.002446            0.002770  0.001352   \n",
       "14   (0025234)   (0027491)            0.005306            0.009595  0.001262   \n",
       "15   (0027491)   (0025234)            0.009595            0.005306  0.001262   \n",
       "46   (0039405)   (0039408)            0.003139            0.002044  0.001240   \n",
       "47   (0039408)   (0039405)            0.002044            0.003139  0.001240   \n",
       "35   (0029179)   (0030091)            0.012008            0.005451  0.001139   \n",
       "34   (0030091)   (0029179)            0.005451            0.012008  0.001139   \n",
       "25   (0031324)   (0051343)            0.004457            0.002837  0.001072   \n",
       "24   (0051343)   (0031324)            0.002837            0.004457  0.001072   \n",
       "31   (0008608)   (0038468)            0.011985            0.003150  0.001039   \n",
       "30   (0038468)   (0008608)            0.003150            0.011985  0.001039   \n",
       "36   (0028759)   (0028754)            0.005105            0.003116  0.001028   \n",
       "37   (0028754)   (0028759)            0.003116            0.005105  0.001028   \n",
       "13   (0010851)   (0025027)            0.011739            0.008902  0.001028   \n",
       "12   (0025027)   (0010851)            0.008902            0.011739  0.001028   \n",
       "11   (0019252)   (0011242)            0.011293            0.005105  0.001028   \n",
       "10   (0011242)   (0019252)            0.005105            0.011293  0.001028   \n",
       "\n",
       "    confidence        lift  leverage  conviction  \n",
       "43    0.721694   48.217240  0.009133    3.539387  \n",
       "42    0.623134   48.217240  0.009133    2.619173  \n",
       "27    0.612013   27.798928  0.004060    2.520662  \n",
       "26    0.191273   27.798928  0.004060    1.228004  \n",
       "22    0.183156   15.281813  0.003768    1.209551  \n",
       "23    0.336440   15.281813  0.003768    1.473844  \n",
       "38    0.326966   57.284366  0.003194    1.477329  \n",
       "39    0.569472   57.284366  0.003194    2.299637  \n",
       "5     0.267062   12.130537  0.002767    1.334335  \n",
       "4     0.136986   12.130537  0.002767    1.145645  \n",
       "21    0.251236   34.444780  0.002755    1.325794  \n",
       "20    0.388974   34.444780  0.002755    1.618110  \n",
       "41    0.452954   67.249780  0.002278    1.815688  \n",
       "40    0.343284   67.249780  0.002278    1.514954  \n",
       "28    0.287338   23.974351  0.001895    1.386372  \n",
       "29    0.164958   23.974351  0.001895    1.189305  \n",
       "1     0.328713   33.065929  0.001798    1.474866  \n",
       "0     0.186517   33.065929  0.001798    1.222348  \n",
       "33    0.585106   26.576773  0.001774    2.357193  \n",
       "32    0.083714   26.576773  0.001774    1.087924  \n",
       "2     0.289628   51.345628  0.001621    1.399773  \n",
       "3     0.293069   51.345628  0.001621    1.406492  \n",
       "18    0.135509   32.094576  0.001483    1.151867  \n",
       "19    0.362434   32.094576  0.001483    1.550753  \n",
       "8     0.284464   12.920953  0.001340    1.366785  \n",
       "9     0.065956   12.920953  0.001340    1.065149  \n",
       "7     0.120224   10.646157  0.001306    1.123817  \n",
       "6     0.127596   10.646157  0.001306    1.132520  \n",
       "16    0.192956   45.700357  0.001377    1.233858  \n",
       "17    0.333333   45.700357  0.001377    1.489059  \n",
       "45    0.487903  199.454393  0.001345    1.947979  \n",
       "44    0.552511  199.454393  0.001345    2.228504  \n",
       "14    0.237895   24.793949  0.001211    1.299565  \n",
       "15    0.131548   24.793949  0.001211    1.145365  \n",
       "46    0.395018  193.250044  0.001233    1.649562  \n",
       "47    0.606557  193.250044  0.001233    2.533689  \n",
       "35    0.094884   17.407080  0.001074    1.098808  \n",
       "34    0.209016   17.407080  0.001074    1.249068  \n",
       "25    0.240602   84.804452  0.001060    1.313096  \n",
       "24    0.377953   84.804452  0.001060    1.600430  \n",
       "31    0.086673   27.516181  0.001001    1.091449  \n",
       "30    0.329787   27.516181  0.001001    1.474181  \n",
       "36    0.201313   64.598355  0.001012    1.248153  \n",
       "37    0.329749   64.598355  0.001012    1.484363  \n",
       "13    0.087536    9.832882  0.000923    1.086177  \n",
       "12    0.115433    9.832882  0.000923    1.117225  \n",
       "11    0.090999   17.826846  0.000970    1.094493  \n",
       "10    0.201313   17.826846  0.000970    1.237916  "
      ]
     },
     "execution_count": 72,
     "metadata": {},
     "output_type": "execute_result"
    },
    {
     "data": {
      "application/javascript": [
       "\n",
       "            setTimeout(function() {\n",
       "                var nbb_cell_id = 72;\n",
       "                var nbb_unformatted_code = \"rules = association_rules(is_fp, metric=\\\"lift\\\", min_threshold=0.8)\\nprint(len(rules))\\nrules.sort_values(by='support', ascending=False)\";\n",
       "                var nbb_formatted_code = \"rules = association_rules(is_fp, metric=\\\"lift\\\", min_threshold=0.8)\\nprint(len(rules))\\nrules.sort_values(by=\\\"support\\\", ascending=False)\";\n",
       "                var nbb_cells = Jupyter.notebook.get_cells();\n",
       "                for (var i = 0; i < nbb_cells.length; ++i) {\n",
       "                    if (nbb_cells[i].input_prompt_number == nbb_cell_id) {\n",
       "                        if (nbb_cells[i].get_text() == nbb_unformatted_code) {\n",
       "                             nbb_cells[i].set_text(nbb_formatted_code);\n",
       "                        }\n",
       "                        break;\n",
       "                    }\n",
       "                }\n",
       "            }, 500);\n",
       "            "
      ],
      "text/plain": [
       "<IPython.core.display.Javascript object>"
      ]
     },
     "metadata": {},
     "output_type": "display_data"
    }
   ],
   "source": [
    "rules = association_rules(is_fp, metric=\"lift\", min_threshold=0.8)\n",
    "print(len(rules))\n",
    "rules.sort_values(by=\"support\", ascending=False)"
   ]
  },
  {
   "cell_type": "markdown",
   "id": "a8147a84",
   "metadata": {
    "heading_collapsed": true
   },
   "source": [
    "## Prognozės (predictions)"
   ]
  },
  {
   "cell_type": "code",
   "execution_count": 73,
   "id": "bbc01694",
   "metadata": {
    "ExecuteTime": {
     "end_time": "2023-03-28T12:04:41.554889Z",
     "start_time": "2023-03-28T12:04:41.538931Z"
    },
    "hidden": true
   },
   "outputs": [
    {
     "data": {
      "application/javascript": [
       "\n",
       "            setTimeout(function() {\n",
       "                var nbb_cell_id = 73;\n",
       "                var nbb_unformatted_code = \"def predict(antecedent, rules, max_results=5):\\n    preds = rules[rules[\\\"antecedents\\\"] == antecedent]\\n    preds = preds[\\\"consequents\\\"].apply(iter).apply(next)\\n    return preds.iloc[:max_results].reset_index(drop=True)\";\n",
       "                var nbb_formatted_code = \"def predict(antecedent, rules, max_results=5):\\n    preds = rules[rules[\\\"antecedents\\\"] == antecedent]\\n    preds = preds[\\\"consequents\\\"].apply(iter).apply(next)\\n    return preds.iloc[:max_results].reset_index(drop=True)\";\n",
       "                var nbb_cells = Jupyter.notebook.get_cells();\n",
       "                for (var i = 0; i < nbb_cells.length; ++i) {\n",
       "                    if (nbb_cells[i].input_prompt_number == nbb_cell_id) {\n",
       "                        if (nbb_cells[i].get_text() == nbb_unformatted_code) {\n",
       "                             nbb_cells[i].set_text(nbb_formatted_code);\n",
       "                        }\n",
       "                        break;\n",
       "                    }\n",
       "                }\n",
       "            }, 500);\n",
       "            "
      ],
      "text/plain": [
       "<IPython.core.display.Javascript object>"
      ]
     },
     "metadata": {},
     "output_type": "display_data"
    }
   ],
   "source": [
    "def predict(antecedent, rules, max_results=5):\n",
    "    preds = rules[rules[\"antecedents\"] == antecedent]\n",
    "    preds = preds[\"consequents\"].apply(iter).apply(next)\n",
    "    return preds.iloc[:max_results].reset_index(drop=True)"
   ]
  },
  {
   "cell_type": "code",
   "execution_count": 74,
   "id": "15a463ba",
   "metadata": {
    "ExecuteTime": {
     "end_time": "2023-03-28T12:04:47.737964Z",
     "start_time": "2023-03-28T12:04:47.716023Z"
    },
    "hidden": true
   },
   "outputs": [
    {
     "name": "stdout",
     "output_type": "stream",
     "text": [
      "0008612  - Blakstienų ir antakių dažai, Nr.3, rudi \n",
      "----------------------------------------\n",
      "0019252  - Oksidantas, 3%, 50ml \n",
      "0011242  - Kosmetininiai šepetėliai, 1/5vnt \n",
      "0008608  - Blakstienų ir antakių dažai, Nr.1, juodi \n",
      "0038471  - Oksidacinė emulsija, 3%, 10 vol.,100 ml \n",
      "0038468  - Oksidacinis skystis, 3%, 10 vol., 100 ml \n"
     ]
    },
    {
     "data": {
      "application/javascript": [
       "\n",
       "            setTimeout(function() {\n",
       "                var nbb_cell_id = 74;\n",
       "                var nbb_unformatted_code = \"prekes_kodas = \\\"0008612\\\"\\npreds = predict({prekes_kodas}, rules)\\n\\nprint(f\\\"{prekes_kodas:8} - {prekes[prekes_kodas]}\\\")\\nprint(\\\"-\\\" * 40)\\nfor stockid in preds:\\n    print(f\\\"{stockid:8} - {prekes[stockid]}\\\")\";\n",
       "                var nbb_formatted_code = \"prekes_kodas = \\\"0008612\\\"\\npreds = predict({prekes_kodas}, rules)\\n\\nprint(f\\\"{prekes_kodas:8} - {prekes[prekes_kodas]}\\\")\\nprint(\\\"-\\\" * 40)\\nfor stockid in preds:\\n    print(f\\\"{stockid:8} - {prekes[stockid]}\\\")\";\n",
       "                var nbb_cells = Jupyter.notebook.get_cells();\n",
       "                for (var i = 0; i < nbb_cells.length; ++i) {\n",
       "                    if (nbb_cells[i].input_prompt_number == nbb_cell_id) {\n",
       "                        if (nbb_cells[i].get_text() == nbb_unformatted_code) {\n",
       "                             nbb_cells[i].set_text(nbb_formatted_code);\n",
       "                        }\n",
       "                        break;\n",
       "                    }\n",
       "                }\n",
       "            }, 500);\n",
       "            "
      ],
      "text/plain": [
       "<IPython.core.display.Javascript object>"
      ]
     },
     "metadata": {},
     "output_type": "display_data"
    }
   ],
   "source": [
    "prekes_kodas = \"0008612\"\n",
    "preds = predict({prekes_kodas}, rules)\n",
    "\n",
    "print(f\"{prekes_kodas:8} - {prekes[prekes_kodas]}\")\n",
    "print(\"-\" * 40)\n",
    "for stockid in preds:\n",
    "    print(f\"{stockid:8} - {prekes[stockid]}\")"
   ]
  },
  {
   "cell_type": "code",
   "execution_count": 75,
   "id": "f9ff915e",
   "metadata": {
    "ExecuteTime": {
     "end_time": "2023-03-28T12:04:57.578071Z",
     "start_time": "2023-03-28T12:04:57.556129Z"
    },
    "hidden": true
   },
   "outputs": [
    {
     "name": "stdout",
     "output_type": "stream",
     "text": [
      "0019252  - Oksidantas, 3%, 50ml \n",
      "----------------------------------------\n",
      "0008612  - Blakstienų ir antakių dažai, Nr.3, rudi \n",
      "0008608  - Blakstienų ir antakių dažai, Nr.1, juodi \n",
      "0011242  - Kosmetininiai šepetėliai, 1/5vnt \n",
      "0019251  - Antakių/blakstienų dažai, juodi, 15ml \n",
      "0019247  - Antakių/blakstienų dažai, rudi, 15ml \n"
     ]
    },
    {
     "data": {
      "application/javascript": [
       "\n",
       "            setTimeout(function() {\n",
       "                var nbb_cell_id = 75;\n",
       "                var nbb_unformatted_code = \"prekes_kodas = \\\"0019252\\\"\\npreds = predict({prekes_kodas}, rules)\\n\\nprint(f\\\"{prekes_kodas:8} - {prekes[prekes_kodas]}\\\")\\nprint(\\\"-\\\" * 40)\\nfor stockid in preds:\\n    print(f\\\"{stockid:8} - {prekes[stockid]}\\\")\";\n",
       "                var nbb_formatted_code = \"prekes_kodas = \\\"0019252\\\"\\npreds = predict({prekes_kodas}, rules)\\n\\nprint(f\\\"{prekes_kodas:8} - {prekes[prekes_kodas]}\\\")\\nprint(\\\"-\\\" * 40)\\nfor stockid in preds:\\n    print(f\\\"{stockid:8} - {prekes[stockid]}\\\")\";\n",
       "                var nbb_cells = Jupyter.notebook.get_cells();\n",
       "                for (var i = 0; i < nbb_cells.length; ++i) {\n",
       "                    if (nbb_cells[i].input_prompt_number == nbb_cell_id) {\n",
       "                        if (nbb_cells[i].get_text() == nbb_unformatted_code) {\n",
       "                             nbb_cells[i].set_text(nbb_formatted_code);\n",
       "                        }\n",
       "                        break;\n",
       "                    }\n",
       "                }\n",
       "            }, 500);\n",
       "            "
      ],
      "text/plain": [
       "<IPython.core.display.Javascript object>"
      ]
     },
     "metadata": {},
     "output_type": "display_data"
    }
   ],
   "source": [
    "prekes_kodas = \"0019252\"\n",
    "preds = predict({prekes_kodas}, rules)\n",
    "\n",
    "print(f\"{prekes_kodas:8} - {prekes[prekes_kodas]}\")\n",
    "print(\"-\" * 40)\n",
    "for stockid in preds:\n",
    "    print(f\"{stockid:8} - {prekes[stockid]}\")"
   ]
  },
  {
   "cell_type": "raw",
   "id": "b22c418b",
   "metadata": {
    "hidden": true
   },
   "source": []
  },
  {
   "cell_type": "markdown",
   "id": "31debd4c",
   "metadata": {},
   "source": [
    "## Vartotojas-vartotojui (user-to-user collaborative filtering)"
   ]
  },
  {
   "cell_type": "markdown",
   "id": "290b8900",
   "metadata": {},
   "source": [
    "Vartotojai skaitomi panašiausi, jei jie perka panašias prekes. Tam panašumui įvertinti baudojama metrika _cosine_, t.y. mažiausias 'kampas' tarp dviejų vartotojų prekių reitingų\n",
    "Sudarome reitingų lentelę naudojantis pirkimų skaičiumi"
   ]
  },
  {
   "cell_type": "code",
   "execution_count": 77,
   "id": "ab735df8",
   "metadata": {
    "ExecuteTime": {
     "end_time": "2023-03-28T13:40:14.756060Z",
     "start_time": "2023-03-28T13:39:35.149466Z"
    }
   },
   "outputs": [
    {
     "data": {
      "application/javascript": [
       "\n",
       "            setTimeout(function() {\n",
       "                var nbb_cell_id = 77;\n",
       "                var nbb_unformatted_code = \"df_pvt = pd.pivot_table(\\n    df,\\n    values=\\\"kvitas\\\",\\n    index=[\\\"pirkejo_id\\\"],\\n    columns=[\\\"nom_id\\\"],\\n    aggfunc=len,\\n    fill_value=0,\\n)\\ndf_pvt1 = df_pvt.transpose()\";\n",
       "                var nbb_formatted_code = \"df_pvt = pd.pivot_table(\\n    df,\\n    values=\\\"kvitas\\\",\\n    index=[\\\"pirkejo_id\\\"],\\n    columns=[\\\"nom_id\\\"],\\n    aggfunc=len,\\n    fill_value=0,\\n)\\ndf_pvt1 = df_pvt.transpose()\";\n",
       "                var nbb_cells = Jupyter.notebook.get_cells();\n",
       "                for (var i = 0; i < nbb_cells.length; ++i) {\n",
       "                    if (nbb_cells[i].input_prompt_number == nbb_cell_id) {\n",
       "                        if (nbb_cells[i].get_text() == nbb_unformatted_code) {\n",
       "                             nbb_cells[i].set_text(nbb_formatted_code);\n",
       "                        }\n",
       "                        break;\n",
       "                    }\n",
       "                }\n",
       "            }, 500);\n",
       "            "
      ],
      "text/plain": [
       "<IPython.core.display.Javascript object>"
      ]
     },
     "metadata": {},
     "output_type": "display_data"
    }
   ],
   "source": [
    "df_pvt = pd.pivot_table(\n",
    "    df,\n",
    "    values=\"kvitas\",\n",
    "    index=[\"pirkejo_id\"],\n",
    "    columns=[\"nom_id\"],\n",
    "    aggfunc=len,\n",
    "    fill_value=0,\n",
    ")\n",
    "df_pvt1 = df_pvt.transpose()"
   ]
  },
  {
   "cell_type": "markdown",
   "id": "add9e373",
   "metadata": {},
   "source": [
    "Sunormuojame reitingus"
   ]
  },
  {
   "cell_type": "code",
   "execution_count": 78,
   "id": "a2a77d00",
   "metadata": {
    "ExecuteTime": {
     "end_time": "2023-03-28T13:42:10.065633Z",
     "start_time": "2023-03-28T13:42:03.578512Z"
    }
   },
   "outputs": [
    {
     "data": {
      "application/javascript": [
       "\n",
       "            setTimeout(function() {\n",
       "                var nbb_cell_id = 78;\n",
       "                var nbb_unformatted_code = \"# https://stackoverflow.com/questions/63463531/min-max-scaling-for-whole-dataframe-python\\nmin_value, max_value = df_pvt1.min().min(), df_pvt1.max().max()\\ndf_pvt_scaler = (df_pvt1 - min_value) * 10 / (max_value - min_value)\";\n",
       "                var nbb_formatted_code = \"# https://stackoverflow.com/questions/63463531/min-max-scaling-for-whole-dataframe-python\\nmin_value, max_value = df_pvt1.min().min(), df_pvt1.max().max()\\ndf_pvt_scaler = (df_pvt1 - min_value) * 10 / (max_value - min_value)\";\n",
       "                var nbb_cells = Jupyter.notebook.get_cells();\n",
       "                for (var i = 0; i < nbb_cells.length; ++i) {\n",
       "                    if (nbb_cells[i].input_prompt_number == nbb_cell_id) {\n",
       "                        if (nbb_cells[i].get_text() == nbb_unformatted_code) {\n",
       "                             nbb_cells[i].set_text(nbb_formatted_code);\n",
       "                        }\n",
       "                        break;\n",
       "                    }\n",
       "                }\n",
       "            }, 500);\n",
       "            "
      ],
      "text/plain": [
       "<IPython.core.display.Javascript object>"
      ]
     },
     "metadata": {},
     "output_type": "display_data"
    }
   ],
   "source": [
    "# https://stackoverflow.com/questions/63463531/min-max-scaling-for-whole-dataframe-python\n",
    "min_value, max_value = df_pvt1.min().min(), df_pvt1.max().max()\n",
    "df_pvt_scaler = (df_pvt1 - min_value) * 10 / (max_value - min_value)\n"
   ]
  },
  {
   "cell_type": "code",
   "execution_count": 79,
   "id": "3ea6141a",
   "metadata": {
    "ExecuteTime": {
     "end_time": "2023-03-28T13:43:01.327008Z",
     "start_time": "2023-03-28T13:43:01.217302Z"
    }
   },
   "outputs": [
    {
     "data": {
      "text/html": [
       "<div>\n",
       "<style scoped>\n",
       "    .dataframe tbody tr th:only-of-type {\n",
       "        vertical-align: middle;\n",
       "    }\n",
       "\n",
       "    .dataframe tbody tr th {\n",
       "        vertical-align: top;\n",
       "    }\n",
       "\n",
       "    .dataframe thead th {\n",
       "        text-align: right;\n",
       "    }\n",
       "</style>\n",
       "<table border=\"1\" class=\"dataframe\">\n",
       "  <thead>\n",
       "    <tr style=\"text-align: right;\">\n",
       "      <th>nom_id</th>\n",
       "      <th>0001010</th>\n",
       "      <th>0001345</th>\n",
       "      <th>0001346</th>\n",
       "      <th>0001351</th>\n",
       "      <th>0001442</th>\n",
       "      <th>0001477</th>\n",
       "      <th>0001478</th>\n",
       "      <th>0001654</th>\n",
       "      <th>0001718</th>\n",
       "      <th>0001721</th>\n",
       "      <th>...</th>\n",
       "      <th>0054795</th>\n",
       "      <th>0054803</th>\n",
       "      <th>0054804</th>\n",
       "      <th>0054805</th>\n",
       "      <th>0054872</th>\n",
       "      <th>0054873</th>\n",
       "      <th>0054878</th>\n",
       "      <th>0054887</th>\n",
       "      <th>0054905</th>\n",
       "      <th>0054938</th>\n",
       "    </tr>\n",
       "    <tr>\n",
       "      <th>pirkejo_id</th>\n",
       "      <th></th>\n",
       "      <th></th>\n",
       "      <th></th>\n",
       "      <th></th>\n",
       "      <th></th>\n",
       "      <th></th>\n",
       "      <th></th>\n",
       "      <th></th>\n",
       "      <th></th>\n",
       "      <th></th>\n",
       "      <th></th>\n",
       "      <th></th>\n",
       "      <th></th>\n",
       "      <th></th>\n",
       "      <th></th>\n",
       "      <th></th>\n",
       "      <th></th>\n",
       "      <th></th>\n",
       "      <th></th>\n",
       "      <th></th>\n",
       "      <th></th>\n",
       "    </tr>\n",
       "  </thead>\n",
       "  <tbody>\n",
       "    <tr>\n",
       "      <th>00135</th>\n",
       "      <td>0.0</td>\n",
       "      <td>0.0</td>\n",
       "      <td>0.0</td>\n",
       "      <td>0.0</td>\n",
       "      <td>0.0</td>\n",
       "      <td>0.0</td>\n",
       "      <td>0.0</td>\n",
       "      <td>0.0</td>\n",
       "      <td>0.0</td>\n",
       "      <td>0.0</td>\n",
       "      <td>...</td>\n",
       "      <td>0.0</td>\n",
       "      <td>0.0</td>\n",
       "      <td>0.0</td>\n",
       "      <td>0.0</td>\n",
       "      <td>0.0</td>\n",
       "      <td>0.0</td>\n",
       "      <td>0.0</td>\n",
       "      <td>0.0</td>\n",
       "      <td>0.0</td>\n",
       "      <td>0.0</td>\n",
       "    </tr>\n",
       "    <tr>\n",
       "      <th>00168</th>\n",
       "      <td>0.0</td>\n",
       "      <td>0.0</td>\n",
       "      <td>0.0</td>\n",
       "      <td>0.0</td>\n",
       "      <td>0.0</td>\n",
       "      <td>0.0</td>\n",
       "      <td>0.0</td>\n",
       "      <td>0.0</td>\n",
       "      <td>0.0</td>\n",
       "      <td>0.0</td>\n",
       "      <td>...</td>\n",
       "      <td>0.0</td>\n",
       "      <td>0.0</td>\n",
       "      <td>0.0</td>\n",
       "      <td>0.0</td>\n",
       "      <td>0.0</td>\n",
       "      <td>0.0</td>\n",
       "      <td>0.0</td>\n",
       "      <td>0.0</td>\n",
       "      <td>0.0</td>\n",
       "      <td>0.0</td>\n",
       "    </tr>\n",
       "    <tr>\n",
       "      <th>00178</th>\n",
       "      <td>0.0</td>\n",
       "      <td>0.0</td>\n",
       "      <td>0.0</td>\n",
       "      <td>0.0</td>\n",
       "      <td>0.0</td>\n",
       "      <td>0.0</td>\n",
       "      <td>0.0</td>\n",
       "      <td>0.0</td>\n",
       "      <td>0.0</td>\n",
       "      <td>0.0</td>\n",
       "      <td>...</td>\n",
       "      <td>0.0</td>\n",
       "      <td>0.0</td>\n",
       "      <td>0.0</td>\n",
       "      <td>0.0</td>\n",
       "      <td>0.0</td>\n",
       "      <td>0.0</td>\n",
       "      <td>0.0</td>\n",
       "      <td>0.0</td>\n",
       "      <td>0.0</td>\n",
       "      <td>0.0</td>\n",
       "    </tr>\n",
       "    <tr>\n",
       "      <th>00195</th>\n",
       "      <td>0.0</td>\n",
       "      <td>0.0</td>\n",
       "      <td>0.0</td>\n",
       "      <td>0.0</td>\n",
       "      <td>0.0</td>\n",
       "      <td>0.0</td>\n",
       "      <td>0.0</td>\n",
       "      <td>0.0</td>\n",
       "      <td>0.0</td>\n",
       "      <td>0.0</td>\n",
       "      <td>...</td>\n",
       "      <td>0.0</td>\n",
       "      <td>0.0</td>\n",
       "      <td>0.0</td>\n",
       "      <td>0.0</td>\n",
       "      <td>0.0</td>\n",
       "      <td>0.0</td>\n",
       "      <td>0.0</td>\n",
       "      <td>0.0</td>\n",
       "      <td>0.0</td>\n",
       "      <td>0.0</td>\n",
       "    </tr>\n",
       "    <tr>\n",
       "      <th>00202</th>\n",
       "      <td>0.0</td>\n",
       "      <td>0.0</td>\n",
       "      <td>0.0</td>\n",
       "      <td>0.0</td>\n",
       "      <td>0.0</td>\n",
       "      <td>0.0</td>\n",
       "      <td>0.0</td>\n",
       "      <td>0.0</td>\n",
       "      <td>0.0</td>\n",
       "      <td>0.0</td>\n",
       "      <td>...</td>\n",
       "      <td>0.0</td>\n",
       "      <td>0.0</td>\n",
       "      <td>0.0</td>\n",
       "      <td>0.0</td>\n",
       "      <td>0.0</td>\n",
       "      <td>0.0</td>\n",
       "      <td>0.0</td>\n",
       "      <td>0.0</td>\n",
       "      <td>0.0</td>\n",
       "      <td>0.0</td>\n",
       "    </tr>\n",
       "    <tr>\n",
       "      <th>...</th>\n",
       "      <td>...</td>\n",
       "      <td>...</td>\n",
       "      <td>...</td>\n",
       "      <td>...</td>\n",
       "      <td>...</td>\n",
       "      <td>...</td>\n",
       "      <td>...</td>\n",
       "      <td>...</td>\n",
       "      <td>...</td>\n",
       "      <td>...</td>\n",
       "      <td>...</td>\n",
       "      <td>...</td>\n",
       "      <td>...</td>\n",
       "      <td>...</td>\n",
       "      <td>...</td>\n",
       "      <td>...</td>\n",
       "      <td>...</td>\n",
       "      <td>...</td>\n",
       "      <td>...</td>\n",
       "      <td>...</td>\n",
       "      <td>...</td>\n",
       "    </tr>\n",
       "    <tr>\n",
       "      <th>C155075</th>\n",
       "      <td>0.0</td>\n",
       "      <td>0.0</td>\n",
       "      <td>0.0</td>\n",
       "      <td>0.0</td>\n",
       "      <td>0.0</td>\n",
       "      <td>0.0</td>\n",
       "      <td>0.0</td>\n",
       "      <td>0.0</td>\n",
       "      <td>0.0</td>\n",
       "      <td>0.0</td>\n",
       "      <td>...</td>\n",
       "      <td>0.0</td>\n",
       "      <td>0.0</td>\n",
       "      <td>0.0</td>\n",
       "      <td>0.0</td>\n",
       "      <td>0.0</td>\n",
       "      <td>0.0</td>\n",
       "      <td>0.0</td>\n",
       "      <td>0.0</td>\n",
       "      <td>0.0</td>\n",
       "      <td>0.0</td>\n",
       "    </tr>\n",
       "    <tr>\n",
       "      <th>C159295</th>\n",
       "      <td>0.0</td>\n",
       "      <td>0.0</td>\n",
       "      <td>0.0</td>\n",
       "      <td>0.0</td>\n",
       "      <td>0.0</td>\n",
       "      <td>0.0</td>\n",
       "      <td>0.0</td>\n",
       "      <td>0.0</td>\n",
       "      <td>0.0</td>\n",
       "      <td>0.0</td>\n",
       "      <td>...</td>\n",
       "      <td>0.0</td>\n",
       "      <td>0.0</td>\n",
       "      <td>0.0</td>\n",
       "      <td>0.0</td>\n",
       "      <td>0.0</td>\n",
       "      <td>0.0</td>\n",
       "      <td>0.0</td>\n",
       "      <td>0.0</td>\n",
       "      <td>0.0</td>\n",
       "      <td>0.0</td>\n",
       "    </tr>\n",
       "    <tr>\n",
       "      <th>C163766</th>\n",
       "      <td>0.0</td>\n",
       "      <td>0.0</td>\n",
       "      <td>0.0</td>\n",
       "      <td>0.0</td>\n",
       "      <td>0.0</td>\n",
       "      <td>0.0</td>\n",
       "      <td>0.0</td>\n",
       "      <td>0.0</td>\n",
       "      <td>0.0</td>\n",
       "      <td>0.0</td>\n",
       "      <td>...</td>\n",
       "      <td>0.0</td>\n",
       "      <td>0.0</td>\n",
       "      <td>0.0</td>\n",
       "      <td>0.0</td>\n",
       "      <td>0.0</td>\n",
       "      <td>0.0</td>\n",
       "      <td>0.0</td>\n",
       "      <td>0.0</td>\n",
       "      <td>0.0</td>\n",
       "      <td>0.0</td>\n",
       "    </tr>\n",
       "    <tr>\n",
       "      <th>C164545</th>\n",
       "      <td>0.0</td>\n",
       "      <td>0.0</td>\n",
       "      <td>0.0</td>\n",
       "      <td>0.0</td>\n",
       "      <td>0.0</td>\n",
       "      <td>0.0</td>\n",
       "      <td>0.0</td>\n",
       "      <td>0.0</td>\n",
       "      <td>0.0</td>\n",
       "      <td>0.0</td>\n",
       "      <td>...</td>\n",
       "      <td>0.0</td>\n",
       "      <td>0.0</td>\n",
       "      <td>0.0</td>\n",
       "      <td>0.0</td>\n",
       "      <td>0.0</td>\n",
       "      <td>0.0</td>\n",
       "      <td>0.0</td>\n",
       "      <td>0.0</td>\n",
       "      <td>0.0</td>\n",
       "      <td>0.0</td>\n",
       "    </tr>\n",
       "    <tr>\n",
       "      <th>C166042</th>\n",
       "      <td>0.0</td>\n",
       "      <td>0.0</td>\n",
       "      <td>0.0</td>\n",
       "      <td>0.0</td>\n",
       "      <td>0.0</td>\n",
       "      <td>0.0</td>\n",
       "      <td>0.0</td>\n",
       "      <td>0.0</td>\n",
       "      <td>0.0</td>\n",
       "      <td>0.0</td>\n",
       "      <td>...</td>\n",
       "      <td>0.0</td>\n",
       "      <td>0.0</td>\n",
       "      <td>0.0</td>\n",
       "      <td>0.0</td>\n",
       "      <td>0.0</td>\n",
       "      <td>0.0</td>\n",
       "      <td>0.0</td>\n",
       "      <td>0.0</td>\n",
       "      <td>0.0</td>\n",
       "      <td>0.0</td>\n",
       "    </tr>\n",
       "  </tbody>\n",
       "</table>\n",
       "<p>22879 rows × 8023 columns</p>\n",
       "</div>"
      ],
      "text/plain": [
       "nom_id      0001010  0001345  0001346  0001351  0001442  0001477  0001478  \\\n",
       "pirkejo_id                                                                  \n",
       "00135           0.0      0.0      0.0      0.0      0.0      0.0      0.0   \n",
       "00168           0.0      0.0      0.0      0.0      0.0      0.0      0.0   \n",
       "00178           0.0      0.0      0.0      0.0      0.0      0.0      0.0   \n",
       "00195           0.0      0.0      0.0      0.0      0.0      0.0      0.0   \n",
       "00202           0.0      0.0      0.0      0.0      0.0      0.0      0.0   \n",
       "...             ...      ...      ...      ...      ...      ...      ...   \n",
       "C155075         0.0      0.0      0.0      0.0      0.0      0.0      0.0   \n",
       "C159295         0.0      0.0      0.0      0.0      0.0      0.0      0.0   \n",
       "C163766         0.0      0.0      0.0      0.0      0.0      0.0      0.0   \n",
       "C164545         0.0      0.0      0.0      0.0      0.0      0.0      0.0   \n",
       "C166042         0.0      0.0      0.0      0.0      0.0      0.0      0.0   \n",
       "\n",
       "nom_id      0001654  0001718  0001721  ...  0054795  0054803  0054804  \\\n",
       "pirkejo_id                             ...                              \n",
       "00135           0.0      0.0      0.0  ...      0.0      0.0      0.0   \n",
       "00168           0.0      0.0      0.0  ...      0.0      0.0      0.0   \n",
       "00178           0.0      0.0      0.0  ...      0.0      0.0      0.0   \n",
       "00195           0.0      0.0      0.0  ...      0.0      0.0      0.0   \n",
       "00202           0.0      0.0      0.0  ...      0.0      0.0      0.0   \n",
       "...             ...      ...      ...  ...      ...      ...      ...   \n",
       "C155075         0.0      0.0      0.0  ...      0.0      0.0      0.0   \n",
       "C159295         0.0      0.0      0.0  ...      0.0      0.0      0.0   \n",
       "C163766         0.0      0.0      0.0  ...      0.0      0.0      0.0   \n",
       "C164545         0.0      0.0      0.0  ...      0.0      0.0      0.0   \n",
       "C166042         0.0      0.0      0.0  ...      0.0      0.0      0.0   \n",
       "\n",
       "nom_id      0054805  0054872  0054873  0054878  0054887  0054905  0054938  \n",
       "pirkejo_id                                                                 \n",
       "00135           0.0      0.0      0.0      0.0      0.0      0.0      0.0  \n",
       "00168           0.0      0.0      0.0      0.0      0.0      0.0      0.0  \n",
       "00178           0.0      0.0      0.0      0.0      0.0      0.0      0.0  \n",
       "00195           0.0      0.0      0.0      0.0      0.0      0.0      0.0  \n",
       "00202           0.0      0.0      0.0      0.0      0.0      0.0      0.0  \n",
       "...             ...      ...      ...      ...      ...      ...      ...  \n",
       "C155075         0.0      0.0      0.0      0.0      0.0      0.0      0.0  \n",
       "C159295         0.0      0.0      0.0      0.0      0.0      0.0      0.0  \n",
       "C163766         0.0      0.0      0.0      0.0      0.0      0.0      0.0  \n",
       "C164545         0.0      0.0      0.0      0.0      0.0      0.0      0.0  \n",
       "C166042         0.0      0.0      0.0      0.0      0.0      0.0      0.0  \n",
       "\n",
       "[22879 rows x 8023 columns]"
      ]
     },
     "execution_count": 79,
     "metadata": {},
     "output_type": "execute_result"
    },
    {
     "data": {
      "application/javascript": [
       "\n",
       "            setTimeout(function() {\n",
       "                var nbb_cell_id = 79;\n",
       "                var nbb_unformatted_code = \"klientai = df_pvt1.columns\\npr = df_pvt1.index\\ndf_pvt2 = pd.DataFrame(df_pvt_scaler, columns=klientai, index=pr).T\\ndf_pvt2\";\n",
       "                var nbb_formatted_code = \"klientai = df_pvt1.columns\\npr = df_pvt1.index\\ndf_pvt2 = pd.DataFrame(df_pvt_scaler, columns=klientai, index=pr).T\\ndf_pvt2\";\n",
       "                var nbb_cells = Jupyter.notebook.get_cells();\n",
       "                for (var i = 0; i < nbb_cells.length; ++i) {\n",
       "                    if (nbb_cells[i].input_prompt_number == nbb_cell_id) {\n",
       "                        if (nbb_cells[i].get_text() == nbb_unformatted_code) {\n",
       "                             nbb_cells[i].set_text(nbb_formatted_code);\n",
       "                        }\n",
       "                        break;\n",
       "                    }\n",
       "                }\n",
       "            }, 500);\n",
       "            "
      ],
      "text/plain": [
       "<IPython.core.display.Javascript object>"
      ]
     },
     "metadata": {},
     "output_type": "display_data"
    }
   ],
   "source": [
    "klientai = df_pvt1.columns\n",
    "pr = df_pvt1.index\n",
    "df_pvt2 = pd.DataFrame(df_pvt_scaler, columns=klientai, index=pr).T\n",
    "df_pvt2"
   ]
  },
  {
   "cell_type": "code",
   "execution_count": 80,
   "id": "fb0ab00a",
   "metadata": {
    "ExecuteTime": {
     "end_time": "2023-03-28T13:43:23.277416Z",
     "start_time": "2023-03-28T13:43:03.758668Z"
    }
   },
   "outputs": [
    {
     "ename": "MemoryError",
     "evalue": "Unable to allocate 2.74 GiB for an array with shape (2, 183558217) and data type object",
     "output_type": "error",
     "traceback": [
      "\u001b[1;31m---------------------------------------------------------------------------\u001b[0m",
      "\u001b[1;31mMemoryError\u001b[0m                               Traceback (most recent call last)",
      "Cell \u001b[1;32mIn[80], line 2\u001b[0m\n\u001b[0;32m      1\u001b[0m ratings \u001b[38;5;241m=\u001b[39m df_pvt2\u001b[38;5;241m.\u001b[39munstack()\u001b[38;5;241m.\u001b[39mreset_index(name\u001b[38;5;241m=\u001b[39m\u001b[38;5;124m\"\u001b[39m\u001b[38;5;124mrating\u001b[39m\u001b[38;5;124m\"\u001b[39m)\n\u001b[1;32m----> 2\u001b[0m ratings \u001b[38;5;241m=\u001b[39m \u001b[43mratings\u001b[49m\u001b[43m[\u001b[49m\u001b[43mratings\u001b[49m\u001b[43m[\u001b[49m\u001b[38;5;124;43m\"\u001b[39;49m\u001b[38;5;124;43mrating\u001b[39;49m\u001b[38;5;124;43m\"\u001b[39;49m\u001b[43m]\u001b[49m\u001b[43m \u001b[49m\u001b[38;5;241;43m>\u001b[39;49m\u001b[43m \u001b[49m\u001b[38;5;241;43m0\u001b[39;49m\u001b[43m]\u001b[49m\u001b[38;5;241m.\u001b[39mreset_index(drop\u001b[38;5;241m=\u001b[39m\u001b[38;5;28;01mTrue\u001b[39;00m)\n\u001b[0;32m      3\u001b[0m ratings\u001b[38;5;241m.\u001b[39msort_values(by\u001b[38;5;241m=\u001b[39m\u001b[38;5;124m\"\u001b[39m\u001b[38;5;124mrating\u001b[39m\u001b[38;5;124m\"\u001b[39m)\n",
      "File \u001b[1;32mC:\\miniconda3\\lib\\site-packages\\pandas\\core\\frame.py:3796\u001b[0m, in \u001b[0;36mDataFrame.__getitem__\u001b[1;34m(self, key)\u001b[0m\n\u001b[0;32m   3794\u001b[0m \u001b[38;5;66;03m# Do we have a (boolean) 1d indexer?\u001b[39;00m\n\u001b[0;32m   3795\u001b[0m \u001b[38;5;28;01mif\u001b[39;00m com\u001b[38;5;241m.\u001b[39mis_bool_indexer(key):\n\u001b[1;32m-> 3796\u001b[0m     \u001b[38;5;28;01mreturn\u001b[39;00m \u001b[38;5;28;43mself\u001b[39;49m\u001b[38;5;241;43m.\u001b[39;49m\u001b[43m_getitem_bool_array\u001b[49m\u001b[43m(\u001b[49m\u001b[43mkey\u001b[49m\u001b[43m)\u001b[49m\n\u001b[0;32m   3798\u001b[0m \u001b[38;5;66;03m# We are left with two options: a single key, and a collection of keys,\u001b[39;00m\n\u001b[0;32m   3799\u001b[0m \u001b[38;5;66;03m# We interpret tuples as collections only for non-MultiIndex\u001b[39;00m\n\u001b[0;32m   3800\u001b[0m is_single_key \u001b[38;5;241m=\u001b[39m \u001b[38;5;28misinstance\u001b[39m(key, \u001b[38;5;28mtuple\u001b[39m) \u001b[38;5;129;01mor\u001b[39;00m \u001b[38;5;129;01mnot\u001b[39;00m is_list_like(key)\n",
      "File \u001b[1;32mC:\\miniconda3\\lib\\site-packages\\pandas\\core\\frame.py:3851\u001b[0m, in \u001b[0;36mDataFrame._getitem_bool_array\u001b[1;34m(self, key)\u001b[0m\n\u001b[0;32m   3849\u001b[0m key \u001b[38;5;241m=\u001b[39m check_bool_indexer(\u001b[38;5;28mself\u001b[39m\u001b[38;5;241m.\u001b[39mindex, key)\n\u001b[0;32m   3850\u001b[0m indexer \u001b[38;5;241m=\u001b[39m key\u001b[38;5;241m.\u001b[39mnonzero()[\u001b[38;5;241m0\u001b[39m]\n\u001b[1;32m-> 3851\u001b[0m \u001b[38;5;28;01mreturn\u001b[39;00m \u001b[38;5;28;43mself\u001b[39;49m\u001b[38;5;241;43m.\u001b[39;49m\u001b[43m_take_with_is_copy\u001b[49m\u001b[43m(\u001b[49m\u001b[43mindexer\u001b[49m\u001b[43m,\u001b[49m\u001b[43m \u001b[49m\u001b[43maxis\u001b[49m\u001b[38;5;241;43m=\u001b[39;49m\u001b[38;5;241;43m0\u001b[39;49m\u001b[43m)\u001b[49m\n",
      "File \u001b[1;32mC:\\miniconda3\\lib\\site-packages\\pandas\\core\\generic.py:3902\u001b[0m, in \u001b[0;36mNDFrame._take_with_is_copy\u001b[1;34m(self, indices, axis)\u001b[0m\n\u001b[0;32m   3894\u001b[0m \u001b[38;5;28;01mdef\u001b[39;00m \u001b[38;5;21m_take_with_is_copy\u001b[39m(\u001b[38;5;28mself\u001b[39m: NDFrameT, indices, axis\u001b[38;5;241m=\u001b[39m\u001b[38;5;241m0\u001b[39m) \u001b[38;5;241m-\u001b[39m\u001b[38;5;241m>\u001b[39m NDFrameT:\n\u001b[0;32m   3895\u001b[0m \u001b[38;5;250m    \u001b[39m\u001b[38;5;124;03m\"\"\"\u001b[39;00m\n\u001b[0;32m   3896\u001b[0m \u001b[38;5;124;03m    Internal version of the `take` method that sets the `_is_copy`\u001b[39;00m\n\u001b[0;32m   3897\u001b[0m \u001b[38;5;124;03m    attribute to keep track of the parent dataframe (using in indexing\u001b[39;00m\n\u001b[1;32m   (...)\u001b[0m\n\u001b[0;32m   3900\u001b[0m \u001b[38;5;124;03m    See the docstring of `take` for full explanation of the parameters.\u001b[39;00m\n\u001b[0;32m   3901\u001b[0m \u001b[38;5;124;03m    \"\"\"\u001b[39;00m\n\u001b[1;32m-> 3902\u001b[0m     result \u001b[38;5;241m=\u001b[39m \u001b[38;5;28;43mself\u001b[39;49m\u001b[38;5;241;43m.\u001b[39;49m\u001b[43m_take\u001b[49m\u001b[43m(\u001b[49m\u001b[43mindices\u001b[49m\u001b[38;5;241;43m=\u001b[39;49m\u001b[43mindices\u001b[49m\u001b[43m,\u001b[49m\u001b[43m \u001b[49m\u001b[43maxis\u001b[49m\u001b[38;5;241;43m=\u001b[39;49m\u001b[43maxis\u001b[49m\u001b[43m)\u001b[49m\n\u001b[0;32m   3903\u001b[0m     \u001b[38;5;66;03m# Maybe set copy if we didn't actually change the index.\u001b[39;00m\n\u001b[0;32m   3904\u001b[0m     \u001b[38;5;28;01mif\u001b[39;00m \u001b[38;5;129;01mnot\u001b[39;00m result\u001b[38;5;241m.\u001b[39m_get_axis(axis)\u001b[38;5;241m.\u001b[39mequals(\u001b[38;5;28mself\u001b[39m\u001b[38;5;241m.\u001b[39m_get_axis(axis)):\n",
      "File \u001b[1;32mC:\\miniconda3\\lib\\site-packages\\pandas\\core\\generic.py:3884\u001b[0m, in \u001b[0;36mNDFrame._take\u001b[1;34m(self, indices, axis, convert_indices)\u001b[0m\n\u001b[0;32m   3873\u001b[0m \u001b[38;5;28;01mdef\u001b[39;00m \u001b[38;5;21m_take\u001b[39m(\n\u001b[0;32m   3874\u001b[0m     \u001b[38;5;28mself\u001b[39m: NDFrameT,\n\u001b[0;32m   3875\u001b[0m     indices,\n\u001b[0;32m   3876\u001b[0m     axis\u001b[38;5;241m=\u001b[39m\u001b[38;5;241m0\u001b[39m,\n\u001b[0;32m   3877\u001b[0m     convert_indices: bool_t \u001b[38;5;241m=\u001b[39m \u001b[38;5;28;01mTrue\u001b[39;00m,\n\u001b[0;32m   3878\u001b[0m ) \u001b[38;5;241m-\u001b[39m\u001b[38;5;241m>\u001b[39m NDFrameT:\n\u001b[0;32m   3879\u001b[0m \u001b[38;5;250m    \u001b[39m\u001b[38;5;124;03m\"\"\"\u001b[39;00m\n\u001b[0;32m   3880\u001b[0m \u001b[38;5;124;03m    Internal version of the `take` allowing specification of additional args.\u001b[39;00m\n\u001b[0;32m   3881\u001b[0m \n\u001b[0;32m   3882\u001b[0m \u001b[38;5;124;03m    See the docstring of `take` for full explanation of the parameters.\u001b[39;00m\n\u001b[0;32m   3883\u001b[0m \u001b[38;5;124;03m    \"\"\"\u001b[39;00m\n\u001b[1;32m-> 3884\u001b[0m     \u001b[38;5;28;43mself\u001b[39;49m\u001b[38;5;241;43m.\u001b[39;49m\u001b[43m_consolidate_inplace\u001b[49m\u001b[43m(\u001b[49m\u001b[43m)\u001b[49m\n\u001b[0;32m   3886\u001b[0m     new_data \u001b[38;5;241m=\u001b[39m \u001b[38;5;28mself\u001b[39m\u001b[38;5;241m.\u001b[39m_mgr\u001b[38;5;241m.\u001b[39mtake(\n\u001b[0;32m   3887\u001b[0m         indices,\n\u001b[0;32m   3888\u001b[0m         axis\u001b[38;5;241m=\u001b[39m\u001b[38;5;28mself\u001b[39m\u001b[38;5;241m.\u001b[39m_get_block_manager_axis(axis),\n\u001b[0;32m   3889\u001b[0m         verify\u001b[38;5;241m=\u001b[39m\u001b[38;5;28;01mTrue\u001b[39;00m,\n\u001b[0;32m   3890\u001b[0m         convert_indices\u001b[38;5;241m=\u001b[39mconvert_indices,\n\u001b[0;32m   3891\u001b[0m     )\n\u001b[0;32m   3892\u001b[0m     \u001b[38;5;28;01mreturn\u001b[39;00m \u001b[38;5;28mself\u001b[39m\u001b[38;5;241m.\u001b[39m_constructor(new_data)\u001b[38;5;241m.\u001b[39m__finalize__(\u001b[38;5;28mself\u001b[39m, method\u001b[38;5;241m=\u001b[39m\u001b[38;5;124m\"\u001b[39m\u001b[38;5;124mtake\u001b[39m\u001b[38;5;124m\"\u001b[39m)\n",
      "File \u001b[1;32mC:\\miniconda3\\lib\\site-packages\\pandas\\core\\generic.py:5980\u001b[0m, in \u001b[0;36mNDFrame._consolidate_inplace\u001b[1;34m(self)\u001b[0m\n\u001b[0;32m   5977\u001b[0m \u001b[38;5;28;01mdef\u001b[39;00m \u001b[38;5;21mf\u001b[39m():\n\u001b[0;32m   5978\u001b[0m     \u001b[38;5;28mself\u001b[39m\u001b[38;5;241m.\u001b[39m_mgr \u001b[38;5;241m=\u001b[39m \u001b[38;5;28mself\u001b[39m\u001b[38;5;241m.\u001b[39m_mgr\u001b[38;5;241m.\u001b[39mconsolidate()\n\u001b[1;32m-> 5980\u001b[0m \u001b[38;5;28;43mself\u001b[39;49m\u001b[38;5;241;43m.\u001b[39;49m\u001b[43m_protect_consolidate\u001b[49m\u001b[43m(\u001b[49m\u001b[43mf\u001b[49m\u001b[43m)\u001b[49m\n",
      "File \u001b[1;32mC:\\miniconda3\\lib\\site-packages\\pandas\\core\\generic.py:5968\u001b[0m, in \u001b[0;36mNDFrame._protect_consolidate\u001b[1;34m(self, f)\u001b[0m\n\u001b[0;32m   5966\u001b[0m     \u001b[38;5;28;01mreturn\u001b[39;00m f()\n\u001b[0;32m   5967\u001b[0m blocks_before \u001b[38;5;241m=\u001b[39m \u001b[38;5;28mlen\u001b[39m(\u001b[38;5;28mself\u001b[39m\u001b[38;5;241m.\u001b[39m_mgr\u001b[38;5;241m.\u001b[39mblocks)\n\u001b[1;32m-> 5968\u001b[0m result \u001b[38;5;241m=\u001b[39m \u001b[43mf\u001b[49m\u001b[43m(\u001b[49m\u001b[43m)\u001b[49m\n\u001b[0;32m   5969\u001b[0m \u001b[38;5;28;01mif\u001b[39;00m \u001b[38;5;28mlen\u001b[39m(\u001b[38;5;28mself\u001b[39m\u001b[38;5;241m.\u001b[39m_mgr\u001b[38;5;241m.\u001b[39mblocks) \u001b[38;5;241m!=\u001b[39m blocks_before:\n\u001b[0;32m   5970\u001b[0m     \u001b[38;5;28mself\u001b[39m\u001b[38;5;241m.\u001b[39m_clear_item_cache()\n",
      "File \u001b[1;32mC:\\miniconda3\\lib\\site-packages\\pandas\\core\\generic.py:5978\u001b[0m, in \u001b[0;36mNDFrame._consolidate_inplace.<locals>.f\u001b[1;34m()\u001b[0m\n\u001b[0;32m   5977\u001b[0m \u001b[38;5;28;01mdef\u001b[39;00m \u001b[38;5;21mf\u001b[39m():\n\u001b[1;32m-> 5978\u001b[0m     \u001b[38;5;28mself\u001b[39m\u001b[38;5;241m.\u001b[39m_mgr \u001b[38;5;241m=\u001b[39m \u001b[38;5;28;43mself\u001b[39;49m\u001b[38;5;241;43m.\u001b[39;49m\u001b[43m_mgr\u001b[49m\u001b[38;5;241;43m.\u001b[39;49m\u001b[43mconsolidate\u001b[49m\u001b[43m(\u001b[49m\u001b[43m)\u001b[49m\n",
      "File \u001b[1;32mC:\\miniconda3\\lib\\site-packages\\pandas\\core\\internals\\managers.py:688\u001b[0m, in \u001b[0;36mBaseBlockManager.consolidate\u001b[1;34m(self)\u001b[0m\n\u001b[0;32m    686\u001b[0m bm \u001b[38;5;241m=\u001b[39m \u001b[38;5;28mtype\u001b[39m(\u001b[38;5;28mself\u001b[39m)(\u001b[38;5;28mself\u001b[39m\u001b[38;5;241m.\u001b[39mblocks, \u001b[38;5;28mself\u001b[39m\u001b[38;5;241m.\u001b[39maxes, \u001b[38;5;28mself\u001b[39m\u001b[38;5;241m.\u001b[39mrefs, verify_integrity\u001b[38;5;241m=\u001b[39m\u001b[38;5;28;01mFalse\u001b[39;00m)\n\u001b[0;32m    687\u001b[0m bm\u001b[38;5;241m.\u001b[39m_is_consolidated \u001b[38;5;241m=\u001b[39m \u001b[38;5;28;01mFalse\u001b[39;00m\n\u001b[1;32m--> 688\u001b[0m \u001b[43mbm\u001b[49m\u001b[38;5;241;43m.\u001b[39;49m\u001b[43m_consolidate_inplace\u001b[49m\u001b[43m(\u001b[49m\u001b[43m)\u001b[49m\n\u001b[0;32m    689\u001b[0m \u001b[38;5;28;01mreturn\u001b[39;00m bm\n",
      "File \u001b[1;32mC:\\miniconda3\\lib\\site-packages\\pandas\\core\\internals\\managers.py:1868\u001b[0m, in \u001b[0;36mBlockManager._consolidate_inplace\u001b[1;34m(self)\u001b[0m\n\u001b[0;32m   1866\u001b[0m \u001b[38;5;28;01mif\u001b[39;00m \u001b[38;5;129;01mnot\u001b[39;00m \u001b[38;5;28mself\u001b[39m\u001b[38;5;241m.\u001b[39mis_consolidated():\n\u001b[0;32m   1867\u001b[0m     \u001b[38;5;28;01mif\u001b[39;00m \u001b[38;5;28mself\u001b[39m\u001b[38;5;241m.\u001b[39mrefs \u001b[38;5;129;01mis\u001b[39;00m \u001b[38;5;28;01mNone\u001b[39;00m:\n\u001b[1;32m-> 1868\u001b[0m         \u001b[38;5;28mself\u001b[39m\u001b[38;5;241m.\u001b[39mblocks \u001b[38;5;241m=\u001b[39m \u001b[43m_consolidate\u001b[49m\u001b[43m(\u001b[49m\u001b[38;5;28;43mself\u001b[39;49m\u001b[38;5;241;43m.\u001b[39;49m\u001b[43mblocks\u001b[49m\u001b[43m)\u001b[49m\n\u001b[0;32m   1869\u001b[0m     \u001b[38;5;28;01melse\u001b[39;00m:\n\u001b[0;32m   1870\u001b[0m         \u001b[38;5;28mself\u001b[39m\u001b[38;5;241m.\u001b[39mblocks, \u001b[38;5;28mself\u001b[39m\u001b[38;5;241m.\u001b[39mrefs \u001b[38;5;241m=\u001b[39m _consolidate_with_refs(\u001b[38;5;28mself\u001b[39m\u001b[38;5;241m.\u001b[39mblocks, \u001b[38;5;28mself\u001b[39m\u001b[38;5;241m.\u001b[39mrefs)\n",
      "File \u001b[1;32mC:\\miniconda3\\lib\\site-packages\\pandas\\core\\internals\\managers.py:2326\u001b[0m, in \u001b[0;36m_consolidate\u001b[1;34m(blocks)\u001b[0m\n\u001b[0;32m   2324\u001b[0m new_blocks: \u001b[38;5;28mlist\u001b[39m[Block] \u001b[38;5;241m=\u001b[39m []\n\u001b[0;32m   2325\u001b[0m \u001b[38;5;28;01mfor\u001b[39;00m (_can_consolidate, dtype), group_blocks \u001b[38;5;129;01min\u001b[39;00m grouper:\n\u001b[1;32m-> 2326\u001b[0m     merged_blocks, _ \u001b[38;5;241m=\u001b[39m \u001b[43m_merge_blocks\u001b[49m\u001b[43m(\u001b[49m\n\u001b[0;32m   2327\u001b[0m \u001b[43m        \u001b[49m\u001b[38;5;28;43mlist\u001b[39;49m\u001b[43m(\u001b[49m\u001b[43mgroup_blocks\u001b[49m\u001b[43m)\u001b[49m\u001b[43m,\u001b[49m\u001b[43m \u001b[49m\u001b[43mdtype\u001b[49m\u001b[38;5;241;43m=\u001b[39;49m\u001b[43mdtype\u001b[49m\u001b[43m,\u001b[49m\u001b[43m \u001b[49m\u001b[43mcan_consolidate\u001b[49m\u001b[38;5;241;43m=\u001b[39;49m\u001b[43m_can_consolidate\u001b[49m\n\u001b[0;32m   2328\u001b[0m \u001b[43m    \u001b[49m\u001b[43m)\u001b[49m\n\u001b[0;32m   2329\u001b[0m     new_blocks \u001b[38;5;241m=\u001b[39m extend_blocks(merged_blocks, new_blocks)\n\u001b[0;32m   2330\u001b[0m \u001b[38;5;28;01mreturn\u001b[39;00m \u001b[38;5;28mtuple\u001b[39m(new_blocks)\n",
      "File \u001b[1;32mC:\\miniconda3\\lib\\site-packages\\pandas\\core\\internals\\managers.py:2385\u001b[0m, in \u001b[0;36m_merge_blocks\u001b[1;34m(blocks, dtype, can_consolidate)\u001b[0m\n\u001b[0;32m   2382\u001b[0m     new_values \u001b[38;5;241m=\u001b[39m bvals2[\u001b[38;5;241m0\u001b[39m]\u001b[38;5;241m.\u001b[39m_concat_same_type(bvals2, axis\u001b[38;5;241m=\u001b[39m\u001b[38;5;241m0\u001b[39m)\n\u001b[0;32m   2384\u001b[0m argsort \u001b[38;5;241m=\u001b[39m np\u001b[38;5;241m.\u001b[39margsort(new_mgr_locs)\n\u001b[1;32m-> 2385\u001b[0m new_values \u001b[38;5;241m=\u001b[39m \u001b[43mnew_values\u001b[49m\u001b[43m[\u001b[49m\u001b[43margsort\u001b[49m\u001b[43m]\u001b[49m\n\u001b[0;32m   2386\u001b[0m new_mgr_locs \u001b[38;5;241m=\u001b[39m new_mgr_locs[argsort]\n\u001b[0;32m   2388\u001b[0m bp \u001b[38;5;241m=\u001b[39m BlockPlacement(new_mgr_locs)\n",
      "\u001b[1;31mMemoryError\u001b[0m: Unable to allocate 2.74 GiB for an array with shape (2, 183558217) and data type object"
     ]
    },
    {
     "data": {
      "application/javascript": [
       "\n",
       "            setTimeout(function() {\n",
       "                var nbb_cell_id = 80;\n",
       "                var nbb_unformatted_code = \"ratings = df_pvt2.unstack().reset_index(name=\\\"rating\\\")\\nratings = ratings[ratings[\\\"rating\\\"] > 0].reset_index(drop=True)\\nratings.sort_values(by=\\\"rating\\\")\";\n",
       "                var nbb_formatted_code = \"ratings = df_pvt2.unstack().reset_index(name=\\\"rating\\\")\\nratings = ratings[ratings[\\\"rating\\\"] > 0].reset_index(drop=True)\\nratings.sort_values(by=\\\"rating\\\")\";\n",
       "                var nbb_cells = Jupyter.notebook.get_cells();\n",
       "                for (var i = 0; i < nbb_cells.length; ++i) {\n",
       "                    if (nbb_cells[i].input_prompt_number == nbb_cell_id) {\n",
       "                        if (nbb_cells[i].get_text() == nbb_unformatted_code) {\n",
       "                             nbb_cells[i].set_text(nbb_formatted_code);\n",
       "                        }\n",
       "                        break;\n",
       "                    }\n",
       "                }\n",
       "            }, 500);\n",
       "            "
      ],
      "text/plain": [
       "<IPython.core.display.Javascript object>"
      ]
     },
     "metadata": {},
     "output_type": "display_data"
    }
   ],
   "source": [
    "ratings = df_pvt2.unstack().reset_index(name=\"rating\")\n",
    "ratings = ratings[ratings[\"rating\"] > 0].reset_index(drop=True)\n",
    "ratings.sort_values(by=\"rating\")"
   ]
  },
  {
   "cell_type": "code",
   "execution_count": 81,
   "id": "ddf7e2c8",
   "metadata": {
    "ExecuteTime": {
     "end_time": "2023-03-28T13:43:55.507575Z",
     "start_time": "2023-03-28T13:43:54.993409Z"
    }
   },
   "outputs": [
    {
     "ename": "MemoryError",
     "evalue": "Unable to allocate 2.74 GiB for an array with shape (2, 183558217) and data type object",
     "output_type": "error",
     "traceback": [
      "\u001b[1;31m---------------------------------------------------------------------------\u001b[0m",
      "\u001b[1;31mMemoryError\u001b[0m                               Traceback (most recent call last)",
      "Cell \u001b[1;32mIn[81], line 1\u001b[0m\n\u001b[1;32m----> 1\u001b[0m ratings_cross \u001b[38;5;241m=\u001b[39m \u001b[43mpd\u001b[49m\u001b[38;5;241;43m.\u001b[39;49m\u001b[43mcrosstab\u001b[49m\u001b[43m(\u001b[49m\n\u001b[0;32m      2\u001b[0m \u001b[43m    \u001b[49m\u001b[43mratings\u001b[49m\u001b[38;5;241;43m.\u001b[39;49m\u001b[43mpirkejo_id\u001b[49m\u001b[43m,\u001b[49m\u001b[43m \u001b[49m\u001b[43mratings\u001b[49m\u001b[38;5;241;43m.\u001b[39;49m\u001b[43mnom_id\u001b[49m\u001b[43m,\u001b[49m\u001b[43m \u001b[49m\u001b[43mratings\u001b[49m\u001b[38;5;241;43m.\u001b[39;49m\u001b[43mrating\u001b[49m\u001b[43m,\u001b[49m\u001b[43m \u001b[49m\u001b[43maggfunc\u001b[49m\u001b[38;5;241;43m=\u001b[39;49m\u001b[38;5;28;43msum\u001b[39;49m\n\u001b[0;32m      3\u001b[0m \u001b[43m)\u001b[49m\u001b[38;5;241m.\u001b[39mfillna(\u001b[38;5;241m0\u001b[39m)\n\u001b[0;32m      5\u001b[0m R \u001b[38;5;241m=\u001b[39m csr_matrix(ratings_cross\u001b[38;5;241m.\u001b[39mvalues)\n\u001b[0;32m      6\u001b[0m pirkejai \u001b[38;5;241m=\u001b[39m ratings_cross\u001b[38;5;241m.\u001b[39mreset_index(\u001b[38;5;241m0\u001b[39m)[[\u001b[38;5;124m\"\u001b[39m\u001b[38;5;124mpirkejo_id\u001b[39m\u001b[38;5;124m\"\u001b[39m]]\n",
      "File \u001b[1;32mC:\\miniconda3\\lib\\site-packages\\pandas\\core\\reshape\\pivot.py:682\u001b[0m, in \u001b[0;36mcrosstab\u001b[1;34m(index, columns, values, rownames, colnames, aggfunc, margins, margins_name, dropna, normalize)\u001b[0m\n\u001b[0;32m    676\u001b[0m \u001b[38;5;28;01mfrom\u001b[39;00m \u001b[38;5;21;01mpandas\u001b[39;00m \u001b[38;5;28;01mimport\u001b[39;00m DataFrame\n\u001b[0;32m    678\u001b[0m data \u001b[38;5;241m=\u001b[39m {\n\u001b[0;32m    679\u001b[0m     \u001b[38;5;241m*\u001b[39m\u001b[38;5;241m*\u001b[39m\u001b[38;5;28mdict\u001b[39m(\u001b[38;5;28mzip\u001b[39m(unique_rownames, index)),\n\u001b[0;32m    680\u001b[0m     \u001b[38;5;241m*\u001b[39m\u001b[38;5;241m*\u001b[39m\u001b[38;5;28mdict\u001b[39m(\u001b[38;5;28mzip\u001b[39m(unique_colnames, columns)),\n\u001b[0;32m    681\u001b[0m }\n\u001b[1;32m--> 682\u001b[0m df \u001b[38;5;241m=\u001b[39m \u001b[43mDataFrame\u001b[49m\u001b[43m(\u001b[49m\u001b[43mdata\u001b[49m\u001b[43m,\u001b[49m\u001b[43m \u001b[49m\u001b[43mindex\u001b[49m\u001b[38;5;241;43m=\u001b[39;49m\u001b[43mcommon_idx\u001b[49m\u001b[43m)\u001b[49m\n\u001b[0;32m    684\u001b[0m \u001b[38;5;28;01mif\u001b[39;00m values \u001b[38;5;129;01mis\u001b[39;00m \u001b[38;5;28;01mNone\u001b[39;00m:\n\u001b[0;32m    685\u001b[0m     df[\u001b[38;5;124m\"\u001b[39m\u001b[38;5;124m__dummy__\u001b[39m\u001b[38;5;124m\"\u001b[39m] \u001b[38;5;241m=\u001b[39m \u001b[38;5;241m0\u001b[39m\n",
      "File \u001b[1;32mC:\\miniconda3\\lib\\site-packages\\pandas\\core\\frame.py:663\u001b[0m, in \u001b[0;36mDataFrame.__init__\u001b[1;34m(self, data, index, columns, dtype, copy)\u001b[0m\n\u001b[0;32m    657\u001b[0m     mgr \u001b[38;5;241m=\u001b[39m \u001b[38;5;28mself\u001b[39m\u001b[38;5;241m.\u001b[39m_init_mgr(\n\u001b[0;32m    658\u001b[0m         data, axes\u001b[38;5;241m=\u001b[39m{\u001b[38;5;124m\"\u001b[39m\u001b[38;5;124mindex\u001b[39m\u001b[38;5;124m\"\u001b[39m: index, \u001b[38;5;124m\"\u001b[39m\u001b[38;5;124mcolumns\u001b[39m\u001b[38;5;124m\"\u001b[39m: columns}, dtype\u001b[38;5;241m=\u001b[39mdtype, copy\u001b[38;5;241m=\u001b[39mcopy\n\u001b[0;32m    659\u001b[0m     )\n\u001b[0;32m    661\u001b[0m \u001b[38;5;28;01melif\u001b[39;00m \u001b[38;5;28misinstance\u001b[39m(data, \u001b[38;5;28mdict\u001b[39m):\n\u001b[0;32m    662\u001b[0m     \u001b[38;5;66;03m# GH#38939 de facto copy defaults to False only in non-dict cases\u001b[39;00m\n\u001b[1;32m--> 663\u001b[0m     mgr \u001b[38;5;241m=\u001b[39m \u001b[43mdict_to_mgr\u001b[49m\u001b[43m(\u001b[49m\u001b[43mdata\u001b[49m\u001b[43m,\u001b[49m\u001b[43m \u001b[49m\u001b[43mindex\u001b[49m\u001b[43m,\u001b[49m\u001b[43m \u001b[49m\u001b[43mcolumns\u001b[49m\u001b[43m,\u001b[49m\u001b[43m \u001b[49m\u001b[43mdtype\u001b[49m\u001b[38;5;241;43m=\u001b[39;49m\u001b[43mdtype\u001b[49m\u001b[43m,\u001b[49m\u001b[43m \u001b[49m\u001b[43mcopy\u001b[49m\u001b[38;5;241;43m=\u001b[39;49m\u001b[43mcopy\u001b[49m\u001b[43m,\u001b[49m\u001b[43m \u001b[49m\u001b[43mtyp\u001b[49m\u001b[38;5;241;43m=\u001b[39;49m\u001b[43mmanager\u001b[49m\u001b[43m)\u001b[49m\n\u001b[0;32m    664\u001b[0m \u001b[38;5;28;01melif\u001b[39;00m \u001b[38;5;28misinstance\u001b[39m(data, ma\u001b[38;5;241m.\u001b[39mMaskedArray):\n\u001b[0;32m    665\u001b[0m     \u001b[38;5;28;01mimport\u001b[39;00m \u001b[38;5;21;01mnumpy\u001b[39;00m\u001b[38;5;21;01m.\u001b[39;00m\u001b[38;5;21;01mma\u001b[39;00m\u001b[38;5;21;01m.\u001b[39;00m\u001b[38;5;21;01mmrecords\u001b[39;00m \u001b[38;5;28;01mas\u001b[39;00m \u001b[38;5;21;01mmrecords\u001b[39;00m\n",
      "File \u001b[1;32mC:\\miniconda3\\lib\\site-packages\\pandas\\core\\internals\\construction.py:493\u001b[0m, in \u001b[0;36mdict_to_mgr\u001b[1;34m(data, index, columns, dtype, typ, copy)\u001b[0m\n\u001b[0;32m    489\u001b[0m     \u001b[38;5;28;01melse\u001b[39;00m:\n\u001b[0;32m    490\u001b[0m         \u001b[38;5;66;03m# dtype check to exclude e.g. range objects, scalars\u001b[39;00m\n\u001b[0;32m    491\u001b[0m         arrays \u001b[38;5;241m=\u001b[39m [x\u001b[38;5;241m.\u001b[39mcopy() \u001b[38;5;28;01mif\u001b[39;00m \u001b[38;5;28mhasattr\u001b[39m(x, \u001b[38;5;124m\"\u001b[39m\u001b[38;5;124mdtype\u001b[39m\u001b[38;5;124m\"\u001b[39m) \u001b[38;5;28;01melse\u001b[39;00m x \u001b[38;5;28;01mfor\u001b[39;00m x \u001b[38;5;129;01min\u001b[39;00m arrays]\n\u001b[1;32m--> 493\u001b[0m \u001b[38;5;28;01mreturn\u001b[39;00m \u001b[43marrays_to_mgr\u001b[49m\u001b[43m(\u001b[49m\u001b[43marrays\u001b[49m\u001b[43m,\u001b[49m\u001b[43m \u001b[49m\u001b[43mcolumns\u001b[49m\u001b[43m,\u001b[49m\u001b[43m \u001b[49m\u001b[43mindex\u001b[49m\u001b[43m,\u001b[49m\u001b[43m \u001b[49m\u001b[43mdtype\u001b[49m\u001b[38;5;241;43m=\u001b[39;49m\u001b[43mdtype\u001b[49m\u001b[43m,\u001b[49m\u001b[43m \u001b[49m\u001b[43mtyp\u001b[49m\u001b[38;5;241;43m=\u001b[39;49m\u001b[43mtyp\u001b[49m\u001b[43m,\u001b[49m\u001b[43m \u001b[49m\u001b[43mconsolidate\u001b[49m\u001b[38;5;241;43m=\u001b[39;49m\u001b[43mcopy\u001b[49m\u001b[43m)\u001b[49m\n",
      "File \u001b[1;32mC:\\miniconda3\\lib\\site-packages\\pandas\\core\\internals\\construction.py:154\u001b[0m, in \u001b[0;36marrays_to_mgr\u001b[1;34m(arrays, columns, index, dtype, verify_integrity, typ, consolidate)\u001b[0m\n\u001b[0;32m    151\u001b[0m axes \u001b[38;5;241m=\u001b[39m [columns, index]\n\u001b[0;32m    153\u001b[0m \u001b[38;5;28;01mif\u001b[39;00m typ \u001b[38;5;241m==\u001b[39m \u001b[38;5;124m\"\u001b[39m\u001b[38;5;124mblock\u001b[39m\u001b[38;5;124m\"\u001b[39m:\n\u001b[1;32m--> 154\u001b[0m     \u001b[38;5;28;01mreturn\u001b[39;00m \u001b[43mcreate_block_manager_from_column_arrays\u001b[49m\u001b[43m(\u001b[49m\n\u001b[0;32m    155\u001b[0m \u001b[43m        \u001b[49m\u001b[43marrays\u001b[49m\u001b[43m,\u001b[49m\u001b[43m \u001b[49m\u001b[43maxes\u001b[49m\u001b[43m,\u001b[49m\u001b[43m \u001b[49m\u001b[43mconsolidate\u001b[49m\u001b[38;5;241;43m=\u001b[39;49m\u001b[43mconsolidate\u001b[49m\n\u001b[0;32m    156\u001b[0m \u001b[43m    \u001b[49m\u001b[43m)\u001b[49m\n\u001b[0;32m    157\u001b[0m \u001b[38;5;28;01melif\u001b[39;00m typ \u001b[38;5;241m==\u001b[39m \u001b[38;5;124m\"\u001b[39m\u001b[38;5;124marray\u001b[39m\u001b[38;5;124m\"\u001b[39m:\n\u001b[0;32m    158\u001b[0m     \u001b[38;5;28;01mreturn\u001b[39;00m ArrayManager(arrays, [index, columns])\n",
      "File \u001b[1;32mC:\\miniconda3\\lib\\site-packages\\pandas\\core\\internals\\managers.py:2196\u001b[0m, in \u001b[0;36mcreate_block_manager_from_column_arrays\u001b[1;34m(arrays, axes, consolidate)\u001b[0m\n\u001b[0;32m   2179\u001b[0m \u001b[38;5;28;01mdef\u001b[39;00m \u001b[38;5;21mcreate_block_manager_from_column_arrays\u001b[39m(\n\u001b[0;32m   2180\u001b[0m     arrays: \u001b[38;5;28mlist\u001b[39m[ArrayLike],\n\u001b[0;32m   2181\u001b[0m     axes: \u001b[38;5;28mlist\u001b[39m[Index],\n\u001b[1;32m   (...)\u001b[0m\n\u001b[0;32m   2192\u001b[0m     \u001b[38;5;66;03m# These last three are sufficient to allow us to safely pass\u001b[39;00m\n\u001b[0;32m   2193\u001b[0m     \u001b[38;5;66;03m#  verify_integrity=False below.\u001b[39;00m\n\u001b[0;32m   2195\u001b[0m     \u001b[38;5;28;01mtry\u001b[39;00m:\n\u001b[1;32m-> 2196\u001b[0m         blocks \u001b[38;5;241m=\u001b[39m \u001b[43m_form_blocks\u001b[49m\u001b[43m(\u001b[49m\u001b[43marrays\u001b[49m\u001b[43m,\u001b[49m\u001b[43m \u001b[49m\u001b[43mconsolidate\u001b[49m\u001b[43m)\u001b[49m\n\u001b[0;32m   2197\u001b[0m         mgr \u001b[38;5;241m=\u001b[39m BlockManager(blocks, axes, verify_integrity\u001b[38;5;241m=\u001b[39m\u001b[38;5;28;01mFalse\u001b[39;00m)\n\u001b[0;32m   2198\u001b[0m     \u001b[38;5;28;01mexcept\u001b[39;00m \u001b[38;5;167;01mValueError\u001b[39;00m \u001b[38;5;28;01mas\u001b[39;00m e:\n",
      "File \u001b[1;32mC:\\miniconda3\\lib\\site-packages\\pandas\\core\\internals\\managers.py:2270\u001b[0m, in \u001b[0;36m_form_blocks\u001b[1;34m(arrays, consolidate)\u001b[0m\n\u001b[0;32m   2267\u001b[0m \u001b[38;5;28;01mif\u001b[39;00m \u001b[38;5;28missubclass\u001b[39m(dtype\u001b[38;5;241m.\u001b[39mtype, (\u001b[38;5;28mstr\u001b[39m, \u001b[38;5;28mbytes\u001b[39m)):\n\u001b[0;32m   2268\u001b[0m     dtype \u001b[38;5;241m=\u001b[39m np\u001b[38;5;241m.\u001b[39mdtype(\u001b[38;5;28mobject\u001b[39m)\n\u001b[1;32m-> 2270\u001b[0m values, placement \u001b[38;5;241m=\u001b[39m \u001b[43m_stack_arrays\u001b[49m\u001b[43m(\u001b[49m\u001b[38;5;28;43mlist\u001b[39;49m\u001b[43m(\u001b[49m\u001b[43mtup_block\u001b[49m\u001b[43m)\u001b[49m\u001b[43m,\u001b[49m\u001b[43m \u001b[49m\u001b[43mdtype\u001b[49m\u001b[43m)\u001b[49m\n\u001b[0;32m   2271\u001b[0m \u001b[38;5;28;01mif\u001b[39;00m is_dtlike:\n\u001b[0;32m   2272\u001b[0m     values \u001b[38;5;241m=\u001b[39m ensure_wrapped_if_datetimelike(values)\n",
      "File \u001b[1;32mC:\\miniconda3\\lib\\site-packages\\pandas\\core\\internals\\managers.py:2309\u001b[0m, in \u001b[0;36m_stack_arrays\u001b[1;34m(tuples, dtype)\u001b[0m\n\u001b[0;32m   2306\u001b[0m first \u001b[38;5;241m=\u001b[39m arrays[\u001b[38;5;241m0\u001b[39m]\n\u001b[0;32m   2307\u001b[0m shape \u001b[38;5;241m=\u001b[39m (\u001b[38;5;28mlen\u001b[39m(arrays),) \u001b[38;5;241m+\u001b[39m first\u001b[38;5;241m.\u001b[39mshape\n\u001b[1;32m-> 2309\u001b[0m stacked \u001b[38;5;241m=\u001b[39m \u001b[43mnp\u001b[49m\u001b[38;5;241;43m.\u001b[39;49m\u001b[43mempty\u001b[49m\u001b[43m(\u001b[49m\u001b[43mshape\u001b[49m\u001b[43m,\u001b[49m\u001b[43m \u001b[49m\u001b[43mdtype\u001b[49m\u001b[38;5;241;43m=\u001b[39;49m\u001b[43mdtype\u001b[49m\u001b[43m)\u001b[49m\n\u001b[0;32m   2310\u001b[0m \u001b[38;5;28;01mfor\u001b[39;00m i, arr \u001b[38;5;129;01min\u001b[39;00m \u001b[38;5;28menumerate\u001b[39m(arrays):\n\u001b[0;32m   2311\u001b[0m     stacked[i] \u001b[38;5;241m=\u001b[39m arr\n",
      "\u001b[1;31mMemoryError\u001b[0m: Unable to allocate 2.74 GiB for an array with shape (2, 183558217) and data type object"
     ]
    },
    {
     "data": {
      "application/javascript": [
       "\n",
       "            setTimeout(function() {\n",
       "                var nbb_cell_id = 81;\n",
       "                var nbb_unformatted_code = \"ratings_cross = pd.crosstab(\\n    ratings.pirkejo_id, ratings.nom_id, ratings.rating, aggfunc=sum\\n).fillna(0)\\n\\nR = csr_matrix(ratings_cross.values)\\npirkejai = ratings_cross.reset_index(0)[[\\\"pirkejo_id\\\"]]\";\n",
       "                var nbb_formatted_code = \"ratings_cross = pd.crosstab(\\n    ratings.pirkejo_id, ratings.nom_id, ratings.rating, aggfunc=sum\\n).fillna(0)\\n\\nR = csr_matrix(ratings_cross.values)\\npirkejai = ratings_cross.reset_index(0)[[\\\"pirkejo_id\\\"]]\";\n",
       "                var nbb_cells = Jupyter.notebook.get_cells();\n",
       "                for (var i = 0; i < nbb_cells.length; ++i) {\n",
       "                    if (nbb_cells[i].input_prompt_number == nbb_cell_id) {\n",
       "                        if (nbb_cells[i].get_text() == nbb_unformatted_code) {\n",
       "                             nbb_cells[i].set_text(nbb_formatted_code);\n",
       "                        }\n",
       "                        break;\n",
       "                    }\n",
       "                }\n",
       "            }, 500);\n",
       "            "
      ],
      "text/plain": [
       "<IPython.core.display.Javascript object>"
      ]
     },
     "metadata": {},
     "output_type": "display_data"
    }
   ],
   "source": [
    "ratings_cross = pd.crosstab(\n",
    "    ratings.pirkejo_id, ratings.nom_id, ratings.rating, aggfunc=sum\n",
    ").fillna(0)\n",
    "\n",
    "R = csr_matrix(ratings_cross.values)\n",
    "pirkejai = ratings_cross.reset_index(0)[[\"pirkejo_id\"]]"
   ]
  },
  {
   "cell_type": "code",
   "execution_count": 82,
   "id": "48fddc99",
   "metadata": {
    "ExecuteTime": {
     "end_time": "2023-03-28T13:44:09.951390Z",
     "start_time": "2023-03-28T13:44:09.918446Z"
    }
   },
   "outputs": [
    {
     "ename": "NameError",
     "evalue": "name 'pirkejai' is not defined",
     "output_type": "error",
     "traceback": [
      "\u001b[1;31m---------------------------------------------------------------------------\u001b[0m",
      "\u001b[1;31mNameError\u001b[0m                                 Traceback (most recent call last)",
      "Cell \u001b[1;32mIn[82], line 1\u001b[0m\n\u001b[1;32m----> 1\u001b[0m \u001b[43mpirkejai\u001b[49m[pirkejai[\u001b[38;5;124m\"\u001b[39m\u001b[38;5;124mpirkejo_id\u001b[39m\u001b[38;5;124m\"\u001b[39m] \u001b[38;5;241m==\u001b[39m \u001b[38;5;124m\"\u001b[39m\u001b[38;5;124mA41515\u001b[39m\u001b[38;5;124m\"\u001b[39m]\u001b[38;5;241m.\u001b[39mindex[\u001b[38;5;241m0\u001b[39m]\n",
      "\u001b[1;31mNameError\u001b[0m: name 'pirkejai' is not defined"
     ]
    },
    {
     "data": {
      "application/javascript": [
       "\n",
       "            setTimeout(function() {\n",
       "                var nbb_cell_id = 82;\n",
       "                var nbb_unformatted_code = \"pirkejai[pirkejai[\\\"pirkejo_id\\\"] == \\\"A41515\\\"].index[0]\";\n",
       "                var nbb_formatted_code = \"pirkejai[pirkejai[\\\"pirkejo_id\\\"] == \\\"A41515\\\"].index[0]\";\n",
       "                var nbb_cells = Jupyter.notebook.get_cells();\n",
       "                for (var i = 0; i < nbb_cells.length; ++i) {\n",
       "                    if (nbb_cells[i].input_prompt_number == nbb_cell_id) {\n",
       "                        if (nbb_cells[i].get_text() == nbb_unformatted_code) {\n",
       "                             nbb_cells[i].set_text(nbb_formatted_code);\n",
       "                        }\n",
       "                        break;\n",
       "                    }\n",
       "                }\n",
       "            }, 500);\n",
       "            "
      ],
      "text/plain": [
       "<IPython.core.display.Javascript object>"
      ]
     },
     "metadata": {},
     "output_type": "display_data"
    }
   ],
   "source": [
    "pirkejai[pirkejai[\"pirkejo_id\"] == \"A41515\"].index[0]"
   ]
  },
  {
   "cell_type": "code",
   "execution_count": 39,
   "id": "8e806505",
   "metadata": {
    "ExecuteTime": {
     "end_time": "2023-03-26T15:36:24.132696Z",
     "start_time": "2023-03-26T15:36:23.970975Z"
    }
   },
   "outputs": [
    {
     "data": {
      "text/plain": [
       "Int64Index([ 4215, 26103, 26323, 26544, 26816, 27165, 27187, 30383, 43913,\n",
       "            63566, 63962, 64472, 69436],\n",
       "           dtype='int64')"
      ]
     },
     "execution_count": 39,
     "metadata": {},
     "output_type": "execute_result"
    },
    {
     "data": {
      "application/javascript": [
       "\n",
       "            setTimeout(function() {\n",
       "                var nbb_cell_id = 39;\n",
       "                var nbb_unformatted_code = \"ratings.pirkejo_id.index[ratings.pirkejo_id == \\\"A41515\\\"]\";\n",
       "                var nbb_formatted_code = \"ratings.pirkejo_id.index[ratings.pirkejo_id == \\\"A41515\\\"]\";\n",
       "                var nbb_cells = Jupyter.notebook.get_cells();\n",
       "                for (var i = 0; i < nbb_cells.length; ++i) {\n",
       "                    if (nbb_cells[i].input_prompt_number == nbb_cell_id) {\n",
       "                        if (nbb_cells[i].get_text() == nbb_unformatted_code) {\n",
       "                             nbb_cells[i].set_text(nbb_formatted_code);\n",
       "                        }\n",
       "                        break;\n",
       "                    }\n",
       "                }\n",
       "            }, 500);\n",
       "            "
      ],
      "text/plain": [
       "<IPython.core.display.Javascript object>"
      ]
     },
     "metadata": {},
     "output_type": "display_data"
    }
   ],
   "source": [
    "ratings.pirkejo_id.index[ratings.pirkejo_id == \"A41515\"]"
   ]
  },
  {
   "cell_type": "markdown",
   "id": "ba786552",
   "metadata": {},
   "source": [
    "Funkicja _nearest_neighbors()_ grąžina kiekvieno vartotojui artimiausių vartotojų sąrąša su atstumais"
   ]
  },
  {
   "cell_type": "code",
   "execution_count": 40,
   "id": "bb9f95a5",
   "metadata": {
    "ExecuteTime": {
     "end_time": "2023-03-26T15:36:24.302790Z",
     "start_time": "2023-03-26T15:36:24.156898Z"
    }
   },
   "outputs": [
    {
     "data": {
      "application/javascript": [
       "\n",
       "            setTimeout(function() {\n",
       "                var nbb_cell_id = 40;\n",
       "                var nbb_unformatted_code = \"def create_model(rating_matrix, metric):\\n    \\\"\\\"\\\"\\n    - create the nearest neighbors model with the corresponding similarity metric\\n    - fit the model\\n    \\\"\\\"\\\"\\n    model = NearestNeighbors(metric=metric, n_neighbors=21, algorithm=\\\"brute\\\")\\n    model.fit(rating_matrix)\\n    return model\\n\\n\\ndef nearest_neighbors(rating_matrix, model):\\n    \\\"\\\"\\\"\\n    :param rating_matrix : rating matrix of shape (nb_users, nb_items)\\n    :param model : nearest neighbors model\\n    :return\\n        - similarities : distances of the neighbors from the referenced user\\n        - neighbors : neighbors of the referenced user in decreasing order of similarities\\n    \\\"\\\"\\\"\\n    similarities, neighbors = model.kneighbors(rating_matrix)\\n    return similarities[:, 1:], neighbors[:, 1:]\";\n",
       "                var nbb_formatted_code = \"def create_model(rating_matrix, metric):\\n    \\\"\\\"\\\"\\n    - create the nearest neighbors model with the corresponding similarity metric\\n    - fit the model\\n    \\\"\\\"\\\"\\n    model = NearestNeighbors(metric=metric, n_neighbors=21, algorithm=\\\"brute\\\")\\n    model.fit(rating_matrix)\\n    return model\\n\\n\\ndef nearest_neighbors(rating_matrix, model):\\n    \\\"\\\"\\\"\\n    :param rating_matrix : rating matrix of shape (nb_users, nb_items)\\n    :param model : nearest neighbors model\\n    :return\\n        - similarities : distances of the neighbors from the referenced user\\n        - neighbors : neighbors of the referenced user in decreasing order of similarities\\n    \\\"\\\"\\\"\\n    similarities, neighbors = model.kneighbors(rating_matrix)\\n    return similarities[:, 1:], neighbors[:, 1:]\";\n",
       "                var nbb_cells = Jupyter.notebook.get_cells();\n",
       "                for (var i = 0; i < nbb_cells.length; ++i) {\n",
       "                    if (nbb_cells[i].input_prompt_number == nbb_cell_id) {\n",
       "                        if (nbb_cells[i].get_text() == nbb_unformatted_code) {\n",
       "                             nbb_cells[i].set_text(nbb_formatted_code);\n",
       "                        }\n",
       "                        break;\n",
       "                    }\n",
       "                }\n",
       "            }, 500);\n",
       "            "
      ],
      "text/plain": [
       "<IPython.core.display.Javascript object>"
      ]
     },
     "metadata": {},
     "output_type": "display_data"
    }
   ],
   "source": [
    "def create_model(rating_matrix, metric):\n",
    "    \"\"\"\n",
    "    - create the nearest neighbors model with the corresponding similarity metric\n",
    "    - fit the model\n",
    "    \"\"\"\n",
    "    model = NearestNeighbors(metric=metric, n_neighbors=21, algorithm=\"brute\")\n",
    "    model.fit(rating_matrix)\n",
    "    return model\n",
    "\n",
    "\n",
    "def nearest_neighbors(rating_matrix, model):\n",
    "    \"\"\"\n",
    "    :param rating_matrix : rating matrix of shape (nb_users, nb_items)\n",
    "    :param model : nearest neighbors model\n",
    "    :return\n",
    "        - similarities : distances of the neighbors from the referenced user\n",
    "        - neighbors : neighbors of the referenced user in decreasing order of similarities\n",
    "    \"\"\"\n",
    "    similarities, neighbors = model.kneighbors(rating_matrix)\n",
    "    return similarities[:, 1:], neighbors[:, 1:]"
   ]
  },
  {
   "cell_type": "code",
   "execution_count": 41,
   "id": "361693b0",
   "metadata": {
    "ExecuteTime": {
     "end_time": "2023-03-26T15:37:09.241914Z",
     "start_time": "2023-03-26T15:36:24.318870Z"
    }
   },
   "outputs": [
    {
     "data": {
      "application/javascript": [
       "\n",
       "            setTimeout(function() {\n",
       "                var nbb_cell_id = 41;\n",
       "                var nbb_unformatted_code = \"model = create_model(\\n    rating_matrix=R, metric=\\\"cosine\\\"\\n)  # we can also use the 'euclidian' distance\\nsimilarities, neighbors = nearest_neighbors(R, model)\";\n",
       "                var nbb_formatted_code = \"model = create_model(\\n    rating_matrix=R, metric=\\\"cosine\\\"\\n)  # we can also use the 'euclidian' distance\\nsimilarities, neighbors = nearest_neighbors(R, model)\";\n",
       "                var nbb_cells = Jupyter.notebook.get_cells();\n",
       "                for (var i = 0; i < nbb_cells.length; ++i) {\n",
       "                    if (nbb_cells[i].input_prompt_number == nbb_cell_id) {\n",
       "                        if (nbb_cells[i].get_text() == nbb_unformatted_code) {\n",
       "                             nbb_cells[i].set_text(nbb_formatted_code);\n",
       "                        }\n",
       "                        break;\n",
       "                    }\n",
       "                }\n",
       "            }, 500);\n",
       "            "
      ],
      "text/plain": [
       "<IPython.core.display.Javascript object>"
      ]
     },
     "metadata": {},
     "output_type": "display_data"
    }
   ],
   "source": [
    "model = create_model(\n",
    "    rating_matrix=R, metric=\"cosine\"\n",
    ")  # we can also use the 'euclidian' distance\n",
    "similarities, neighbors = nearest_neighbors(R, model)"
   ]
  },
  {
   "cell_type": "code",
   "execution_count": 42,
   "id": "8b072f59",
   "metadata": {
    "ExecuteTime": {
     "end_time": "2023-03-26T15:37:09.366899Z",
     "start_time": "2023-03-26T15:37:09.260179Z"
    }
   },
   "outputs": [
    {
     "data": {
      "text/plain": [
       "0          11078\n",
       "1         A13709\n",
       "2         A18899\n",
       "3         A92689\n",
       "4         A23895\n",
       "          ...   \n",
       "95185     A05224\n",
       "95186    C042351\n",
       "95187     A79835\n",
       "95188     B28618\n",
       "95189      06731\n",
       "Name: pirkejo_id, Length: 95190, dtype: object"
      ]
     },
     "execution_count": 42,
     "metadata": {},
     "output_type": "execute_result"
    },
    {
     "data": {
      "application/javascript": [
       "\n",
       "            setTimeout(function() {\n",
       "                var nbb_cell_id = 42;\n",
       "                var nbb_unformatted_code = \"ratings.pirkejo_id\";\n",
       "                var nbb_formatted_code = \"ratings.pirkejo_id\";\n",
       "                var nbb_cells = Jupyter.notebook.get_cells();\n",
       "                for (var i = 0; i < nbb_cells.length; ++i) {\n",
       "                    if (nbb_cells[i].input_prompt_number == nbb_cell_id) {\n",
       "                        if (nbb_cells[i].get_text() == nbb_unformatted_code) {\n",
       "                             nbb_cells[i].set_text(nbb_formatted_code);\n",
       "                        }\n",
       "                        break;\n",
       "                    }\n",
       "                }\n",
       "            }, 500);\n",
       "            "
      ],
      "text/plain": [
       "<IPython.core.display.Javascript object>"
      ]
     },
     "metadata": {},
     "output_type": "display_data"
    }
   ],
   "source": [
    "ratings.pirkejo_id"
   ]
  },
  {
   "cell_type": "markdown",
   "id": "3c08618d",
   "metadata": {},
   "source": [
    "Randame prekes-kandidatus"
   ]
  },
  {
   "cell_type": "code",
   "execution_count": 43,
   "id": "dc77e87a",
   "metadata": {
    "ExecuteTime": {
     "end_time": "2023-03-26T15:37:09.646720Z",
     "start_time": "2023-03-26T15:37:09.389722Z"
    },
    "code_folding": [
     0
    ]
   },
   "outputs": [
    {
     "data": {
      "application/javascript": [
       "\n",
       "            setTimeout(function() {\n",
       "                var nbb_cell_id = 43;\n",
       "                var nbb_unformatted_code = \"def find_candidate_items(pirkejo_id):\\n    \\\"\\\"\\\"\\n    Find candidate items for an active user\\n\\n    :param userid : active user\\n    :param neighbors : users similar to the active user\\n    :return candidates : top 30 of candidate items\\n    \\\"\\\"\\\"\\n    userid = pirkejai[pirkejai[\\\"pirkejo_id\\\"] == pirkejo_id].index[0]\\n    user_neighbors = neighbors[userid]\\n    activities = ratings.loc[ratings.index.isin(user_neighbors)]\\n    # sort items in decreasing order of frequency\\n\\n    frequency = (\\n        activities.groupby(\\\"nom_id\\\")[\\\"rating\\\"]\\n        .count()\\n        .reset_index(name=\\\"count\\\")\\n        .sort_values([\\\"count\\\"], ascending=False)\\n    )\\n    Gu_items = frequency.nom_id\\n    active_items = ratings.loc[ratings.pirkejo_id == pirkejo_id].nom_id.to_list()\\n    candidates = np.setdiff1d(Gu_items, active_items, assume_unique=True)[:30]\\n\\n    return candidates\";\n",
       "                var nbb_formatted_code = \"def find_candidate_items(pirkejo_id):\\n    \\\"\\\"\\\"\\n    Find candidate items for an active user\\n\\n    :param userid : active user\\n    :param neighbors : users similar to the active user\\n    :return candidates : top 30 of candidate items\\n    \\\"\\\"\\\"\\n    userid = pirkejai[pirkejai[\\\"pirkejo_id\\\"] == pirkejo_id].index[0]\\n    user_neighbors = neighbors[userid]\\n    activities = ratings.loc[ratings.index.isin(user_neighbors)]\\n    # sort items in decreasing order of frequency\\n\\n    frequency = (\\n        activities.groupby(\\\"nom_id\\\")[\\\"rating\\\"]\\n        .count()\\n        .reset_index(name=\\\"count\\\")\\n        .sort_values([\\\"count\\\"], ascending=False)\\n    )\\n    Gu_items = frequency.nom_id\\n    active_items = ratings.loc[ratings.pirkejo_id == pirkejo_id].nom_id.to_list()\\n    candidates = np.setdiff1d(Gu_items, active_items, assume_unique=True)[:30]\\n\\n    return candidates\";\n",
       "                var nbb_cells = Jupyter.notebook.get_cells();\n",
       "                for (var i = 0; i < nbb_cells.length; ++i) {\n",
       "                    if (nbb_cells[i].input_prompt_number == nbb_cell_id) {\n",
       "                        if (nbb_cells[i].get_text() == nbb_unformatted_code) {\n",
       "                             nbb_cells[i].set_text(nbb_formatted_code);\n",
       "                        }\n",
       "                        break;\n",
       "                    }\n",
       "                }\n",
       "            }, 500);\n",
       "            "
      ],
      "text/plain": [
       "<IPython.core.display.Javascript object>"
      ]
     },
     "metadata": {},
     "output_type": "display_data"
    }
   ],
   "source": [
    "def find_candidate_items(pirkejo_id):\n",
    "    \"\"\"\n",
    "    Find candidate items for an active user\n",
    "\n",
    "    :param userid : active user\n",
    "    :param neighbors : users similar to the active user\n",
    "    :return candidates : top 30 of candidate items\n",
    "    \"\"\"\n",
    "    userid = pirkejai[pirkejai[\"pirkejo_id\"] == pirkejo_id].index[0]\n",
    "    user_neighbors = neighbors[userid]\n",
    "    activities = ratings.loc[ratings.index.isin(user_neighbors)]\n",
    "    # sort items in decreasing order of frequency\n",
    "\n",
    "    frequency = (\n",
    "        activities.groupby(\"nom_id\")[\"rating\"]\n",
    "        .count()\n",
    "        .reset_index(name=\"count\")\n",
    "        .sort_values([\"count\"], ascending=False)\n",
    "    )\n",
    "    Gu_items = frequency.nom_id\n",
    "    active_items = ratings.loc[ratings.pirkejo_id == pirkejo_id].nom_id.to_list()\n",
    "    candidates = np.setdiff1d(Gu_items, active_items, assume_unique=True)[:30]\n",
    "\n",
    "    return candidates"
   ]
  },
  {
   "cell_type": "code",
   "execution_count": 44,
   "id": "b6e1af0b",
   "metadata": {
    "ExecuteTime": {
     "end_time": "2023-03-26T15:37:09.895834Z",
     "start_time": "2023-03-26T15:37:09.676552Z"
    }
   },
   "outputs": [
    {
     "data": {
      "text/plain": [
       "array(['0012219', '0010921', '0014239', '0019444', '0019329', '0019239',\n",
       "       '0018762', '0017377', '0016402', '0005814', '0006421', '0011763',\n",
       "       '0011731', '0009735', '0008922', '0008612', '0008610', '0022448'],\n",
       "      dtype=object)"
      ]
     },
     "execution_count": 44,
     "metadata": {},
     "output_type": "execute_result"
    },
    {
     "data": {
      "application/javascript": [
       "\n",
       "            setTimeout(function() {\n",
       "                var nbb_cell_id = 44;\n",
       "                var nbb_unformatted_code = \"pirkejas = \\\"A41515\\\"\\nfind_candidate_items(pirkejas)\";\n",
       "                var nbb_formatted_code = \"pirkejas = \\\"A41515\\\"\\nfind_candidate_items(pirkejas)\";\n",
       "                var nbb_cells = Jupyter.notebook.get_cells();\n",
       "                for (var i = 0; i < nbb_cells.length; ++i) {\n",
       "                    if (nbb_cells[i].input_prompt_number == nbb_cell_id) {\n",
       "                        if (nbb_cells[i].get_text() == nbb_unformatted_code) {\n",
       "                             nbb_cells[i].set_text(nbb_formatted_code);\n",
       "                        }\n",
       "                        break;\n",
       "                    }\n",
       "                }\n",
       "            }, 500);\n",
       "            "
      ],
      "text/plain": [
       "<IPython.core.display.Javascript object>"
      ]
     },
     "metadata": {},
     "output_type": "display_data"
    }
   ],
   "source": [
    "pirkejas = \"A41515\"\n",
    "find_candidate_items(pirkejas)"
   ]
  },
  {
   "cell_type": "markdown",
   "id": "e88d97db",
   "metadata": {
    "ExecuteTime": {
     "end_time": "2023-03-28T13:52:52.985330Z",
     "start_time": "2023-03-28T13:52:52.770438Z"
    }
   },
   "source": [
    "Reitingo prognozavimas įvertinant vidutinį kiekvieno pirkėjo reitingą."
   ]
  },
  {
   "cell_type": "code",
   "execution_count": 45,
   "id": "43dc0d1e",
   "metadata": {
    "ExecuteTime": {
     "end_time": "2023-03-26T15:37:10.968879Z",
     "start_time": "2023-03-26T15:37:09.921652Z"
    }
   },
   "outputs": [
    {
     "data": {
      "application/javascript": [
       "\n",
       "            setTimeout(function() {\n",
       "                var nbb_cell_id = 45;\n",
       "                var nbb_unformatted_code = \"# mean ratings for each user\\nmean = ratings.groupby(by=\\\"pirkejo_id\\\", as_index=False)[\\\"rating\\\"].mean()\\nmean_ratings = pd.merge(ratings, mean, suffixes=(\\\"\\\", \\\"_mean\\\"), on=\\\"pirkejo_id\\\")\\n\\n# normalized ratings for each items\\nmean_ratings[\\\"norm_rating\\\"] = mean_ratings[\\\"rating\\\"] - mean_ratings[\\\"rating_mean\\\"]\\n\\nmean = mean.to_numpy()[:, 1]\\nnp_ratings = mean_ratings.to_numpy()\";\n",
       "                var nbb_formatted_code = \"# mean ratings for each user\\nmean = ratings.groupby(by=\\\"pirkejo_id\\\", as_index=False)[\\\"rating\\\"].mean()\\nmean_ratings = pd.merge(ratings, mean, suffixes=(\\\"\\\", \\\"_mean\\\"), on=\\\"pirkejo_id\\\")\\n\\n# normalized ratings for each items\\nmean_ratings[\\\"norm_rating\\\"] = mean_ratings[\\\"rating\\\"] - mean_ratings[\\\"rating_mean\\\"]\\n\\nmean = mean.to_numpy()[:, 1]\\nnp_ratings = mean_ratings.to_numpy()\";\n",
       "                var nbb_cells = Jupyter.notebook.get_cells();\n",
       "                for (var i = 0; i < nbb_cells.length; ++i) {\n",
       "                    if (nbb_cells[i].input_prompt_number == nbb_cell_id) {\n",
       "                        if (nbb_cells[i].get_text() == nbb_unformatted_code) {\n",
       "                             nbb_cells[i].set_text(nbb_formatted_code);\n",
       "                        }\n",
       "                        break;\n",
       "                    }\n",
       "                }\n",
       "            }, 500);\n",
       "            "
      ],
      "text/plain": [
       "<IPython.core.display.Javascript object>"
      ]
     },
     "metadata": {},
     "output_type": "display_data"
    }
   ],
   "source": [
    "# mean ratings for each user\n",
    "mean = ratings.groupby(by=\"pirkejo_id\", as_index=False)[\"rating\"].mean()\n",
    "mean_ratings = pd.merge(ratings, mean, suffixes=(\"\", \"_mean\"), on=\"pirkejo_id\")\n",
    "\n",
    "# normalized ratings for each items\n",
    "mean_ratings[\"norm_rating\"] = mean_ratings[\"rating\"] - mean_ratings[\"rating_mean\"]\n",
    "\n",
    "mean = mean.to_numpy()[:, 1]\n",
    "np_ratings = mean_ratings.to_numpy()"
   ]
  },
  {
   "cell_type": "code",
   "execution_count": 46,
   "id": "cc2610b0",
   "metadata": {
    "ExecuteTime": {
     "end_time": "2023-03-26T15:37:11.261433Z",
     "start_time": "2023-03-26T15:37:10.996299Z"
    }
   },
   "outputs": [
    {
     "data": {
      "text/html": [
       "<div>\n",
       "<style scoped>\n",
       "    .dataframe tbody tr th:only-of-type {\n",
       "        vertical-align: middle;\n",
       "    }\n",
       "\n",
       "    .dataframe tbody tr th {\n",
       "        vertical-align: top;\n",
       "    }\n",
       "\n",
       "    .dataframe thead th {\n",
       "        text-align: right;\n",
       "    }\n",
       "</style>\n",
       "<table border=\"1\" class=\"dataframe\">\n",
       "  <thead>\n",
       "    <tr style=\"text-align: right;\">\n",
       "      <th></th>\n",
       "      <th>nom_id</th>\n",
       "      <th>pirkejo_id</th>\n",
       "      <th>rating</th>\n",
       "      <th>rating_mean</th>\n",
       "      <th>norm_rating</th>\n",
       "    </tr>\n",
       "  </thead>\n",
       "  <tbody>\n",
       "    <tr>\n",
       "      <th>26536</th>\n",
       "      <td>0025234</td>\n",
       "      <td>A41515</td>\n",
       "      <td>0.588235</td>\n",
       "      <td>1.719457</td>\n",
       "      <td>-1.131222</td>\n",
       "    </tr>\n",
       "  </tbody>\n",
       "</table>\n",
       "</div>"
      ],
      "text/plain": [
       "        nom_id pirkejo_id    rating  rating_mean  norm_rating\n",
       "26536  0025234     A41515  0.588235     1.719457    -1.131222"
      ]
     },
     "execution_count": 46,
     "metadata": {},
     "output_type": "execute_result"
    },
    {
     "data": {
      "application/javascript": [
       "\n",
       "            setTimeout(function() {\n",
       "                var nbb_cell_id = 46;\n",
       "                var nbb_unformatted_code = \"mean_ratings[\\n    (mean_ratings[\\\"pirkejo_id\\\"] == pirkejas) & (mean_ratings[\\\"nom_id\\\"] == \\\"0025234\\\")\\n]\";\n",
       "                var nbb_formatted_code = \"mean_ratings[\\n    (mean_ratings[\\\"pirkejo_id\\\"] == pirkejas) & (mean_ratings[\\\"nom_id\\\"] == \\\"0025234\\\")\\n]\";\n",
       "                var nbb_cells = Jupyter.notebook.get_cells();\n",
       "                for (var i = 0; i < nbb_cells.length; ++i) {\n",
       "                    if (nbb_cells[i].input_prompt_number == nbb_cell_id) {\n",
       "                        if (nbb_cells[i].get_text() == nbb_unformatted_code) {\n",
       "                             nbb_cells[i].set_text(nbb_formatted_code);\n",
       "                        }\n",
       "                        break;\n",
       "                    }\n",
       "                }\n",
       "            }, 500);\n",
       "            "
      ],
      "text/plain": [
       "<IPython.core.display.Javascript object>"
      ]
     },
     "metadata": {},
     "output_type": "display_data"
    }
   ],
   "source": [
    "mean_ratings[\n",
    "    (mean_ratings[\"pirkejo_id\"] == pirkejas) & (mean_ratings[\"nom_id\"] == \"0025234\")\n",
    "]"
   ]
  },
  {
   "cell_type": "code",
   "execution_count": 47,
   "id": "f3a2a915",
   "metadata": {
    "ExecuteTime": {
     "end_time": "2023-03-26T15:37:11.354297Z",
     "start_time": "2023-03-26T15:37:11.288432Z"
    }
   },
   "outputs": [
    {
     "data": {
      "text/plain": [
       "array(['11078', '11078', '11078', ..., 'A67196', 'B51475', 'A59900'],\n",
       "      dtype=object)"
      ]
     },
     "execution_count": 47,
     "metadata": {},
     "output_type": "execute_result"
    },
    {
     "data": {
      "application/javascript": [
       "\n",
       "            setTimeout(function() {\n",
       "                var nbb_cell_id = 47;\n",
       "                var nbb_unformatted_code = \"np_ratings[:, 1]\";\n",
       "                var nbb_formatted_code = \"np_ratings[:, 1]\";\n",
       "                var nbb_cells = Jupyter.notebook.get_cells();\n",
       "                for (var i = 0; i < nbb_cells.length; ++i) {\n",
       "                    if (nbb_cells[i].input_prompt_number == nbb_cell_id) {\n",
       "                        if (nbb_cells[i].get_text() == nbb_unformatted_code) {\n",
       "                             nbb_cells[i].set_text(nbb_formatted_code);\n",
       "                        }\n",
       "                        break;\n",
       "                    }\n",
       "                }\n",
       "            }, 500);\n",
       "            "
      ],
      "text/plain": [
       "<IPython.core.display.Javascript object>"
      ]
     },
     "metadata": {},
     "output_type": "display_data"
    }
   ],
   "source": [
    "np_ratings[:, 1]\n"
   ]
  },
  {
   "cell_type": "code",
   "execution_count": 48,
   "id": "87b793b2",
   "metadata": {
    "ExecuteTime": {
     "end_time": "2023-03-26T15:37:11.648453Z",
     "start_time": "2023-03-26T15:37:11.377420Z"
    },
    "code_folding": []
   },
   "outputs": [
    {
     "data": {
      "application/javascript": [
       "\n",
       "            setTimeout(function() {\n",
       "                var nbb_cell_id = 48;\n",
       "                var nbb_unformatted_code = \"def predict(pirkejo_id, itemid):\\n    \\\"\\\"\\\"\\n    predict what score userid would have given to itemid.\\n\\n    :param\\n        - userid : user id for which we want to make prediction\\n        - itemid : item id on which we want to make prediction\\n\\n    :return\\n        - r_hat : predicted rating of user userid on item itemid\\n    \\\"\\\"\\\"\\n    userid = pirkejai[pirkejai[\\\"pirkejo_id\\\"] == pirkejo_id].index[0]\\n    user_similarities = similarities[userid]\\n    user_neighbors = neighbors[userid]\\n    # get mean rating of user userid\\n    user_mean = mean[userid]\\n    #     print(f\\\"{user_mean=}\\\")\\n\\n    # find users who rated item 'itemid'\\n    iratings = np_ratings[np_ratings[:, 1] == itemid]\\n    #     print(f\\\"{iratings=}\\\")\\n\\n    # find similar users to 'userid' who rated item 'itemid'\\n    suri = iratings[np.isin(iratings[:, 0], user_neighbors)]\\n    #     print(f\\\"{suri=}\\\")\\n    # similar users who rated current item (surci)\\n    normalized_ratings = suri[:, 4]\\n    indexes = [\\n        np.where(user_neighbors == uid)[0][0] for uid in suri[:, 0].astype(\\\"int\\\")\\n    ]\\n    sims = user_similarities[indexes]\\n\\n    num = np.dot(normalized_ratings, sims)\\n    den = np.sum(np.abs(sims))\\n\\n    if num == 0 or den == 0:\\n        return user_mean\\n\\n    r_hat = user_mean + np.dot(normalized_ratings, sims) / np.sum(np.abs(sims))\\n\\n    return r_hat\";\n",
       "                var nbb_formatted_code = \"def predict(pirkejo_id, itemid):\\n    \\\"\\\"\\\"\\n    predict what score userid would have given to itemid.\\n\\n    :param\\n        - userid : user id for which we want to make prediction\\n        - itemid : item id on which we want to make prediction\\n\\n    :return\\n        - r_hat : predicted rating of user userid on item itemid\\n    \\\"\\\"\\\"\\n    userid = pirkejai[pirkejai[\\\"pirkejo_id\\\"] == pirkejo_id].index[0]\\n    user_similarities = similarities[userid]\\n    user_neighbors = neighbors[userid]\\n    # get mean rating of user userid\\n    user_mean = mean[userid]\\n    #     print(f\\\"{user_mean=}\\\")\\n\\n    # find users who rated item 'itemid'\\n    iratings = np_ratings[np_ratings[:, 1] == itemid]\\n    #     print(f\\\"{iratings=}\\\")\\n\\n    # find similar users to 'userid' who rated item 'itemid'\\n    suri = iratings[np.isin(iratings[:, 0], user_neighbors)]\\n    #     print(f\\\"{suri=}\\\")\\n    # similar users who rated current item (surci)\\n    normalized_ratings = suri[:, 4]\\n    indexes = [\\n        np.where(user_neighbors == uid)[0][0] for uid in suri[:, 0].astype(\\\"int\\\")\\n    ]\\n    sims = user_similarities[indexes]\\n\\n    num = np.dot(normalized_ratings, sims)\\n    den = np.sum(np.abs(sims))\\n\\n    if num == 0 or den == 0:\\n        return user_mean\\n\\n    r_hat = user_mean + np.dot(normalized_ratings, sims) / np.sum(np.abs(sims))\\n\\n    return r_hat\";\n",
       "                var nbb_cells = Jupyter.notebook.get_cells();\n",
       "                for (var i = 0; i < nbb_cells.length; ++i) {\n",
       "                    if (nbb_cells[i].input_prompt_number == nbb_cell_id) {\n",
       "                        if (nbb_cells[i].get_text() == nbb_unformatted_code) {\n",
       "                             nbb_cells[i].set_text(nbb_formatted_code);\n",
       "                        }\n",
       "                        break;\n",
       "                    }\n",
       "                }\n",
       "            }, 500);\n",
       "            "
      ],
      "text/plain": [
       "<IPython.core.display.Javascript object>"
      ]
     },
     "metadata": {},
     "output_type": "display_data"
    }
   ],
   "source": [
    "def predict(pirkejo_id, itemid):\n",
    "    \"\"\"\n",
    "    predict what score userid would have given to itemid.\n",
    "\n",
    "    :param\n",
    "        - userid : user id for which we want to make prediction\n",
    "        - itemid : item id on which we want to make prediction\n",
    "\n",
    "    :return\n",
    "        - r_hat : predicted rating of user userid on item itemid\n",
    "    \"\"\"\n",
    "    userid = pirkejai[pirkejai[\"pirkejo_id\"] == pirkejo_id].index[0]\n",
    "    user_similarities = similarities[userid]\n",
    "    user_neighbors = neighbors[userid]\n",
    "    # get mean rating of user userid\n",
    "    user_mean = mean[userid]\n",
    "    #     print(f\"{user_mean=}\")\n",
    "\n",
    "    # find users who rated item 'itemid'\n",
    "    iratings = np_ratings[np_ratings[:, 1] == itemid]\n",
    "    #     print(f\"{iratings=}\")\n",
    "\n",
    "    # find similar users to 'userid' who rated item 'itemid'\n",
    "    suri = iratings[np.isin(iratings[:, 0], user_neighbors)]\n",
    "    #     print(f\"{suri=}\")\n",
    "    # similar users who rated current item (surci)\n",
    "    normalized_ratings = suri[:, 4]\n",
    "    indexes = [\n",
    "        np.where(user_neighbors == uid)[0][0] for uid in suri[:, 0].astype(\"int\")\n",
    "    ]\n",
    "    sims = user_similarities[indexes]\n",
    "\n",
    "    num = np.dot(normalized_ratings, sims)\n",
    "    den = np.sum(np.abs(sims))\n",
    "\n",
    "    if num == 0 or den == 0:\n",
    "        return user_mean\n",
    "\n",
    "    r_hat = user_mean + np.dot(normalized_ratings, sims) / np.sum(np.abs(sims))\n",
    "\n",
    "    return r_hat"
   ]
  },
  {
   "cell_type": "code",
   "execution_count": 49,
   "id": "b0b5357e",
   "metadata": {
    "ExecuteTime": {
     "end_time": "2023-03-26T15:37:11.772490Z",
     "start_time": "2023-03-26T15:37:11.667956Z"
    }
   },
   "outputs": [
    {
     "data": {
      "text/plain": [
       "1.7194570135746605"
      ]
     },
     "execution_count": 49,
     "metadata": {},
     "output_type": "execute_result"
    },
    {
     "data": {
      "application/javascript": [
       "\n",
       "            setTimeout(function() {\n",
       "                var nbb_cell_id = 49;\n",
       "                var nbb_unformatted_code = \"predict(pirkejas, \\\"0025234\\\")\";\n",
       "                var nbb_formatted_code = \"predict(pirkejas, \\\"0025234\\\")\";\n",
       "                var nbb_cells = Jupyter.notebook.get_cells();\n",
       "                for (var i = 0; i < nbb_cells.length; ++i) {\n",
       "                    if (nbb_cells[i].input_prompt_number == nbb_cell_id) {\n",
       "                        if (nbb_cells[i].get_text() == nbb_unformatted_code) {\n",
       "                             nbb_cells[i].set_text(nbb_formatted_code);\n",
       "                        }\n",
       "                        break;\n",
       "                    }\n",
       "                }\n",
       "            }, 500);\n",
       "            "
      ],
      "text/plain": [
       "<IPython.core.display.Javascript object>"
      ]
     },
     "metadata": {},
     "output_type": "display_data"
    }
   ],
   "source": [
    "predict(pirkejas, \"0025234\")"
   ]
  },
  {
   "cell_type": "code",
   "execution_count": 54,
   "id": "e3a2887d",
   "metadata": {
    "ExecuteTime": {
     "end_time": "2023-03-26T16:54:02.803352Z",
     "start_time": "2023-03-26T16:54:02.774355Z"
    },
    "code_folding": []
   },
   "outputs": [
    {
     "data": {
      "application/javascript": [
       "\n",
       "            setTimeout(function() {\n",
       "                var nbb_cell_id = 54;\n",
       "                var nbb_unformatted_code = \"def user2userPredictions(pirkejo_id, pred_path):\\n    \\\"\\\"\\\"\\n    Make rating prediction for the active user on each candidate item and save in file prediction.csv\\n\\n    :param\\n        - userid : id of the active user\\n        - pred_path : where to save predictions\\n    \\\"\\\"\\\"\\n    # find candidate items for the active user\\n    candidates = find_candidate_items(pirkejo_id)\\n    print(f\\\"{candidates[0]=}\\\")\\n    # loop over candidates items to make predictions\\n    for itemid in candidates:\\n        # prediction for userid on itemid\\n        r_hat = predict(pirkejo_id, itemid)\\n        print(f\\\"{r_hat=}\\\")\\n        # save predictions\\n        with open(pred_path, \\\"a+\\\") as file:\\n            line = \\\"{},{},{}\\\\n\\\".format(pirkejo_id, itemid, r_hat)\\n            file.write(line)\";\n",
       "                var nbb_formatted_code = \"def user2userPredictions(pirkejo_id, pred_path):\\n    \\\"\\\"\\\"\\n    Make rating prediction for the active user on each candidate item and save in file prediction.csv\\n\\n    :param\\n        - userid : id of the active user\\n        - pred_path : where to save predictions\\n    \\\"\\\"\\\"\\n    # find candidate items for the active user\\n    candidates = find_candidate_items(pirkejo_id)\\n    print(f\\\"{candidates[0]=}\\\")\\n    # loop over candidates items to make predictions\\n    for itemid in candidates:\\n        # prediction for userid on itemid\\n        r_hat = predict(pirkejo_id, itemid)\\n        print(f\\\"{r_hat=}\\\")\\n        # save predictions\\n        with open(pred_path, \\\"a+\\\") as file:\\n            line = \\\"{},{},{}\\\\n\\\".format(pirkejo_id, itemid, r_hat)\\n            file.write(line)\";\n",
       "                var nbb_cells = Jupyter.notebook.get_cells();\n",
       "                for (var i = 0; i < nbb_cells.length; ++i) {\n",
       "                    if (nbb_cells[i].input_prompt_number == nbb_cell_id) {\n",
       "                        if (nbb_cells[i].get_text() == nbb_unformatted_code) {\n",
       "                             nbb_cells[i].set_text(nbb_formatted_code);\n",
       "                        }\n",
       "                        break;\n",
       "                    }\n",
       "                }\n",
       "            }, 500);\n",
       "            "
      ],
      "text/plain": [
       "<IPython.core.display.Javascript object>"
      ]
     },
     "metadata": {},
     "output_type": "display_data"
    }
   ],
   "source": [
    "def user2userPredictions(pirkejo_id, pred_path):\n",
    "    \"\"\"\n",
    "    Make rating prediction for the active user on each candidate item and save in file prediction.csv\n",
    "\n",
    "    :param\n",
    "        - userid : id of the active user\n",
    "        - pred_path : where to save predictions\n",
    "    \"\"\"\n",
    "    # find candidate items for the active user\n",
    "    candidates = find_candidate_items(pirkejo_id)\n",
    "    print(f\"{candidates[0]=}\")\n",
    "    # loop over candidates items to make predictions\n",
    "    for itemid in candidates:\n",
    "        # prediction for userid on itemid\n",
    "        r_hat = predict(pirkejo_id, itemid)\n",
    "        print(f\"{r_hat=}\")\n",
    "        # save predictions\n",
    "        with open(pred_path, \"a+\") as file:\n",
    "            line = \"{},{},{}\\n\".format(pirkejo_id, itemid, r_hat)\n",
    "            file.write(line)"
   ]
  },
  {
   "cell_type": "code",
   "execution_count": 55,
   "id": "1f7f0774",
   "metadata": {
    "ExecuteTime": {
     "end_time": "2023-03-26T16:54:06.198012Z",
     "start_time": "2023-03-26T16:54:06.171399Z"
    },
    "code_folding": []
   },
   "outputs": [
    {
     "ename": "IndentationError",
     "evalue": "unexpected indent (2947329643.py, line 16)",
     "output_type": "error",
     "traceback": [
      "\u001b[1;36m  Cell \u001b[1;32mIn[55], line 16\u001b[1;36m\u001b[0m\n\u001b[1;33m    if os.path.exists(saved_predictions):\u001b[0m\n\u001b[1;37m    ^\u001b[0m\n\u001b[1;31mIndentationError\u001b[0m\u001b[1;31m:\u001b[0m unexpected indent\n"
     ]
    },
    {
     "name": "stderr",
     "output_type": "stream",
     "text": [
      "ERROR:root:Cannot parse: 16:0:         if os.path.exists(saved_predictions):\n",
      "Traceback (most recent call last):\n",
      "  File \"C:\\miniconda3\\envs\\code_academy\\lib\\site-packages\\lab_black.py\", line 218, in format_cell\n",
      "    formatted_code = _format_code(cell)\n",
      "  File \"C:\\miniconda3\\envs\\code_academy\\lib\\site-packages\\lab_black.py\", line 29, in _format_code\n",
      "    return format_str(src_contents=code, mode=FileMode())\n",
      "  File \"C:\\miniconda3\\envs\\code_academy\\lib\\site-packages\\black\\__init__.py\", line 1079, in format_str\n",
      "    dst_contents = _format_str_once(src_contents, mode=mode)\n",
      "  File \"C:\\miniconda3\\envs\\code_academy\\lib\\site-packages\\black\\__init__.py\", line 1089, in _format_str_once\n",
      "    src_node = lib2to3_parse(src_contents.lstrip(), mode.target_versions)\n",
      "  File \"C:\\miniconda3\\envs\\code_academy\\lib\\site-packages\\black\\parsing.py\", line 127, in lib2to3_parse\n",
      "    raise exc from None\n",
      "black.parsing.InvalidInput: Cannot parse: 16:0:         if os.path.exists(saved_predictions):\n"
     ]
    }
   ],
   "source": [
    "def user2userCF():\n",
    "    \"\"\"\n",
    "    Make predictions for each user in the database.\n",
    "    \"\"\"\n",
    "    # get list of users in the database\n",
    "    users = ratings.pirkejo_id.unique()\n",
    "\n",
    "    def _progress(count):\n",
    "        sys.stdout.write(\n",
    "            \"\\rRating predictions. Progress status : %.1f%%\\n\"\n",
    "            % (float(count / len(users)) * 100.0)\n",
    "        )\n",
    "        sys.stdout.flush()\n",
    "\n",
    "    saved_predictions = \"predictions.csv\"\n",
    "        if os.path.exists(saved_predictions):\n",
    "            os.remove(saved_predictions)\n",
    "\n",
    "    for count, pirkejo_id in enumerate(users[:5]):\n",
    "        # make rating predictions for the current user\n",
    "        user2userPredictions(pirkejo_id, saved_predictions)\n",
    "        _progress(count)"
   ]
  },
  {
   "cell_type": "code",
   "execution_count": null,
   "id": "aa9fc06c",
   "metadata": {
    "ExecuteTime": {
     "end_time": "2023-03-26T15:37:12.375852Z",
     "start_time": "2023-03-26T15:37:12.374229Z"
    }
   },
   "outputs": [],
   "source": [
    "user2userCF()"
   ]
  },
  {
   "cell_type": "code",
   "execution_count": null,
   "id": "5d2fd96e",
   "metadata": {
    "ExecuteTime": {
     "end_time": "2023-03-26T15:37:12.398005Z",
     "start_time": "2023-03-26T15:37:12.398005Z"
    },
    "code_folding": [
     0
    ]
   },
   "outputs": [],
   "source": [
    "def user2userRecommendation(userid):\n",
    "    \"\"\" \"\"\"\n",
    "    # encode the userid\n",
    "    #     uid = uencoder.transform([userid])[0]\n",
    "    uid = userid\n",
    "    saved_predictions = \"predictions.csv\"\n",
    "\n",
    "    predictions = pd.read_csv(\n",
    "        saved_predictions, sep=\",\", names=[\"userid\", \"itemid\", \"predicted_rating\"]\n",
    "    )\n",
    "    predictions = predictions[predictions.userid == uid]\n",
    "    List = predictions.sort_values(by=[\"predicted_rating\"], ascending=False)\n",
    "    print(uid)\n",
    "    print(List)\n",
    "    print(prekes)\n",
    "    #     List.userid = uencoder.inverse_transform(List.userid.tolist())\n",
    "    #     List.itemid = iencoder.inverse_transform(List.itemid.tolist())\n",
    "\n",
    "    #     List = pd.merge(List, prekes, left_on=\"itemid\", right_on=\"nom_id\" how=\"inner\")\n",
    "\n",
    "    return List"
   ]
  },
  {
   "cell_type": "code",
   "execution_count": null,
   "id": "56f24041",
   "metadata": {
    "ExecuteTime": {
     "end_time": "2023-03-26T15:37:12.420546Z",
     "start_time": "2023-03-26T15:37:12.420546Z"
    }
   },
   "outputs": [],
   "source": [
    "user2userRecommendation(\"00135\")"
   ]
  },
  {
   "cell_type": "code",
   "execution_count": null,
   "id": "b057557c",
   "metadata": {},
   "outputs": [],
   "source": [
    "def find_candidate_items(userid):\n",
    "    \"\"\"\n",
    "    Find candidate items for an active user\n",
    "    \n",
    "    :param userid : active user\n",
    "    :param neighbors : users similar to the active user        \n",
    "    :return candidates : top 30 of candidate items\n",
    "    \"\"\"\n",
    "    user_neighbors = neighbors[userid]\n",
    "    activities = ratings.loc[ratings.userid.isin(user_neighbors)]\n",
    "    \n",
    "    # sort items in decreasing order of frequency\n",
    "    frequency = activities.groupby('itemid')['rating'].count().reset_index(name='count').sort_values(['count'],ascending=False)\n",
    "    Gu_items = frequency.itemid\n",
    "    active_items = ratings.loc[ratings.userid == userid].itemid.to_list()\n",
    "    candidates = np.setdiff1d(Gu_items, active_items, assume_unique=True)[:30]\n",
    "        \n",
    "    return candidates"
   ]
  }
 ],
 "metadata": {
  "hide_input": false,
  "kernelspec": {
   "display_name": "Python 3 (ipykernel)",
   "language": "python",
   "name": "python3"
  },
  "language_info": {
   "codemirror_mode": {
    "name": "ipython",
    "version": 3
   },
   "file_extension": ".py",
   "mimetype": "text/x-python",
   "name": "python",
   "nbconvert_exporter": "python",
   "pygments_lexer": "ipython3",
   "version": "3.10.9"
  },
  "toc": {
   "base_numbering": 1,
   "nav_menu": {
    "height": "190px",
    "width": "230px"
   },
   "number_sections": true,
   "sideBar": true,
   "skip_h1_title": false,
   "title_cell": "Table of Contents",
   "title_sidebar": "Contents",
   "toc_cell": false,
   "toc_position": {},
   "toc_section_display": true,
   "toc_window_display": false
  },
  "varInspector": {
   "cols": {
    "lenName": 16,
    "lenType": 16,
    "lenVar": 40
   },
   "kernels_config": {
    "python": {
     "delete_cmd_postfix": "",
     "delete_cmd_prefix": "del ",
     "library": "var_list.py",
     "varRefreshCmd": "print(var_dic_list())"
    },
    "r": {
     "delete_cmd_postfix": ") ",
     "delete_cmd_prefix": "rm(",
     "library": "var_list.r",
     "varRefreshCmd": "cat(var_dic_list()) "
    }
   },
   "types_to_exclude": [
    "module",
    "function",
    "builtin_function_or_method",
    "instance",
    "_Feature"
   ],
   "window_display": false
  }
 },
 "nbformat": 4,
 "nbformat_minor": 5
}
